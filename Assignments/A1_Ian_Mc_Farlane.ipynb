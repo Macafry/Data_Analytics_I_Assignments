{
  "nbformat": 4,
  "nbformat_minor": 0,
  "metadata": {
    "colab": {
      "provenance": [],
      "collapsed_sections": []
    },
    "kernelspec": {
      "name": "python3",
      "display_name": "Python 3"
    }
  },
  "cells": [
    {
      "cell_type": "markdown",
      "metadata": {
        "id": "QTnw9i31t9n0"
      },
      "source": [
        "#<center> Résumé of Ian Mc Farlane </center>\n",
        "\n",
        "\n",
        "## Contact\n",
        "Email: [ianandresmcfarlanega@suumail.net](mailto:ianandresmcfarlanega@suumail.net)\n",
        "Website: [linkedin.com/in/ian-mc-farlane-3437a624b](https://www.linkedin.com/in/ian-mc-farlane-3437a624b/)\n",
        "\n",
        "\n",
        "## Summary\n",
        "\n",
        "Computer Science Student at Southern Utah University pursuing a career in data engineering. I'm an avid learner ready to acquire some Data Analytics skills.\n",
        "\n",
        "## Education\n",
        "\n",
        "**BA, Compurter Science**   2024\\\n",
        "*Southern Utah University, Cedar City, UT*\n",
        "\n",
        "\n",
        "\n",
        "---\n",
        "\n",
        "\n",
        "## Work Experience\n",
        "\n",
        "**NONE**   2002–Current\n",
        "\n",
        "---\n",
        "\n",
        "\n",
        "## Skills\n",
        "\n",
        "**Modeling/Optimization**   Linear Programming, Discrete Modeling, Continuous Modeling\\\n",
        "**Computing**   Python, R, SQL, Java, C, C++, C#, F#, Lua, Scheme\n",
        "\n",
        "---\n",
        "\n",
        "## Professional Interests\n",
        "\n",
        "Big data, machine learning, computer vision, computer graphics\n",
        "\n",
        "## Personal\n",
        "Cycling, Hiking, Walking, Music, Videogames\n"
      ]
    },
    {
      "cell_type": "code",
      "metadata": {
        "id": "w2NiSOtxws3W"
      },
      "source": [],
      "execution_count": null,
      "outputs": []
    }
  ]
}