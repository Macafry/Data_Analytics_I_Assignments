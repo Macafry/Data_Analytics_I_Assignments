{
  "nbformat": 4,
  "nbformat_minor": 0,
  "metadata": {
    "colab": {
      "provenance": [],
      "collapsed_sections": []
    },
    "kernelspec": {
      "name": "python3",
      "display_name": "Python 3"
    }
  },
  "cells": [
    {
      "cell_type": "markdown",
      "metadata": {
        "id": "fQCckftPtiho"
      },
      "source": [
        "# Assignment 3 - Working with data\n",
        "\n",
        "**Rationale**. In this assignment, you will practice reading/writing common dataset formats, execute conditional subsetting of data, merge data, and perform groupby summaries. \n",
        "\n",
        "Please comment your code for potential partial credit and to explain to me that you understand what you are doing. As always, feel free to add additional cells.\n",
        "\n",
        "For any questions that requires a **text answer: make sure to type your answers in a text cell.**\n",
        "\n",
        "(Make sure you've ) Save(d) the [datasets](https://drive.google.com/drive/folders/1wpphG0kRidK8W9DT79spBufId8jWCUvC?usp=sharing) in this folder to your Google Drive.\n",
        "\n",
        "1. [Quebec Yelp Reviews](https://drive.google.com/file/d/1pmnps16-kI8VJaIizNXaOFyW0IZs_pZo/view?usp=sharing)\n",
        "1.  [Quebec Business Info](https://drive.google.com/file/d/1eT72WiYI7xXT7wiNfo2w1uhxVC0qIage/view?usp=sharing)\n"
      ]
    },
    {
      "cell_type": "code",
      "metadata": {
        "colab": {
          "base_uri": "https://localhost:8080/"
        },
        "id": "Zd9CMkZK_CzM",
        "outputId": "663ea6aa-16d5-4e98-9ebd-f066a33bab04"
      },
      "source": [
        "# first, mount your GDrive\n",
        "from google.colab import drive\n",
        "drive.mount('drive')"
      ],
      "execution_count": null,
      "outputs": [
        {
          "output_type": "stream",
          "name": "stdout",
          "text": [
            "Mounted at drive\n"
          ]
        }
      ]
    },
    {
      "cell_type": "markdown",
      "metadata": {
        "id": "qzhQQ8p7ukHQ"
      },
      "source": [
        "# Problem 1 (2 points)\n",
        "\n",
        "Read in the Quebec Yelp dataset from your Google Drive. Make sure that there are no \"Unnamed\" columns - if so, you've read in the index_col as a regular column. Make sure that the index corresponds to the row of the dataset using the `.reset_index` method. Convert \"Date\" column to a Pandas datetime format.\n",
        "\n",
        "1. What is the observational unit of this dataset? (What does each row represent?)\n",
        "1. How many rows are in this dataset? columns?\n",
        "1. When was the earliest review written? latest?"
      ]
    },
    {
      "cell_type": "markdown",
      "metadata": {
        "id": "TC-OPIJ4bahe"
      },
      "source": [
        "## Problem 1 Answers (edit this cell)\n",
        "\n",
        "1. Each row represents one **yelp review including three kinds of ids, how many people found a certain review useful, funny, or cool, a text comment, a date, and a star rating out of 5**.\n",
        "1. There are **208166** rows in the dataset\n",
        "    1. There are **9** columns in the dataset excluding the index.\n",
        "1. The first review is written on **2007-01-02**.\n",
        "    1. The last review is written on **2019-12-13**."
      ]
    },
    {
      "cell_type": "code",
      "metadata": {
        "id": "BQaBBKSe_eyv"
      },
      "source": [
        "# import any necessary libraries here\n",
        "import pandas as pd\n",
        "import os\n",
        "import matplotlib.pyplot as plt\n",
        "\n"
      ],
      "execution_count": null,
      "outputs": []
    },
    {
      "cell_type": "code",
      "metadata": {
        "id": "9NL2eM9K_hSp",
        "colab": {
          "base_uri": "https://localhost:8080/"
        },
        "outputId": "5f92a34d-aaf5-4732-bae4-a822016db873"
      },
      "source": [
        "# First, list the folder containing your data\n",
        "# fpath = 'path/to/your/data'\n",
        "# os.listdir(fpath) \n",
        "# this should return a list containing the quebec_biz \n",
        "# and quebec_yelp_reviews datasets\n",
        "fpath = 'drive/MyDrive/Colab Notebooks/Data Analytics I/Datasets/Assignment 3/'\n",
        "os.listdir(fpath)\n",
        "\n"
      ],
      "execution_count": null,
      "outputs": [
        {
          "output_type": "execute_result",
          "data": {
            "text/plain": [
              "['quebec_biz.csv', 'quebec_yelp_reviews.csv']"
            ]
          },
          "metadata": {},
          "execution_count": 10
        }
      ]
    },
    {
      "cell_type": "code",
      "metadata": {
        "id": "6biVqdDRABiK"
      },
      "source": [
        "# read in the reviews data\n",
        "# pick a variable name for the reviews dataframe\n",
        "# and set its value by reading in the appropriate dataset\n",
        "# df = pd.read_csv(fpath + 'review_dataset_filename.csv', index_col = 0)\n",
        "# you can call the dataframe something other than df\n",
        "reviews_df = pd.read_csv(fpath + 'quebec_yelp_reviews.csv', index_col = 0)\n"
      ],
      "execution_count": null,
      "outputs": []
    },
    {
      "cell_type": "code",
      "metadata": {
        "id": "iAeNSzxJCdw0",
        "colab": {
          "base_uri": "https://localhost:8080/",
          "height": 206
        },
        "outputId": "31ad0b57-ba55-4e0c-b3eb-096f17ef2340"
      },
      "source": [
        "# preview the dataframe's first 5 rows using the .head() method\n",
        "# what unit of observation does each row represent?\n",
        "reviews_df.head()\n",
        "\n"
      ],
      "execution_count": null,
      "outputs": [
        {
          "output_type": "execute_result",
          "data": {
            "text/plain": [
              "                review_id                 user_id             business_id  \\\n",
              "0  sybVjriZuCEH09zplkcXAw  qkJtn0Rtz_lKlTs5azBkng  tOhRQqiupLyJdBJVQMGOEQ   \n",
              "1  uZ66BJLPMx6mJAY_6bi8vQ  kNL4SpfIdMC8GywGayDEOw  tOhRQqiupLyJdBJVQMGOEQ   \n",
              "2  uRPUL-YSYuaJZLQp3Z0QlA  dSeYpzf0JkCeARr_CyCh7A  tOhRQqiupLyJdBJVQMGOEQ   \n",
              "3  AGxEC3EtPW1vZH3v2DnPFA  ZhK2xIa4f73JZfua7IP8vA  tOhRQqiupLyJdBJVQMGOEQ   \n",
              "4  7rBHa16cZexmPopeVrGKBw  ClJirlfCI0W0CfpYaWdfEw  tOhRQqiupLyJdBJVQMGOEQ   \n",
              "\n",
              "   useful  funny  cool                                               text  \\\n",
              "0       0      0     0  AMAZING. Simply amazing. Believe all of the hy...   \n",
              "1       0      0     0  Montreal bagels were well worth the experience...   \n",
              "2       1      2     0  Montreal, what did you do in a previous life t...   \n",
              "3       0      0     1  St-Viateur is better, as bagels and as human b...   \n",
              "4       0      1     1  The bagels are good but first they had me writ...   \n",
              "\n",
              "         date  stars  \n",
              "0  2013-12-29      5  \n",
              "1  2016-07-14      4  \n",
              "2  2012-06-26      1  \n",
              "3  2016-02-24      3  \n",
              "4  2015-05-26      2  "
            ],
            "text/html": [
              "\n",
              "  <div id=\"df-0087dd86-7fd6-4fed-8ec9-63413a2f65ed\">\n",
              "    <div class=\"colab-df-container\">\n",
              "      <div>\n",
              "<style scoped>\n",
              "    .dataframe tbody tr th:only-of-type {\n",
              "        vertical-align: middle;\n",
              "    }\n",
              "\n",
              "    .dataframe tbody tr th {\n",
              "        vertical-align: top;\n",
              "    }\n",
              "\n",
              "    .dataframe thead th {\n",
              "        text-align: right;\n",
              "    }\n",
              "</style>\n",
              "<table border=\"1\" class=\"dataframe\">\n",
              "  <thead>\n",
              "    <tr style=\"text-align: right;\">\n",
              "      <th></th>\n",
              "      <th>review_id</th>\n",
              "      <th>user_id</th>\n",
              "      <th>business_id</th>\n",
              "      <th>useful</th>\n",
              "      <th>funny</th>\n",
              "      <th>cool</th>\n",
              "      <th>text</th>\n",
              "      <th>date</th>\n",
              "      <th>stars</th>\n",
              "    </tr>\n",
              "  </thead>\n",
              "  <tbody>\n",
              "    <tr>\n",
              "      <th>0</th>\n",
              "      <td>sybVjriZuCEH09zplkcXAw</td>\n",
              "      <td>qkJtn0Rtz_lKlTs5azBkng</td>\n",
              "      <td>tOhRQqiupLyJdBJVQMGOEQ</td>\n",
              "      <td>0</td>\n",
              "      <td>0</td>\n",
              "      <td>0</td>\n",
              "      <td>AMAZING. Simply amazing. Believe all of the hy...</td>\n",
              "      <td>2013-12-29</td>\n",
              "      <td>5</td>\n",
              "    </tr>\n",
              "    <tr>\n",
              "      <th>1</th>\n",
              "      <td>uZ66BJLPMx6mJAY_6bi8vQ</td>\n",
              "      <td>kNL4SpfIdMC8GywGayDEOw</td>\n",
              "      <td>tOhRQqiupLyJdBJVQMGOEQ</td>\n",
              "      <td>0</td>\n",
              "      <td>0</td>\n",
              "      <td>0</td>\n",
              "      <td>Montreal bagels were well worth the experience...</td>\n",
              "      <td>2016-07-14</td>\n",
              "      <td>4</td>\n",
              "    </tr>\n",
              "    <tr>\n",
              "      <th>2</th>\n",
              "      <td>uRPUL-YSYuaJZLQp3Z0QlA</td>\n",
              "      <td>dSeYpzf0JkCeARr_CyCh7A</td>\n",
              "      <td>tOhRQqiupLyJdBJVQMGOEQ</td>\n",
              "      <td>1</td>\n",
              "      <td>2</td>\n",
              "      <td>0</td>\n",
              "      <td>Montreal, what did you do in a previous life t...</td>\n",
              "      <td>2012-06-26</td>\n",
              "      <td>1</td>\n",
              "    </tr>\n",
              "    <tr>\n",
              "      <th>3</th>\n",
              "      <td>AGxEC3EtPW1vZH3v2DnPFA</td>\n",
              "      <td>ZhK2xIa4f73JZfua7IP8vA</td>\n",
              "      <td>tOhRQqiupLyJdBJVQMGOEQ</td>\n",
              "      <td>0</td>\n",
              "      <td>0</td>\n",
              "      <td>1</td>\n",
              "      <td>St-Viateur is better, as bagels and as human b...</td>\n",
              "      <td>2016-02-24</td>\n",
              "      <td>3</td>\n",
              "    </tr>\n",
              "    <tr>\n",
              "      <th>4</th>\n",
              "      <td>7rBHa16cZexmPopeVrGKBw</td>\n",
              "      <td>ClJirlfCI0W0CfpYaWdfEw</td>\n",
              "      <td>tOhRQqiupLyJdBJVQMGOEQ</td>\n",
              "      <td>0</td>\n",
              "      <td>1</td>\n",
              "      <td>1</td>\n",
              "      <td>The bagels are good but first they had me writ...</td>\n",
              "      <td>2015-05-26</td>\n",
              "      <td>2</td>\n",
              "    </tr>\n",
              "  </tbody>\n",
              "</table>\n",
              "</div>\n",
              "      <button class=\"colab-df-convert\" onclick=\"convertToInteractive('df-0087dd86-7fd6-4fed-8ec9-63413a2f65ed')\"\n",
              "              title=\"Convert this dataframe to an interactive table.\"\n",
              "              style=\"display:none;\">\n",
              "        \n",
              "  <svg xmlns=\"http://www.w3.org/2000/svg\" height=\"24px\"viewBox=\"0 0 24 24\"\n",
              "       width=\"24px\">\n",
              "    <path d=\"M0 0h24v24H0V0z\" fill=\"none\"/>\n",
              "    <path d=\"M18.56 5.44l.94 2.06.94-2.06 2.06-.94-2.06-.94-.94-2.06-.94 2.06-2.06.94zm-11 1L8.5 8.5l.94-2.06 2.06-.94-2.06-.94L8.5 2.5l-.94 2.06-2.06.94zm10 10l.94 2.06.94-2.06 2.06-.94-2.06-.94-.94-2.06-.94 2.06-2.06.94z\"/><path d=\"M17.41 7.96l-1.37-1.37c-.4-.4-.92-.59-1.43-.59-.52 0-1.04.2-1.43.59L10.3 9.45l-7.72 7.72c-.78.78-.78 2.05 0 2.83L4 21.41c.39.39.9.59 1.41.59.51 0 1.02-.2 1.41-.59l7.78-7.78 2.81-2.81c.8-.78.8-2.07 0-2.86zM5.41 20L4 18.59l7.72-7.72 1.47 1.35L5.41 20z\"/>\n",
              "  </svg>\n",
              "      </button>\n",
              "      \n",
              "  <style>\n",
              "    .colab-df-container {\n",
              "      display:flex;\n",
              "      flex-wrap:wrap;\n",
              "      gap: 12px;\n",
              "    }\n",
              "\n",
              "    .colab-df-convert {\n",
              "      background-color: #E8F0FE;\n",
              "      border: none;\n",
              "      border-radius: 50%;\n",
              "      cursor: pointer;\n",
              "      display: none;\n",
              "      fill: #1967D2;\n",
              "      height: 32px;\n",
              "      padding: 0 0 0 0;\n",
              "      width: 32px;\n",
              "    }\n",
              "\n",
              "    .colab-df-convert:hover {\n",
              "      background-color: #E2EBFA;\n",
              "      box-shadow: 0px 1px 2px rgba(60, 64, 67, 0.3), 0px 1px 3px 1px rgba(60, 64, 67, 0.15);\n",
              "      fill: #174EA6;\n",
              "    }\n",
              "\n",
              "    [theme=dark] .colab-df-convert {\n",
              "      background-color: #3B4455;\n",
              "      fill: #D2E3FC;\n",
              "    }\n",
              "\n",
              "    [theme=dark] .colab-df-convert:hover {\n",
              "      background-color: #434B5C;\n",
              "      box-shadow: 0px 1px 3px 1px rgba(0, 0, 0, 0.15);\n",
              "      filter: drop-shadow(0px 1px 2px rgba(0, 0, 0, 0.3));\n",
              "      fill: #FFFFFF;\n",
              "    }\n",
              "  </style>\n",
              "\n",
              "      <script>\n",
              "        const buttonEl =\n",
              "          document.querySelector('#df-0087dd86-7fd6-4fed-8ec9-63413a2f65ed button.colab-df-convert');\n",
              "        buttonEl.style.display =\n",
              "          google.colab.kernel.accessAllowed ? 'block' : 'none';\n",
              "\n",
              "        async function convertToInteractive(key) {\n",
              "          const element = document.querySelector('#df-0087dd86-7fd6-4fed-8ec9-63413a2f65ed');\n",
              "          const dataTable =\n",
              "            await google.colab.kernel.invokeFunction('convertToInteractive',\n",
              "                                                     [key], {});\n",
              "          if (!dataTable) return;\n",
              "\n",
              "          const docLinkHtml = 'Like what you see? Visit the ' +\n",
              "            '<a target=\"_blank\" href=https://colab.research.google.com/notebooks/data_table.ipynb>data table notebook</a>'\n",
              "            + ' to learn more about interactive tables.';\n",
              "          element.innerHTML = '';\n",
              "          dataTable['output_type'] = 'display_data';\n",
              "          await google.colab.output.renderOutput(dataTable, element);\n",
              "          const docLink = document.createElement('div');\n",
              "          docLink.innerHTML = docLinkHtml;\n",
              "          element.appendChild(docLink);\n",
              "        }\n",
              "      </script>\n",
              "    </div>\n",
              "  </div>\n",
              "  "
            ]
          },
          "metadata": {},
          "execution_count": 13
        }
      ]
    },
    {
      "cell_type": "code",
      "source": [
        "reviews_df['useful'].max()"
      ],
      "metadata": {
        "colab": {
          "base_uri": "https://localhost:8080/"
        },
        "id": "b_b-r0yPyPdA",
        "outputId": "e1fad7b1-2117-4362-ea84-34616b2c6f15"
      },
      "execution_count": null,
      "outputs": [
        {
          "output_type": "execute_result",
          "data": {
            "text/plain": [
              "168"
            ]
          },
          "metadata": {},
          "execution_count": 25
        }
      ]
    },
    {
      "cell_type": "code",
      "metadata": {
        "id": "urLjFro_CJWB",
        "colab": {
          "base_uri": "https://localhost:8080/"
        },
        "outputId": "04b9403a-3b0a-424e-c332-fb8ffdd906cf"
      },
      "source": [
        "# compute the shape of the dataset to return (rows, columns)\n",
        "# use the .shape method\n",
        "reviews_df.shape\n"
      ],
      "execution_count": null,
      "outputs": [
        {
          "output_type": "execute_result",
          "data": {
            "text/plain": [
              "(208166, 9)"
            ]
          },
          "metadata": {},
          "execution_count": 14
        }
      ]
    },
    {
      "cell_type": "code",
      "metadata": {
        "id": "BDFGrOypB9zw",
        "colab": {
          "base_uri": "https://localhost:8080/"
        },
        "outputId": "b0e85434-2b99-48c5-a6e8-dd460f4c1ead"
      },
      "source": [
        "# take a look at the column names by accessing the dataframe's column attribute, \n",
        "# e.g. df.columns.values (but replace df with the name you picked)\n",
        "reviews_df.columns.values\n",
        "\n",
        "\n"
      ],
      "execution_count": null,
      "outputs": [
        {
          "output_type": "execute_result",
          "data": {
            "text/plain": [
              "array(['review_id', 'user_id', 'business_id', 'useful', 'funny', 'cool',\n",
              "       'text', 'date', 'stars'], dtype=object)"
            ]
          },
          "metadata": {},
          "execution_count": 15
        }
      ]
    },
    {
      "cell_type": "code",
      "metadata": {
        "id": "KfAtvXVtCHnk"
      },
      "source": [
        "# find the date column above, convert the column to pandas datetime series\n",
        "# using the pd.to_datetime(....) function\n",
        "reviews_df['date'] = pd.to_datetime(reviews_df['date'])"
      ],
      "execution_count": null,
      "outputs": []
    },
    {
      "cell_type": "code",
      "source": [
        "reviews_df.head()"
      ],
      "metadata": {
        "colab": {
          "base_uri": "https://localhost:8080/",
          "height": 206
        },
        "id": "ydZH-BYQxOUa",
        "outputId": "129b6f98-0665-4f1c-a907-1ccfa9ec702f"
      },
      "execution_count": null,
      "outputs": [
        {
          "output_type": "execute_result",
          "data": {
            "text/plain": [
              "                review_id                 user_id             business_id  \\\n",
              "0  sybVjriZuCEH09zplkcXAw  qkJtn0Rtz_lKlTs5azBkng  tOhRQqiupLyJdBJVQMGOEQ   \n",
              "1  uZ66BJLPMx6mJAY_6bi8vQ  kNL4SpfIdMC8GywGayDEOw  tOhRQqiupLyJdBJVQMGOEQ   \n",
              "2  uRPUL-YSYuaJZLQp3Z0QlA  dSeYpzf0JkCeARr_CyCh7A  tOhRQqiupLyJdBJVQMGOEQ   \n",
              "3  AGxEC3EtPW1vZH3v2DnPFA  ZhK2xIa4f73JZfua7IP8vA  tOhRQqiupLyJdBJVQMGOEQ   \n",
              "4  7rBHa16cZexmPopeVrGKBw  ClJirlfCI0W0CfpYaWdfEw  tOhRQqiupLyJdBJVQMGOEQ   \n",
              "\n",
              "   useful  funny  cool                                               text  \\\n",
              "0       0      0     0  AMAZING. Simply amazing. Believe all of the hy...   \n",
              "1       0      0     0  Montreal bagels were well worth the experience...   \n",
              "2       1      2     0  Montreal, what did you do in a previous life t...   \n",
              "3       0      0     1  St-Viateur is better, as bagels and as human b...   \n",
              "4       0      1     1  The bagels are good but first they had me writ...   \n",
              "\n",
              "        date  stars  \n",
              "0 2013-12-29      5  \n",
              "1 2016-07-14      4  \n",
              "2 2012-06-26      1  \n",
              "3 2016-02-24      3  \n",
              "4 2015-05-26      2  "
            ],
            "text/html": [
              "\n",
              "  <div id=\"df-ccc07f0b-7195-4081-8cb6-84b1c9bd7652\">\n",
              "    <div class=\"colab-df-container\">\n",
              "      <div>\n",
              "<style scoped>\n",
              "    .dataframe tbody tr th:only-of-type {\n",
              "        vertical-align: middle;\n",
              "    }\n",
              "\n",
              "    .dataframe tbody tr th {\n",
              "        vertical-align: top;\n",
              "    }\n",
              "\n",
              "    .dataframe thead th {\n",
              "        text-align: right;\n",
              "    }\n",
              "</style>\n",
              "<table border=\"1\" class=\"dataframe\">\n",
              "  <thead>\n",
              "    <tr style=\"text-align: right;\">\n",
              "      <th></th>\n",
              "      <th>review_id</th>\n",
              "      <th>user_id</th>\n",
              "      <th>business_id</th>\n",
              "      <th>useful</th>\n",
              "      <th>funny</th>\n",
              "      <th>cool</th>\n",
              "      <th>text</th>\n",
              "      <th>date</th>\n",
              "      <th>stars</th>\n",
              "    </tr>\n",
              "  </thead>\n",
              "  <tbody>\n",
              "    <tr>\n",
              "      <th>0</th>\n",
              "      <td>sybVjriZuCEH09zplkcXAw</td>\n",
              "      <td>qkJtn0Rtz_lKlTs5azBkng</td>\n",
              "      <td>tOhRQqiupLyJdBJVQMGOEQ</td>\n",
              "      <td>0</td>\n",
              "      <td>0</td>\n",
              "      <td>0</td>\n",
              "      <td>AMAZING. Simply amazing. Believe all of the hy...</td>\n",
              "      <td>2013-12-29</td>\n",
              "      <td>5</td>\n",
              "    </tr>\n",
              "    <tr>\n",
              "      <th>1</th>\n",
              "      <td>uZ66BJLPMx6mJAY_6bi8vQ</td>\n",
              "      <td>kNL4SpfIdMC8GywGayDEOw</td>\n",
              "      <td>tOhRQqiupLyJdBJVQMGOEQ</td>\n",
              "      <td>0</td>\n",
              "      <td>0</td>\n",
              "      <td>0</td>\n",
              "      <td>Montreal bagels were well worth the experience...</td>\n",
              "      <td>2016-07-14</td>\n",
              "      <td>4</td>\n",
              "    </tr>\n",
              "    <tr>\n",
              "      <th>2</th>\n",
              "      <td>uRPUL-YSYuaJZLQp3Z0QlA</td>\n",
              "      <td>dSeYpzf0JkCeARr_CyCh7A</td>\n",
              "      <td>tOhRQqiupLyJdBJVQMGOEQ</td>\n",
              "      <td>1</td>\n",
              "      <td>2</td>\n",
              "      <td>0</td>\n",
              "      <td>Montreal, what did you do in a previous life t...</td>\n",
              "      <td>2012-06-26</td>\n",
              "      <td>1</td>\n",
              "    </tr>\n",
              "    <tr>\n",
              "      <th>3</th>\n",
              "      <td>AGxEC3EtPW1vZH3v2DnPFA</td>\n",
              "      <td>ZhK2xIa4f73JZfua7IP8vA</td>\n",
              "      <td>tOhRQqiupLyJdBJVQMGOEQ</td>\n",
              "      <td>0</td>\n",
              "      <td>0</td>\n",
              "      <td>1</td>\n",
              "      <td>St-Viateur is better, as bagels and as human b...</td>\n",
              "      <td>2016-02-24</td>\n",
              "      <td>3</td>\n",
              "    </tr>\n",
              "    <tr>\n",
              "      <th>4</th>\n",
              "      <td>7rBHa16cZexmPopeVrGKBw</td>\n",
              "      <td>ClJirlfCI0W0CfpYaWdfEw</td>\n",
              "      <td>tOhRQqiupLyJdBJVQMGOEQ</td>\n",
              "      <td>0</td>\n",
              "      <td>1</td>\n",
              "      <td>1</td>\n",
              "      <td>The bagels are good but first they had me writ...</td>\n",
              "      <td>2015-05-26</td>\n",
              "      <td>2</td>\n",
              "    </tr>\n",
              "  </tbody>\n",
              "</table>\n",
              "</div>\n",
              "      <button class=\"colab-df-convert\" onclick=\"convertToInteractive('df-ccc07f0b-7195-4081-8cb6-84b1c9bd7652')\"\n",
              "              title=\"Convert this dataframe to an interactive table.\"\n",
              "              style=\"display:none;\">\n",
              "        \n",
              "  <svg xmlns=\"http://www.w3.org/2000/svg\" height=\"24px\"viewBox=\"0 0 24 24\"\n",
              "       width=\"24px\">\n",
              "    <path d=\"M0 0h24v24H0V0z\" fill=\"none\"/>\n",
              "    <path d=\"M18.56 5.44l.94 2.06.94-2.06 2.06-.94-2.06-.94-.94-2.06-.94 2.06-2.06.94zm-11 1L8.5 8.5l.94-2.06 2.06-.94-2.06-.94L8.5 2.5l-.94 2.06-2.06.94zm10 10l.94 2.06.94-2.06 2.06-.94-2.06-.94-.94-2.06-.94 2.06-2.06.94z\"/><path d=\"M17.41 7.96l-1.37-1.37c-.4-.4-.92-.59-1.43-.59-.52 0-1.04.2-1.43.59L10.3 9.45l-7.72 7.72c-.78.78-.78 2.05 0 2.83L4 21.41c.39.39.9.59 1.41.59.51 0 1.02-.2 1.41-.59l7.78-7.78 2.81-2.81c.8-.78.8-2.07 0-2.86zM5.41 20L4 18.59l7.72-7.72 1.47 1.35L5.41 20z\"/>\n",
              "  </svg>\n",
              "      </button>\n",
              "      \n",
              "  <style>\n",
              "    .colab-df-container {\n",
              "      display:flex;\n",
              "      flex-wrap:wrap;\n",
              "      gap: 12px;\n",
              "    }\n",
              "\n",
              "    .colab-df-convert {\n",
              "      background-color: #E8F0FE;\n",
              "      border: none;\n",
              "      border-radius: 50%;\n",
              "      cursor: pointer;\n",
              "      display: none;\n",
              "      fill: #1967D2;\n",
              "      height: 32px;\n",
              "      padding: 0 0 0 0;\n",
              "      width: 32px;\n",
              "    }\n",
              "\n",
              "    .colab-df-convert:hover {\n",
              "      background-color: #E2EBFA;\n",
              "      box-shadow: 0px 1px 2px rgba(60, 64, 67, 0.3), 0px 1px 3px 1px rgba(60, 64, 67, 0.15);\n",
              "      fill: #174EA6;\n",
              "    }\n",
              "\n",
              "    [theme=dark] .colab-df-convert {\n",
              "      background-color: #3B4455;\n",
              "      fill: #D2E3FC;\n",
              "    }\n",
              "\n",
              "    [theme=dark] .colab-df-convert:hover {\n",
              "      background-color: #434B5C;\n",
              "      box-shadow: 0px 1px 3px 1px rgba(0, 0, 0, 0.15);\n",
              "      filter: drop-shadow(0px 1px 2px rgba(0, 0, 0, 0.3));\n",
              "      fill: #FFFFFF;\n",
              "    }\n",
              "  </style>\n",
              "\n",
              "      <script>\n",
              "        const buttonEl =\n",
              "          document.querySelector('#df-ccc07f0b-7195-4081-8cb6-84b1c9bd7652 button.colab-df-convert');\n",
              "        buttonEl.style.display =\n",
              "          google.colab.kernel.accessAllowed ? 'block' : 'none';\n",
              "\n",
              "        async function convertToInteractive(key) {\n",
              "          const element = document.querySelector('#df-ccc07f0b-7195-4081-8cb6-84b1c9bd7652');\n",
              "          const dataTable =\n",
              "            await google.colab.kernel.invokeFunction('convertToInteractive',\n",
              "                                                     [key], {});\n",
              "          if (!dataTable) return;\n",
              "\n",
              "          const docLinkHtml = 'Like what you see? Visit the ' +\n",
              "            '<a target=\"_blank\" href=https://colab.research.google.com/notebooks/data_table.ipynb>data table notebook</a>'\n",
              "            + ' to learn more about interactive tables.';\n",
              "          element.innerHTML = '';\n",
              "          dataTable['output_type'] = 'display_data';\n",
              "          await google.colab.output.renderOutput(dataTable, element);\n",
              "          const docLink = document.createElement('div');\n",
              "          docLink.innerHTML = docLinkHtml;\n",
              "          element.appendChild(docLink);\n",
              "        }\n",
              "      </script>\n",
              "    </div>\n",
              "  </div>\n",
              "  "
            ]
          },
          "metadata": {},
          "execution_count": 58
        }
      ]
    },
    {
      "cell_type": "code",
      "metadata": {
        "id": "wGI0r7VvCpDB",
        "colab": {
          "base_uri": "https://localhost:8080/"
        },
        "outputId": "b7a3e87b-c594-4245-e3a2-c573161d4ad9"
      },
      "source": [
        "# find the smallest date (use the .min method)\n",
        "\n",
        "reviews_df['date'].min()\n"
      ],
      "execution_count": null,
      "outputs": [
        {
          "output_type": "execute_result",
          "data": {
            "text/plain": [
              "Timestamp('2007-01-02 00:00:00')"
            ]
          },
          "metadata": {},
          "execution_count": 18
        }
      ]
    },
    {
      "cell_type": "code",
      "metadata": {
        "id": "ANUiN-5WC7lK",
        "colab": {
          "base_uri": "https://localhost:8080/"
        },
        "outputId": "42d85835-87a4-4032-f24c-ae417cbce8bd"
      },
      "source": [
        "# find the largest date (use the .max method)\n",
        "\n",
        "reviews_df['date'].max()\n",
        "\n"
      ],
      "execution_count": null,
      "outputs": [
        {
          "output_type": "execute_result",
          "data": {
            "text/plain": [
              "Timestamp('2019-12-13 00:00:00')"
            ]
          },
          "metadata": {},
          "execution_count": 19
        }
      ]
    },
    {
      "cell_type": "markdown",
      "metadata": {
        "id": "Vm0lyRZHu5hl"
      },
      "source": [
        "# Problem 2 (2 points)\n",
        "\n",
        "Construct a **new** dataframe by selecting only the reviews written 1) on or after May 1st 2016 **and** 2) before June 1st 2019. **Save it** to an appropriate location on your Google Drive. (feel free to delete it later)"
      ]
    },
    {
      "cell_type": "code",
      "metadata": {
        "id": "1bx6Gw-sv6Ht",
        "colab": {
          "base_uri": "https://localhost:8080/",
          "height": 206
        },
        "outputId": "648f1539-ddfe-4c10-bab4-3536a06aa33c"
      },
      "source": [
        "# pick a variable name and set it equal to the approriate subset of your dataframe\n",
        "# (you can use the same variable name as the original dataframe)\n",
        "# remember to select the dates with 2 conditions:\n",
        "# >= '2016/5/1'\n",
        "# < '2019/6/1'\n",
        "date_lower_bound = pd.to_datetime('2016/5/1')\n",
        "date_upper_bound = pd.to_datetime('2019/6/1')\n",
        "\n",
        "filtered_reviews_df = reviews_df.loc[ (reviews_df['date'] >= date_lower_bound) & (reviews_df['date'] < date_upper_bound) ]\n",
        "filtered_reviews_df.head()\n",
        "\n"
      ],
      "execution_count": null,
      "outputs": [
        {
          "output_type": "execute_result",
          "data": {
            "text/plain": [
              "                 review_id                 user_id             business_id  \\\n",
              "1   uZ66BJLPMx6mJAY_6bi8vQ  kNL4SpfIdMC8GywGayDEOw  tOhRQqiupLyJdBJVQMGOEQ   \n",
              "7   Sc0YoR19v2ZHqPjjReMdfQ  8VFNDokKKbpUgCrH6TF9fA  tOhRQqiupLyJdBJVQMGOEQ   \n",
              "10  uZnzhtYAXAO_4ICeWOq9_A  bemY1DWj0rOLIPUBRnfkjg  tOhRQqiupLyJdBJVQMGOEQ   \n",
              "11  Vx19GFjr7lSltZGOvBY6-A  0_7UeN4U_D6Iw6tHm90tXg  tOhRQqiupLyJdBJVQMGOEQ   \n",
              "13  bXJ2bQ815xuUTLgo2UXpww  YVaONBBT9lSJQwBPWCB0qQ  tOhRQqiupLyJdBJVQMGOEQ   \n",
              "\n",
              "    useful  funny  cool                                               text  \\\n",
              "1        0      0     0  Montreal bagels were well worth the experience...   \n",
              "7        0      0     0  Cheap and delicous! I definently understand wh...   \n",
              "10       0      0     0  Coming from a NYCer... This place is an absolu...   \n",
              "11       1      2     0  Great bagel if purchased straight from the ove...   \n",
              "13       3      2     1  Location: Let me think.... oh yes - on Fairmou...   \n",
              "\n",
              "         date  stars  \n",
              "1  2016-07-14      4  \n",
              "7  2016-09-19      4  \n",
              "10 2018-09-03      5  \n",
              "11 2017-05-26      4  \n",
              "13 2017-06-17      4  "
            ],
            "text/html": [
              "\n",
              "  <div id=\"df-9ad2780b-a40c-454e-bfad-296e86f206c9\">\n",
              "    <div class=\"colab-df-container\">\n",
              "      <div>\n",
              "<style scoped>\n",
              "    .dataframe tbody tr th:only-of-type {\n",
              "        vertical-align: middle;\n",
              "    }\n",
              "\n",
              "    .dataframe tbody tr th {\n",
              "        vertical-align: top;\n",
              "    }\n",
              "\n",
              "    .dataframe thead th {\n",
              "        text-align: right;\n",
              "    }\n",
              "</style>\n",
              "<table border=\"1\" class=\"dataframe\">\n",
              "  <thead>\n",
              "    <tr style=\"text-align: right;\">\n",
              "      <th></th>\n",
              "      <th>review_id</th>\n",
              "      <th>user_id</th>\n",
              "      <th>business_id</th>\n",
              "      <th>useful</th>\n",
              "      <th>funny</th>\n",
              "      <th>cool</th>\n",
              "      <th>text</th>\n",
              "      <th>date</th>\n",
              "      <th>stars</th>\n",
              "    </tr>\n",
              "  </thead>\n",
              "  <tbody>\n",
              "    <tr>\n",
              "      <th>1</th>\n",
              "      <td>uZ66BJLPMx6mJAY_6bi8vQ</td>\n",
              "      <td>kNL4SpfIdMC8GywGayDEOw</td>\n",
              "      <td>tOhRQqiupLyJdBJVQMGOEQ</td>\n",
              "      <td>0</td>\n",
              "      <td>0</td>\n",
              "      <td>0</td>\n",
              "      <td>Montreal bagels were well worth the experience...</td>\n",
              "      <td>2016-07-14</td>\n",
              "      <td>4</td>\n",
              "    </tr>\n",
              "    <tr>\n",
              "      <th>7</th>\n",
              "      <td>Sc0YoR19v2ZHqPjjReMdfQ</td>\n",
              "      <td>8VFNDokKKbpUgCrH6TF9fA</td>\n",
              "      <td>tOhRQqiupLyJdBJVQMGOEQ</td>\n",
              "      <td>0</td>\n",
              "      <td>0</td>\n",
              "      <td>0</td>\n",
              "      <td>Cheap and delicous! I definently understand wh...</td>\n",
              "      <td>2016-09-19</td>\n",
              "      <td>4</td>\n",
              "    </tr>\n",
              "    <tr>\n",
              "      <th>10</th>\n",
              "      <td>uZnzhtYAXAO_4ICeWOq9_A</td>\n",
              "      <td>bemY1DWj0rOLIPUBRnfkjg</td>\n",
              "      <td>tOhRQqiupLyJdBJVQMGOEQ</td>\n",
              "      <td>0</td>\n",
              "      <td>0</td>\n",
              "      <td>0</td>\n",
              "      <td>Coming from a NYCer... This place is an absolu...</td>\n",
              "      <td>2018-09-03</td>\n",
              "      <td>5</td>\n",
              "    </tr>\n",
              "    <tr>\n",
              "      <th>11</th>\n",
              "      <td>Vx19GFjr7lSltZGOvBY6-A</td>\n",
              "      <td>0_7UeN4U_D6Iw6tHm90tXg</td>\n",
              "      <td>tOhRQqiupLyJdBJVQMGOEQ</td>\n",
              "      <td>1</td>\n",
              "      <td>2</td>\n",
              "      <td>0</td>\n",
              "      <td>Great bagel if purchased straight from the ove...</td>\n",
              "      <td>2017-05-26</td>\n",
              "      <td>4</td>\n",
              "    </tr>\n",
              "    <tr>\n",
              "      <th>13</th>\n",
              "      <td>bXJ2bQ815xuUTLgo2UXpww</td>\n",
              "      <td>YVaONBBT9lSJQwBPWCB0qQ</td>\n",
              "      <td>tOhRQqiupLyJdBJVQMGOEQ</td>\n",
              "      <td>3</td>\n",
              "      <td>2</td>\n",
              "      <td>1</td>\n",
              "      <td>Location: Let me think.... oh yes - on Fairmou...</td>\n",
              "      <td>2017-06-17</td>\n",
              "      <td>4</td>\n",
              "    </tr>\n",
              "  </tbody>\n",
              "</table>\n",
              "</div>\n",
              "      <button class=\"colab-df-convert\" onclick=\"convertToInteractive('df-9ad2780b-a40c-454e-bfad-296e86f206c9')\"\n",
              "              title=\"Convert this dataframe to an interactive table.\"\n",
              "              style=\"display:none;\">\n",
              "        \n",
              "  <svg xmlns=\"http://www.w3.org/2000/svg\" height=\"24px\"viewBox=\"0 0 24 24\"\n",
              "       width=\"24px\">\n",
              "    <path d=\"M0 0h24v24H0V0z\" fill=\"none\"/>\n",
              "    <path d=\"M18.56 5.44l.94 2.06.94-2.06 2.06-.94-2.06-.94-.94-2.06-.94 2.06-2.06.94zm-11 1L8.5 8.5l.94-2.06 2.06-.94-2.06-.94L8.5 2.5l-.94 2.06-2.06.94zm10 10l.94 2.06.94-2.06 2.06-.94-2.06-.94-.94-2.06-.94 2.06-2.06.94z\"/><path d=\"M17.41 7.96l-1.37-1.37c-.4-.4-.92-.59-1.43-.59-.52 0-1.04.2-1.43.59L10.3 9.45l-7.72 7.72c-.78.78-.78 2.05 0 2.83L4 21.41c.39.39.9.59 1.41.59.51 0 1.02-.2 1.41-.59l7.78-7.78 2.81-2.81c.8-.78.8-2.07 0-2.86zM5.41 20L4 18.59l7.72-7.72 1.47 1.35L5.41 20z\"/>\n",
              "  </svg>\n",
              "      </button>\n",
              "      \n",
              "  <style>\n",
              "    .colab-df-container {\n",
              "      display:flex;\n",
              "      flex-wrap:wrap;\n",
              "      gap: 12px;\n",
              "    }\n",
              "\n",
              "    .colab-df-convert {\n",
              "      background-color: #E8F0FE;\n",
              "      border: none;\n",
              "      border-radius: 50%;\n",
              "      cursor: pointer;\n",
              "      display: none;\n",
              "      fill: #1967D2;\n",
              "      height: 32px;\n",
              "      padding: 0 0 0 0;\n",
              "      width: 32px;\n",
              "    }\n",
              "\n",
              "    .colab-df-convert:hover {\n",
              "      background-color: #E2EBFA;\n",
              "      box-shadow: 0px 1px 2px rgba(60, 64, 67, 0.3), 0px 1px 3px 1px rgba(60, 64, 67, 0.15);\n",
              "      fill: #174EA6;\n",
              "    }\n",
              "\n",
              "    [theme=dark] .colab-df-convert {\n",
              "      background-color: #3B4455;\n",
              "      fill: #D2E3FC;\n",
              "    }\n",
              "\n",
              "    [theme=dark] .colab-df-convert:hover {\n",
              "      background-color: #434B5C;\n",
              "      box-shadow: 0px 1px 3px 1px rgba(0, 0, 0, 0.15);\n",
              "      filter: drop-shadow(0px 1px 2px rgba(0, 0, 0, 0.3));\n",
              "      fill: #FFFFFF;\n",
              "    }\n",
              "  </style>\n",
              "\n",
              "      <script>\n",
              "        const buttonEl =\n",
              "          document.querySelector('#df-9ad2780b-a40c-454e-bfad-296e86f206c9 button.colab-df-convert');\n",
              "        buttonEl.style.display =\n",
              "          google.colab.kernel.accessAllowed ? 'block' : 'none';\n",
              "\n",
              "        async function convertToInteractive(key) {\n",
              "          const element = document.querySelector('#df-9ad2780b-a40c-454e-bfad-296e86f206c9');\n",
              "          const dataTable =\n",
              "            await google.colab.kernel.invokeFunction('convertToInteractive',\n",
              "                                                     [key], {});\n",
              "          if (!dataTable) return;\n",
              "\n",
              "          const docLinkHtml = 'Like what you see? Visit the ' +\n",
              "            '<a target=\"_blank\" href=https://colab.research.google.com/notebooks/data_table.ipynb>data table notebook</a>'\n",
              "            + ' to learn more about interactive tables.';\n",
              "          element.innerHTML = '';\n",
              "          dataTable['output_type'] = 'display_data';\n",
              "          await google.colab.output.renderOutput(dataTable, element);\n",
              "          const docLink = document.createElement('div');\n",
              "          docLink.innerHTML = docLinkHtml;\n",
              "          element.appendChild(docLink);\n",
              "        }\n",
              "      </script>\n",
              "    </div>\n",
              "  </div>\n",
              "  "
            ]
          },
          "metadata": {},
          "execution_count": 33
        }
      ]
    },
    {
      "cell_type": "code",
      "metadata": {
        "id": "sr4ftepzF-zq",
        "colab": {
          "base_uri": "https://localhost:8080/"
        },
        "outputId": "51b9d9b9-a568-4223-8146-e312b1fa6c99"
      },
      "source": [
        "# check the minimum and maximum dates of the resulting dataframe to confirm you've done this correctly\n",
        "# min date\n",
        "\n",
        "filtered_reviews_df['date'].min()\n",
        "\n"
      ],
      "execution_count": null,
      "outputs": [
        {
          "output_type": "execute_result",
          "data": {
            "text/plain": [
              "Timestamp('2016-05-01 00:00:00')"
            ]
          },
          "metadata": {},
          "execution_count": 34
        }
      ]
    },
    {
      "cell_type": "code",
      "metadata": {
        "id": "JtT_0l7h2wpU",
        "colab": {
          "base_uri": "https://localhost:8080/"
        },
        "outputId": "fda8b392-0157-4415-df3a-82ba8aab4dfe"
      },
      "source": [
        "# max date\n",
        "\n",
        "filtered_reviews_df['date'].max()\n",
        "\n"
      ],
      "execution_count": null,
      "outputs": [
        {
          "output_type": "execute_result",
          "data": {
            "text/plain": [
              "Timestamp('2019-05-31 00:00:00')"
            ]
          },
          "metadata": {},
          "execution_count": 35
        }
      ]
    },
    {
      "cell_type": "code",
      "metadata": {
        "id": "o9rJC3Uuv4Hz"
      },
      "source": [
        "# save the dataset somewhere, give it a meaningful file name\n",
        "filtered_reviews_df.to_csv(fpath + 'filtered_yelp_reviews_2016-5-1_to_2019-5-31.csv')\n",
        "\n"
      ],
      "execution_count": null,
      "outputs": []
    },
    {
      "cell_type": "markdown",
      "metadata": {
        "id": "7hdqtvZG2WyH"
      },
      "source": [
        "# Problem 3 (3 points)\n",
        "\n",
        "**Use the dataset created in problem 2**\n",
        "\n",
        "Create a new column `ym` that represents the year and month (drops date and time from dates).\\\n",
        "*Hint use `.dt.to_period` method from [notes](https://colab.research.google.com/drive/1RKy2g2aWOitE2rCQdZli8ERKdrtqU6Cl?usp=sharing).\n",
        "\n",
        "Next, construct a line plot of the average usefulness votes (y-axis) by month between 2016/5 and 2019/5 `ym` (x-axis).\\\n",
        "*Hint - you need to do a groupby plot grouping on `ym` and compute the mean of star ratings.\n",
        "\n",
        "### Use a text cell to answer:\n",
        "1. What seasonal patterns do you see in the average helpfulness votes per review in Quebec? \n",
        "1. Come up with 2 potential explanations for the pattern(s) you've noticed."
      ]
    },
    {
      "cell_type": "markdown",
      "metadata": {
        "id": "4TSxTwNO9SLh"
      },
      "source": [
        "## Problem 3 Answer (edit this cell)\n",
        "\n",
        "1. Trend:\n",
        "  - Reviews tend to spike around September - October before dipping during January - February\n",
        "1. Explanations: \n",
        "  - The high period tends is fall, which people are usually excited for: halloween, pumpkin spice latte, etc. While people tend to get bogged down by winter (the low period)\n",
        "  - Maybe people percieve services as more expensive right after Christmas and when people think they are overpaying, they tend to give worse reviews. On the other hand, they might have more savings just before Christmas so they don't care as much for the price but rather for the experience"
      ]
    },
    {
      "cell_type": "code",
      "metadata": {
        "id": "WSuD6uNH2SM-",
        "colab": {
          "base_uri": "https://localhost:8080/",
          "height": 310
        },
        "outputId": "3c4dabc1-018f-4bcb-8bf7-0280ab694ee6"
      },
      "source": [
        "# create 'ym' column\n",
        "filtered_reviews_df['ym'] = filtered_reviews_df['date'].dt.to_period('M')\n",
        "\n",
        "filtered_reviews_df.head()\n"
      ],
      "execution_count": null,
      "outputs": [
        {
          "output_type": "stream",
          "name": "stderr",
          "text": [
            "/usr/local/lib/python3.7/dist-packages/ipykernel_launcher.py:2: SettingWithCopyWarning: \n",
            "A value is trying to be set on a copy of a slice from a DataFrame.\n",
            "Try using .loc[row_indexer,col_indexer] = value instead\n",
            "\n",
            "See the caveats in the documentation: https://pandas.pydata.org/pandas-docs/stable/user_guide/indexing.html#returning-a-view-versus-a-copy\n",
            "  \n"
          ]
        },
        {
          "output_type": "execute_result",
          "data": {
            "text/plain": [
              "                 review_id                 user_id             business_id  \\\n",
              "1   uZ66BJLPMx6mJAY_6bi8vQ  kNL4SpfIdMC8GywGayDEOw  tOhRQqiupLyJdBJVQMGOEQ   \n",
              "7   Sc0YoR19v2ZHqPjjReMdfQ  8VFNDokKKbpUgCrH6TF9fA  tOhRQqiupLyJdBJVQMGOEQ   \n",
              "10  uZnzhtYAXAO_4ICeWOq9_A  bemY1DWj0rOLIPUBRnfkjg  tOhRQqiupLyJdBJVQMGOEQ   \n",
              "11  Vx19GFjr7lSltZGOvBY6-A  0_7UeN4U_D6Iw6tHm90tXg  tOhRQqiupLyJdBJVQMGOEQ   \n",
              "13  bXJ2bQ815xuUTLgo2UXpww  YVaONBBT9lSJQwBPWCB0qQ  tOhRQqiupLyJdBJVQMGOEQ   \n",
              "\n",
              "    useful  funny  cool                                               text  \\\n",
              "1        0      0     0  Montreal bagels were well worth the experience...   \n",
              "7        0      0     0  Cheap and delicous! I definently understand wh...   \n",
              "10       0      0     0  Coming from a NYCer... This place is an absolu...   \n",
              "11       1      2     0  Great bagel if purchased straight from the ove...   \n",
              "13       3      2     1  Location: Let me think.... oh yes - on Fairmou...   \n",
              "\n",
              "         date  stars       ym  \n",
              "1  2016-07-14      4  2016-07  \n",
              "7  2016-09-19      4  2016-09  \n",
              "10 2018-09-03      5  2018-09  \n",
              "11 2017-05-26      4  2017-05  \n",
              "13 2017-06-17      4  2017-06  "
            ],
            "text/html": [
              "\n",
              "  <div id=\"df-cde6b057-c3bf-4dbb-a4bf-d25491660b58\">\n",
              "    <div class=\"colab-df-container\">\n",
              "      <div>\n",
              "<style scoped>\n",
              "    .dataframe tbody tr th:only-of-type {\n",
              "        vertical-align: middle;\n",
              "    }\n",
              "\n",
              "    .dataframe tbody tr th {\n",
              "        vertical-align: top;\n",
              "    }\n",
              "\n",
              "    .dataframe thead th {\n",
              "        text-align: right;\n",
              "    }\n",
              "</style>\n",
              "<table border=\"1\" class=\"dataframe\">\n",
              "  <thead>\n",
              "    <tr style=\"text-align: right;\">\n",
              "      <th></th>\n",
              "      <th>review_id</th>\n",
              "      <th>user_id</th>\n",
              "      <th>business_id</th>\n",
              "      <th>useful</th>\n",
              "      <th>funny</th>\n",
              "      <th>cool</th>\n",
              "      <th>text</th>\n",
              "      <th>date</th>\n",
              "      <th>stars</th>\n",
              "      <th>ym</th>\n",
              "    </tr>\n",
              "  </thead>\n",
              "  <tbody>\n",
              "    <tr>\n",
              "      <th>1</th>\n",
              "      <td>uZ66BJLPMx6mJAY_6bi8vQ</td>\n",
              "      <td>kNL4SpfIdMC8GywGayDEOw</td>\n",
              "      <td>tOhRQqiupLyJdBJVQMGOEQ</td>\n",
              "      <td>0</td>\n",
              "      <td>0</td>\n",
              "      <td>0</td>\n",
              "      <td>Montreal bagels were well worth the experience...</td>\n",
              "      <td>2016-07-14</td>\n",
              "      <td>4</td>\n",
              "      <td>2016-07</td>\n",
              "    </tr>\n",
              "    <tr>\n",
              "      <th>7</th>\n",
              "      <td>Sc0YoR19v2ZHqPjjReMdfQ</td>\n",
              "      <td>8VFNDokKKbpUgCrH6TF9fA</td>\n",
              "      <td>tOhRQqiupLyJdBJVQMGOEQ</td>\n",
              "      <td>0</td>\n",
              "      <td>0</td>\n",
              "      <td>0</td>\n",
              "      <td>Cheap and delicous! I definently understand wh...</td>\n",
              "      <td>2016-09-19</td>\n",
              "      <td>4</td>\n",
              "      <td>2016-09</td>\n",
              "    </tr>\n",
              "    <tr>\n",
              "      <th>10</th>\n",
              "      <td>uZnzhtYAXAO_4ICeWOq9_A</td>\n",
              "      <td>bemY1DWj0rOLIPUBRnfkjg</td>\n",
              "      <td>tOhRQqiupLyJdBJVQMGOEQ</td>\n",
              "      <td>0</td>\n",
              "      <td>0</td>\n",
              "      <td>0</td>\n",
              "      <td>Coming from a NYCer... This place is an absolu...</td>\n",
              "      <td>2018-09-03</td>\n",
              "      <td>5</td>\n",
              "      <td>2018-09</td>\n",
              "    </tr>\n",
              "    <tr>\n",
              "      <th>11</th>\n",
              "      <td>Vx19GFjr7lSltZGOvBY6-A</td>\n",
              "      <td>0_7UeN4U_D6Iw6tHm90tXg</td>\n",
              "      <td>tOhRQqiupLyJdBJVQMGOEQ</td>\n",
              "      <td>1</td>\n",
              "      <td>2</td>\n",
              "      <td>0</td>\n",
              "      <td>Great bagel if purchased straight from the ove...</td>\n",
              "      <td>2017-05-26</td>\n",
              "      <td>4</td>\n",
              "      <td>2017-05</td>\n",
              "    </tr>\n",
              "    <tr>\n",
              "      <th>13</th>\n",
              "      <td>bXJ2bQ815xuUTLgo2UXpww</td>\n",
              "      <td>YVaONBBT9lSJQwBPWCB0qQ</td>\n",
              "      <td>tOhRQqiupLyJdBJVQMGOEQ</td>\n",
              "      <td>3</td>\n",
              "      <td>2</td>\n",
              "      <td>1</td>\n",
              "      <td>Location: Let me think.... oh yes - on Fairmou...</td>\n",
              "      <td>2017-06-17</td>\n",
              "      <td>4</td>\n",
              "      <td>2017-06</td>\n",
              "    </tr>\n",
              "  </tbody>\n",
              "</table>\n",
              "</div>\n",
              "      <button class=\"colab-df-convert\" onclick=\"convertToInteractive('df-cde6b057-c3bf-4dbb-a4bf-d25491660b58')\"\n",
              "              title=\"Convert this dataframe to an interactive table.\"\n",
              "              style=\"display:none;\">\n",
              "        \n",
              "  <svg xmlns=\"http://www.w3.org/2000/svg\" height=\"24px\"viewBox=\"0 0 24 24\"\n",
              "       width=\"24px\">\n",
              "    <path d=\"M0 0h24v24H0V0z\" fill=\"none\"/>\n",
              "    <path d=\"M18.56 5.44l.94 2.06.94-2.06 2.06-.94-2.06-.94-.94-2.06-.94 2.06-2.06.94zm-11 1L8.5 8.5l.94-2.06 2.06-.94-2.06-.94L8.5 2.5l-.94 2.06-2.06.94zm10 10l.94 2.06.94-2.06 2.06-.94-2.06-.94-.94-2.06-.94 2.06-2.06.94z\"/><path d=\"M17.41 7.96l-1.37-1.37c-.4-.4-.92-.59-1.43-.59-.52 0-1.04.2-1.43.59L10.3 9.45l-7.72 7.72c-.78.78-.78 2.05 0 2.83L4 21.41c.39.39.9.59 1.41.59.51 0 1.02-.2 1.41-.59l7.78-7.78 2.81-2.81c.8-.78.8-2.07 0-2.86zM5.41 20L4 18.59l7.72-7.72 1.47 1.35L5.41 20z\"/>\n",
              "  </svg>\n",
              "      </button>\n",
              "      \n",
              "  <style>\n",
              "    .colab-df-container {\n",
              "      display:flex;\n",
              "      flex-wrap:wrap;\n",
              "      gap: 12px;\n",
              "    }\n",
              "\n",
              "    .colab-df-convert {\n",
              "      background-color: #E8F0FE;\n",
              "      border: none;\n",
              "      border-radius: 50%;\n",
              "      cursor: pointer;\n",
              "      display: none;\n",
              "      fill: #1967D2;\n",
              "      height: 32px;\n",
              "      padding: 0 0 0 0;\n",
              "      width: 32px;\n",
              "    }\n",
              "\n",
              "    .colab-df-convert:hover {\n",
              "      background-color: #E2EBFA;\n",
              "      box-shadow: 0px 1px 2px rgba(60, 64, 67, 0.3), 0px 1px 3px 1px rgba(60, 64, 67, 0.15);\n",
              "      fill: #174EA6;\n",
              "    }\n",
              "\n",
              "    [theme=dark] .colab-df-convert {\n",
              "      background-color: #3B4455;\n",
              "      fill: #D2E3FC;\n",
              "    }\n",
              "\n",
              "    [theme=dark] .colab-df-convert:hover {\n",
              "      background-color: #434B5C;\n",
              "      box-shadow: 0px 1px 3px 1px rgba(0, 0, 0, 0.15);\n",
              "      filter: drop-shadow(0px 1px 2px rgba(0, 0, 0, 0.3));\n",
              "      fill: #FFFFFF;\n",
              "    }\n",
              "  </style>\n",
              "\n",
              "      <script>\n",
              "        const buttonEl =\n",
              "          document.querySelector('#df-cde6b057-c3bf-4dbb-a4bf-d25491660b58 button.colab-df-convert');\n",
              "        buttonEl.style.display =\n",
              "          google.colab.kernel.accessAllowed ? 'block' : 'none';\n",
              "\n",
              "        async function convertToInteractive(key) {\n",
              "          const element = document.querySelector('#df-cde6b057-c3bf-4dbb-a4bf-d25491660b58');\n",
              "          const dataTable =\n",
              "            await google.colab.kernel.invokeFunction('convertToInteractive',\n",
              "                                                     [key], {});\n",
              "          if (!dataTable) return;\n",
              "\n",
              "          const docLinkHtml = 'Like what you see? Visit the ' +\n",
              "            '<a target=\"_blank\" href=https://colab.research.google.com/notebooks/data_table.ipynb>data table notebook</a>'\n",
              "            + ' to learn more about interactive tables.';\n",
              "          element.innerHTML = '';\n",
              "          dataTable['output_type'] = 'display_data';\n",
              "          await google.colab.output.renderOutput(dataTable, element);\n",
              "          const docLink = document.createElement('div');\n",
              "          docLink.innerHTML = docLinkHtml;\n",
              "          element.appendChild(docLink);\n",
              "        }\n",
              "      </script>\n",
              "    </div>\n",
              "  </div>\n",
              "  "
            ]
          },
          "metadata": {},
          "execution_count": 39
        }
      ]
    },
    {
      "cell_type": "code",
      "metadata": {
        "id": "NFJnyNscd2y4",
        "colab": {
          "base_uri": "https://localhost:8080/"
        },
        "outputId": "71ce9dfb-2ae3-467f-c147-ce58d2696fb3"
      },
      "source": [
        "# check that you've created it correctly by finding the unique values of ym\n",
        "# select the ym column and use the .unique() method\n",
        "\n",
        "\n",
        "filtered_reviews_df['ym'].unique()\n"
      ],
      "execution_count": null,
      "outputs": [
        {
          "output_type": "execute_result",
          "data": {
            "text/plain": [
              "<PeriodArray>\n",
              "['2016-07', '2016-09', '2018-09', '2017-05', '2017-06', '2017-07', '2016-05',\n",
              " '2018-08', '2017-08', '2017-10', '2016-10', '2018-07', '2016-08', '2016-06',\n",
              " '2017-04', '2017-01', '2018-06', '2018-02', '2018-05', '2017-09', '2018-04',\n",
              " '2018-03', '2016-12', '2016-11', '2017-02', '2017-11', '2017-03', '2018-01',\n",
              " '2018-10', '2017-12', '2019-01', '2018-12', '2018-11', '2019-04', '2019-03',\n",
              " '2019-02', '2019-05']\n",
              "Length: 37, dtype: period[M]"
            ]
          },
          "metadata": {},
          "execution_count": 40
        }
      ]
    },
    {
      "cell_type": "code",
      "metadata": {
        "id": "Eh-DajsdG7Iq",
        "colab": {
          "base_uri": "https://localhost:8080/",
          "height": 361
        },
        "outputId": "44dcde8a-1fc5-4010-c60a-5413d4b3b426"
      },
      "source": [
        "# create the plot using a groupby summary + .plot method\n",
        "# refer to notes for examples\n",
        "\n",
        "# making the plot easier to read\n",
        "plt.rcParams[\"figure.figsize\"] = (20,5)\n",
        "\n",
        "# instruction say use star columns, however it would make more sense to plot usefulness\n",
        "filtered_reviews_df.groupby('ym')['stars'].mean().plot()\n",
        "plt.title('Monthly Reviews')\n",
        "plt.xlabel('Year-Month')\n",
        "plt.ylabel('Average Review')\n",
        "plt.show()\n",
        "\n"
      ],
      "execution_count": null,
      "outputs": [
        {
          "output_type": "display_data",
          "data": {
            "text/plain": [
              "<Figure size 1440x360 with 1 Axes>"
            ],
            "image/png": "[encoded data removed]"
          },
          "metadata": {
            "needs_background": "light"
          }
        }
      ]
    },
    {
      "cell_type": "markdown",
      "metadata": {
        "id": "OIrDmJDL2gfG"
      },
      "source": [
        "# Probelm 4 (4 points)\n",
        "\n",
        "Read in the Quebec **business info** dataset, be sure to use a different variable name for this dataframe.\n",
        "\n",
        "## Part A questions (2 pts)\n",
        "1. What is the observational unit of this dataset?\n",
        "1. On what variable should you merge this (right dataframe) **into** the review data (left dataframe)? \n",
        "\n",
        "**Merge business data into the dataframe from Q2.**\n",
        "\n",
        "Notice a column called \"is_open\" - if a business has shut down, this column will have a value of 0, otherwise it will have a value of 1.\n",
        "\n",
        "Construct the line plot where: \n",
        "* x-axis is `ym` \n",
        "* y-axis is average star rating \n",
        "* there are 2 lines: 1. for currently open businesses and 2. closed businesses \n",
        "    * Make sure the 2 lines appear on the same figure.\n",
        "    * You should compute avg. star rating using the `star` variable, not the `biz_star` variable.\n",
        "\n",
        "## Part B questions (2 pts)\n",
        "1. Any difference in patterns between these 2 groups of businesses?\n",
        "1. Speculate on what reason(s) might cause the observed pattern(s).\n",
        "\n"
      ]
    },
    {
      "cell_type": "markdown",
      "metadata": {
        "id": "X3OAH7PsW91-"
      },
      "source": [
        "## Problem 4 Answers (Edit this cell)\n",
        "\n",
        "### Part A\n",
        "\n",
        "1. Each row represents one **business including id, name, address and location, stars, amount of reviews, if it's open, and some business tags**\n",
        "1. We should merge on **business_id**\n",
        "\n",
        "### Part B\n",
        "\n",
        "1. Open businesses tend to have higher stars than shut down businesses. Also, open businesses tend to have more consistent results, while shut down businesses' stars vary wildly from month to month.\n",
        "1. 2 possible reasons are:\n",
        "    1. Shut down businesses could have lower stars because people may be giving shut down businesses 0-star reviews out of frustration since they can't recieve the business' service.\n",
        "    1. An explanation of shut down business star inconsistency may be that business with inconsistency results tend to shut down because inconsistent results drive inconsistent sales which are difficult to plan around."
      ]
    },
    {
      "cell_type": "code",
      "metadata": {
        "id": "2hfMBmjaB574"
      },
      "source": [
        "# read in the business info file, call the dataframe biz, e.g. biz = pd.read_csv(...)\n",
        "\n",
        "quebec_biz_df = pd.read_csv(fpath + 'quebec_biz.csv', index_col=0)\n"
      ],
      "execution_count": null,
      "outputs": []
    },
    {
      "cell_type": "code",
      "metadata": {
        "id": "_64Zf-KitgLl",
        "colab": {
          "base_uri": "https://localhost:8080/",
          "height": 206
        },
        "outputId": "fb8292b5-8d99-4630-f627-6a984465571b"
      },
      "source": [
        "# Take a look at the first few rows to determine the observational unit\n",
        "\n",
        "quebec_biz_df.head()"
      ],
      "execution_count": null,
      "outputs": [
        {
          "output_type": "execute_result",
          "data": {
            "text/plain": [
              "               business_id            name                   address  \\\n",
              "2   XNoUzKckATkOD1hP6vghZg         Felinus     3554 Rue Notre-Dame O   \n",
              "31  pcaQDBM6r0PWTXfYZK6RdA       IGA Extra  8130 Boulevard Champlain   \n",
              "43  LoRef3ChgZKbxUio-sHgQg            Amir     5252 Rue Jean Talon O   \n",
              "45  _xOeoXfPUQTNlUAhXl32ug       Starbucks  150 Boulevard Crémazie E   \n",
              "57  3BfGGIJn8lxvu1k3ZZnL1w  Théâtre Corona     2490 Rue Notre-Dame O   \n",
              "\n",
              "        city state postal_code   latitude  longitude  biz_stars  review_count  \\\n",
              "2   Montreal    QC     H4C 1P4  45.479984 -73.580070        5.0             5   \n",
              "31   Lasalle    QC     H8P 1B4  45.425645 -73.611934        3.0             6   \n",
              "43  Montréal    QC     H4P 2A7  45.494870 -73.651904        3.0            18   \n",
              "45  Montréal    QC     H2P 1E2  45.542993 -73.640218        3.5             4   \n",
              "57  Montréal    QC     H3J 1N5  45.482777 -73.575006        4.0            18   \n",
              "\n",
              "    is_open                                         attributes  \\\n",
              "2         1                                                NaN   \n",
              "31        1  {'BusinessParking': \"{'garage': False, 'street...   \n",
              "43        1  {'RestaurantsAttire': \"u'casual'\", 'Restaurant...   \n",
              "45        1  {'RestaurantsTakeOut': 'True', 'RestaurantsPri...   \n",
              "57        1  {'OutdoorSeating': 'False', 'RestaurantsPriceR...   \n",
              "\n",
              "                                           categories  \\\n",
              "2                    Pets, Pet Services, Pet Groomers   \n",
              "31                                      Food, Grocery   \n",
              "43              Restaurants, Lebanese, Middle Eastern   \n",
              "45                                 Coffee & Tea, Food   \n",
              "57  Nightlife, Arts & Entertainment, Performing Ar...   \n",
              "\n",
              "                                                hours  \n",
              "2                                                 NaN  \n",
              "31  {'Monday': '8:0-22:0', 'Tuesday': '8:0-22:0', ...  \n",
              "43                                                NaN  \n",
              "45  {'Monday': '5:30-23:0', 'Tuesday': '5:30-23:0'...  \n",
              "57                                                NaN  "
            ],
            "text/html": [
              "\n",
              "  <div id=\"df-be33ade3-67b7-4ebb-829c-ce6f727f6707\">\n",
              "    <div class=\"colab-df-container\">\n",
              "      <div>\n",
              "<style scoped>\n",
              "    .dataframe tbody tr th:only-of-type {\n",
              "        vertical-align: middle;\n",
              "    }\n",
              "\n",
              "    .dataframe tbody tr th {\n",
              "        vertical-align: top;\n",
              "    }\n",
              "\n",
              "    .dataframe thead th {\n",
              "        text-align: right;\n",
              "    }\n",
              "</style>\n",
              "<table border=\"1\" class=\"dataframe\">\n",
              "  <thead>\n",
              "    <tr style=\"text-align: right;\">\n",
              "      <th></th>\n",
              "      <th>business_id</th>\n",
              "      <th>name</th>\n",
              "      <th>address</th>\n",
              "      <th>city</th>\n",
              "      <th>state</th>\n",
              "      <th>postal_code</th>\n",
              "      <th>latitude</th>\n",
              "      <th>longitude</th>\n",
              "      <th>biz_stars</th>\n",
              "      <th>review_count</th>\n",
              "      <th>is_open</th>\n",
              "      <th>attributes</th>\n",
              "      <th>categories</th>\n",
              "      <th>hours</th>\n",
              "    </tr>\n",
              "  </thead>\n",
              "  <tbody>\n",
              "    <tr>\n",
              "      <th>2</th>\n",
              "      <td>XNoUzKckATkOD1hP6vghZg</td>\n",
              "      <td>Felinus</td>\n",
              "      <td>3554 Rue Notre-Dame O</td>\n",
              "      <td>Montreal</td>\n",
              "      <td>QC</td>\n",
              "      <td>H4C 1P4</td>\n",
              "      <td>45.479984</td>\n",
              "      <td>-73.580070</td>\n",
              "      <td>5.0</td>\n",
              "      <td>5</td>\n",
              "      <td>1</td>\n",
              "      <td>NaN</td>\n",
              "      <td>Pets, Pet Services, Pet Groomers</td>\n",
              "      <td>NaN</td>\n",
              "    </tr>\n",
              "    <tr>\n",
              "      <th>31</th>\n",
              "      <td>pcaQDBM6r0PWTXfYZK6RdA</td>\n",
              "      <td>IGA Extra</td>\n",
              "      <td>8130 Boulevard Champlain</td>\n",
              "      <td>Lasalle</td>\n",
              "      <td>QC</td>\n",
              "      <td>H8P 1B4</td>\n",
              "      <td>45.425645</td>\n",
              "      <td>-73.611934</td>\n",
              "      <td>3.0</td>\n",
              "      <td>6</td>\n",
              "      <td>1</td>\n",
              "      <td>{'BusinessParking': \"{'garage': False, 'street...</td>\n",
              "      <td>Food, Grocery</td>\n",
              "      <td>{'Monday': '8:0-22:0', 'Tuesday': '8:0-22:0', ...</td>\n",
              "    </tr>\n",
              "    <tr>\n",
              "      <th>43</th>\n",
              "      <td>LoRef3ChgZKbxUio-sHgQg</td>\n",
              "      <td>Amir</td>\n",
              "      <td>5252 Rue Jean Talon O</td>\n",
              "      <td>Montréal</td>\n",
              "      <td>QC</td>\n",
              "      <td>H4P 2A7</td>\n",
              "      <td>45.494870</td>\n",
              "      <td>-73.651904</td>\n",
              "      <td>3.0</td>\n",
              "      <td>18</td>\n",
              "      <td>1</td>\n",
              "      <td>{'RestaurantsAttire': \"u'casual'\", 'Restaurant...</td>\n",
              "      <td>Restaurants, Lebanese, Middle Eastern</td>\n",
              "      <td>NaN</td>\n",
              "    </tr>\n",
              "    <tr>\n",
              "      <th>45</th>\n",
              "      <td>_xOeoXfPUQTNlUAhXl32ug</td>\n",
              "      <td>Starbucks</td>\n",
              "      <td>150 Boulevard Crémazie E</td>\n",
              "      <td>Montréal</td>\n",
              "      <td>QC</td>\n",
              "      <td>H2P 1E2</td>\n",
              "      <td>45.542993</td>\n",
              "      <td>-73.640218</td>\n",
              "      <td>3.5</td>\n",
              "      <td>4</td>\n",
              "      <td>1</td>\n",
              "      <td>{'RestaurantsTakeOut': 'True', 'RestaurantsPri...</td>\n",
              "      <td>Coffee &amp; Tea, Food</td>\n",
              "      <td>{'Monday': '5:30-23:0', 'Tuesday': '5:30-23:0'...</td>\n",
              "    </tr>\n",
              "    <tr>\n",
              "      <th>57</th>\n",
              "      <td>3BfGGIJn8lxvu1k3ZZnL1w</td>\n",
              "      <td>Théâtre Corona</td>\n",
              "      <td>2490 Rue Notre-Dame O</td>\n",
              "      <td>Montréal</td>\n",
              "      <td>QC</td>\n",
              "      <td>H3J 1N5</td>\n",
              "      <td>45.482777</td>\n",
              "      <td>-73.575006</td>\n",
              "      <td>4.0</td>\n",
              "      <td>18</td>\n",
              "      <td>1</td>\n",
              "      <td>{'OutdoorSeating': 'False', 'RestaurantsPriceR...</td>\n",
              "      <td>Nightlife, Arts &amp; Entertainment, Performing Ar...</td>\n",
              "      <td>NaN</td>\n",
              "    </tr>\n",
              "  </tbody>\n",
              "</table>\n",
              "</div>\n",
              "      <button class=\"colab-df-convert\" onclick=\"convertToInteractive('df-be33ade3-67b7-4ebb-829c-ce6f727f6707')\"\n",
              "              title=\"Convert this dataframe to an interactive table.\"\n",
              "              style=\"display:none;\">\n",
              "        \n",
              "  <svg xmlns=\"http://www.w3.org/2000/svg\" height=\"24px\"viewBox=\"0 0 24 24\"\n",
              "       width=\"24px\">\n",
              "    <path d=\"M0 0h24v24H0V0z\" fill=\"none\"/>\n",
              "    <path d=\"M18.56 5.44l.94 2.06.94-2.06 2.06-.94-2.06-.94-.94-2.06-.94 2.06-2.06.94zm-11 1L8.5 8.5l.94-2.06 2.06-.94-2.06-.94L8.5 2.5l-.94 2.06-2.06.94zm10 10l.94 2.06.94-2.06 2.06-.94-2.06-.94-.94-2.06-.94 2.06-2.06.94z\"/><path d=\"M17.41 7.96l-1.37-1.37c-.4-.4-.92-.59-1.43-.59-.52 0-1.04.2-1.43.59L10.3 9.45l-7.72 7.72c-.78.78-.78 2.05 0 2.83L4 21.41c.39.39.9.59 1.41.59.51 0 1.02-.2 1.41-.59l7.78-7.78 2.81-2.81c.8-.78.8-2.07 0-2.86zM5.41 20L4 18.59l7.72-7.72 1.47 1.35L5.41 20z\"/>\n",
              "  </svg>\n",
              "      </button>\n",
              "      \n",
              "  <style>\n",
              "    .colab-df-container {\n",
              "      display:flex;\n",
              "      flex-wrap:wrap;\n",
              "      gap: 12px;\n",
              "    }\n",
              "\n",
              "    .colab-df-convert {\n",
              "      background-color: #E8F0FE;\n",
              "      border: none;\n",
              "      border-radius: 50%;\n",
              "      cursor: pointer;\n",
              "      display: none;\n",
              "      fill: #1967D2;\n",
              "      height: 32px;\n",
              "      padding: 0 0 0 0;\n",
              "      width: 32px;\n",
              "    }\n",
              "\n",
              "    .colab-df-convert:hover {\n",
              "      background-color: #E2EBFA;\n",
              "      box-shadow: 0px 1px 2px rgba(60, 64, 67, 0.3), 0px 1px 3px 1px rgba(60, 64, 67, 0.15);\n",
              "      fill: #174EA6;\n",
              "    }\n",
              "\n",
              "    [theme=dark] .colab-df-convert {\n",
              "      background-color: #3B4455;\n",
              "      fill: #D2E3FC;\n",
              "    }\n",
              "\n",
              "    [theme=dark] .colab-df-convert:hover {\n",
              "      background-color: #434B5C;\n",
              "      box-shadow: 0px 1px 3px 1px rgba(0, 0, 0, 0.15);\n",
              "      filter: drop-shadow(0px 1px 2px rgba(0, 0, 0, 0.3));\n",
              "      fill: #FFFFFF;\n",
              "    }\n",
              "  </style>\n",
              "\n",
              "      <script>\n",
              "        const buttonEl =\n",
              "          document.querySelector('#df-be33ade3-67b7-4ebb-829c-ce6f727f6707 button.colab-df-convert');\n",
              "        buttonEl.style.display =\n",
              "          google.colab.kernel.accessAllowed ? 'block' : 'none';\n",
              "\n",
              "        async function convertToInteractive(key) {\n",
              "          const element = document.querySelector('#df-be33ade3-67b7-4ebb-829c-ce6f727f6707');\n",
              "          const dataTable =\n",
              "            await google.colab.kernel.invokeFunction('convertToInteractive',\n",
              "                                                     [key], {});\n",
              "          if (!dataTable) return;\n",
              "\n",
              "          const docLinkHtml = 'Like what you see? Visit the ' +\n",
              "            '<a target=\"_blank\" href=https://colab.research.google.com/notebooks/data_table.ipynb>data table notebook</a>'\n",
              "            + ' to learn more about interactive tables.';\n",
              "          element.innerHTML = '';\n",
              "          dataTable['output_type'] = 'display_data';\n",
              "          await google.colab.output.renderOutput(dataTable, element);\n",
              "          const docLink = document.createElement('div');\n",
              "          docLink.innerHTML = docLinkHtml;\n",
              "          element.appendChild(docLink);\n",
              "        }\n",
              "      </script>\n",
              "    </div>\n",
              "  </div>\n",
              "  "
            ]
          },
          "metadata": {},
          "execution_count": 57
        }
      ]
    },
    {
      "cell_type": "code",
      "metadata": {
        "id": "hlLltBeJtlrH"
      },
      "source": [
        "# merge the 2 datasets\n",
        "merged_quebec_reviews_df = filtered_reviews_df.merge(quebec_biz_df, how='left', on='business_id')\n",
        "\n"
      ],
      "execution_count": null,
      "outputs": []
    },
    {
      "cell_type": "code",
      "metadata": {
        "id": "inLgrx3ztxEJ",
        "colab": {
          "base_uri": "https://localhost:8080/"
        },
        "outputId": "14a4e79b-7477-4bcf-c611-d39f58b20b90"
      },
      "source": [
        "# take a look at the columns of the resulting dataframe\n",
        "# make sure it has all the columns from both the review and business datasets\n",
        "\n",
        "# using sets to be 100% sure\n",
        "# if the symmetric difference between the merged df's rows and the resulting one is an empty set, then they are equal\n",
        "m_rows = set(merged_quebec_reviews_df.columns.unique())\n",
        "f_rows = set(filtered_reviews_df.columns.unique())\n",
        "b_rows = set(quebec_biz_df.columns.unique())\n",
        "\n",
        "expected_rows = f_rows.union(b_rows)\n",
        "\n",
        "print(expected_rows.symmetric_difference(m_rows))\n",
        "print(merged_quebec_reviews_df.columns.unique())\n",
        "\n",
        "# empty set -> expected result\n",
        "\n",
        "\n"
      ],
      "execution_count": null,
      "outputs": [
        {
          "output_type": "stream",
          "name": "stdout",
          "text": [
            "set()\n",
            "Index(['review_id', 'user_id', 'business_id', 'useful', 'funny', 'cool',\n",
            "       'text', 'date', 'stars', 'ym', 'name', 'address', 'city', 'state',\n",
            "       'postal_code', 'latitude', 'longitude', 'biz_stars', 'review_count',\n",
            "       'is_open', 'attributes', 'categories', 'hours'],\n",
            "      dtype='object')\n"
          ]
        }
      ]
    },
    {
      "cell_type": "code",
      "metadata": {
        "id": "VTYtASMiuO1Q",
        "colab": {
          "base_uri": "https://localhost:8080/",
          "height": 361
        },
        "outputId": "92d07832-1db6-4b56-c5ef-5d4cc0112de1"
      },
      "source": [
        "# make your plot, use groupby summary and unstack syntax \n",
        "# to construct plot, see examples from notes\n",
        "\n",
        "# making the plot easier to read\n",
        "plt.rcParams[\"figure.figsize\"] = (20,5)\n",
        "\n",
        "merged_quebec_reviews_df.groupby(['ym', 'is_open'])['stars'].mean().unstack('is_open').plot()\n",
        "plt.title('Monthly Reviews')\n",
        "plt.xlabel('Year-Month')\n",
        "plt.ylabel('Average Review')\n",
        "plt.show()\n",
        "\n",
        "\n"
      ],
      "execution_count": null,
      "outputs": [
        {
          "output_type": "display_data",
          "data": {
            "text/plain": [
              "<Figure size 1440x360 with 1 Axes>"
            ],
            "image/png": "[encoded data removed]"
          },
          "metadata": {
            "needs_background": "light"
          }
        }
      ]
    }
  ]
}