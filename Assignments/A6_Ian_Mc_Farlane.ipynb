{
  "nbformat": 4,
  "nbformat_minor": 0,
  "metadata": {
    "colab": {
      "provenance": []
    },
    "kernelspec": {
      "name": "python3",
      "display_name": "Python 3"
    }
  },
  "cells": [
    {
      "cell_type": "markdown",
      "metadata": {
        "id": "v8tuBEKOxdJH"
      },
      "source": [
        "# A6 Customer Segmentation\n",
        "\n",
        "**Rationale** The idea for this assignment is to give you hands on experience in applying behavioral segmentation techniques to real world data where the variables you use for segmentation are not already created for you (you must define them first). Thus you must first do \"feature engineering\" before you can do segmentation. Don't worry, this problem is broken down into components.\n",
        "\n",
        "The dataset we use is a retail invoice. Each invoice is one purchase occassion, and for each invoice we have several observations representing the unique items (stockcode) purchased on that occassion.\n",
        "\n",
        "The goal of the first part is to create useful features about each consumer's observed behaviors, i.e. go from transaction level to customer level data. The goal of the second part is to then do behavioral segmentation based on these newly constructed features. "
      ]
    },
    {
      "cell_type": "markdown",
      "metadata": {
        "id": "B3dWWTS5s0CG"
      },
      "source": [
        "# Part 1 Feature Engineering (25 points)\n",
        "\n",
        "Generally, feature engineering is where your marketing domain knowledge comes into play. In other words, your intuitions about what matters in terms of separating consumers into different groups should drive what features (aka variables/columns) to create. However, in this assignment, you are expected to compute the characteristics detailed in the following instructions.\n"
      ]
    },
    {
      "cell_type": "markdown",
      "metadata": {
        "id": "kuRzBzBmtCeN"
      },
      "source": [
        "Read in the data, preview it, and familiarize yourself with the contents of the data."
      ]
    },
    {
      "cell_type": "code",
      "metadata": {
        "colab": {
          "base_uri": "https://localhost:8080/"
        },
        "id": "tGm3SB4BtEGQ",
        "outputId": "46647289-01e7-49ad-922f-cad7c11e2210"
      },
      "source": [
        "import pandas as pd, numpy as np, os, matplotlib.pyplot as plt\n",
        "from google.colab import drive\n",
        "from sklearn.decomposition import PCA\n",
        "from sklearn.cluster import KMeans\n",
        "drive.mount('drive', force_remount=True)"
      ],
      "execution_count": 35,
      "outputs": [
        {
          "output_type": "stream",
          "name": "stdout",
          "text": [
            "Mounted at drive\n"
          ]
        }
      ]
    },
    {
      "cell_type": "code",
      "metadata": {
        "colab": {
          "base_uri": "https://localhost:8080/"
        },
        "id": "A16TwN9btXws",
        "outputId": "266d6cdb-0452-4895-927e-fbeda4fae3db"
      },
      "source": [
        "fpath = 'drive/MyDrive/Colab Notebooks/Data Analytics I/Datasets/Assignment 6/' # change the path here\n",
        "os.listdir(fpath)"
      ],
      "execution_count": 36,
      "outputs": [
        {
          "output_type": "execute_result",
          "data": {
            "text/plain": [
              "['online_invoices.csv']"
            ]
          },
          "metadata": {},
          "execution_count": 36
        }
      ]
    },
    {
      "cell_type": "code",
      "metadata": {
        "id": "-lVcVTC9tgmm"
      },
      "source": [
        "# Read in the data (csv file)\n",
        "df = pd.read_csv(fpath + 'online_invoices.csv', index_col = 0)"
      ],
      "execution_count": 37,
      "outputs": []
    },
    {
      "cell_type": "code",
      "metadata": {
        "id": "VKsPGGcLtn_w",
        "colab": {
          "base_uri": "https://localhost:8080/",
          "height": 206
        },
        "outputId": "7cc4207f-624c-4c8e-9877-df00b4155d88"
      },
      "source": [
        "# Preview the data\n",
        "df.head()"
      ],
      "execution_count": 38,
      "outputs": [
        {
          "output_type": "execute_result",
          "data": {
            "text/plain": [
              "   InvoiceNo StockCode                          Description  Quantity  \\\n",
              "0     536365    85123A   WHITE HANGING HEART T-LIGHT HOLDER         6   \n",
              "1     536365     71053                  WHITE METAL LANTERN         6   \n",
              "2     536365    84406B       CREAM CUPID HEARTS COAT HANGER         8   \n",
              "3     536365    84029G  KNITTED UNION FLAG HOT WATER BOTTLE         6   \n",
              "4     536365    84029E       RED WOOLLY HOTTIE WHITE HEART.         6   \n",
              "\n",
              "      InvoiceDate  UnitPrice  CustomerID         Country  \n",
              "0  12/1/2010 8:26       2.55     17850.0  United Kingdom  \n",
              "1  12/1/2010 8:26       3.39     17850.0  United Kingdom  \n",
              "2  12/1/2010 8:26       2.75     17850.0  United Kingdom  \n",
              "3  12/1/2010 8:26       3.39     17850.0  United Kingdom  \n",
              "4  12/1/2010 8:26       3.39     17850.0  United Kingdom  "
            ],
            "text/html": [
              "\n",
              "  <div id=\"df-52dc8695-2f7f-48e2-8d90-45b0bb2c3e0a\">\n",
              "    <div class=\"colab-df-container\">\n",
              "      <div>\n",
              "<style scoped>\n",
              "    .dataframe tbody tr th:only-of-type {\n",
              "        vertical-align: middle;\n",
              "    }\n",
              "\n",
              "    .dataframe tbody tr th {\n",
              "        vertical-align: top;\n",
              "    }\n",
              "\n",
              "    .dataframe thead th {\n",
              "        text-align: right;\n",
              "    }\n",
              "</style>\n",
              "<table border=\"1\" class=\"dataframe\">\n",
              "  <thead>\n",
              "    <tr style=\"text-align: right;\">\n",
              "      <th></th>\n",
              "      <th>InvoiceNo</th>\n",
              "      <th>StockCode</th>\n",
              "      <th>Description</th>\n",
              "      <th>Quantity</th>\n",
              "      <th>InvoiceDate</th>\n",
              "      <th>UnitPrice</th>\n",
              "      <th>CustomerID</th>\n",
              "      <th>Country</th>\n",
              "    </tr>\n",
              "  </thead>\n",
              "  <tbody>\n",
              "    <tr>\n",
              "      <th>0</th>\n",
              "      <td>536365</td>\n",
              "      <td>85123A</td>\n",
              "      <td>WHITE HANGING HEART T-LIGHT HOLDER</td>\n",
              "      <td>6</td>\n",
              "      <td>12/1/2010 8:26</td>\n",
              "      <td>2.55</td>\n",
              "      <td>17850.0</td>\n",
              "      <td>United Kingdom</td>\n",
              "    </tr>\n",
              "    <tr>\n",
              "      <th>1</th>\n",
              "      <td>536365</td>\n",
              "      <td>71053</td>\n",
              "      <td>WHITE METAL LANTERN</td>\n",
              "      <td>6</td>\n",
              "      <td>12/1/2010 8:26</td>\n",
              "      <td>3.39</td>\n",
              "      <td>17850.0</td>\n",
              "      <td>United Kingdom</td>\n",
              "    </tr>\n",
              "    <tr>\n",
              "      <th>2</th>\n",
              "      <td>536365</td>\n",
              "      <td>84406B</td>\n",
              "      <td>CREAM CUPID HEARTS COAT HANGER</td>\n",
              "      <td>8</td>\n",
              "      <td>12/1/2010 8:26</td>\n",
              "      <td>2.75</td>\n",
              "      <td>17850.0</td>\n",
              "      <td>United Kingdom</td>\n",
              "    </tr>\n",
              "    <tr>\n",
              "      <th>3</th>\n",
              "      <td>536365</td>\n",
              "      <td>84029G</td>\n",
              "      <td>KNITTED UNION FLAG HOT WATER BOTTLE</td>\n",
              "      <td>6</td>\n",
              "      <td>12/1/2010 8:26</td>\n",
              "      <td>3.39</td>\n",
              "      <td>17850.0</td>\n",
              "      <td>United Kingdom</td>\n",
              "    </tr>\n",
              "    <tr>\n",
              "      <th>4</th>\n",
              "      <td>536365</td>\n",
              "      <td>84029E</td>\n",
              "      <td>RED WOOLLY HOTTIE WHITE HEART.</td>\n",
              "      <td>6</td>\n",
              "      <td>12/1/2010 8:26</td>\n",
              "      <td>3.39</td>\n",
              "      <td>17850.0</td>\n",
              "      <td>United Kingdom</td>\n",
              "    </tr>\n",
              "  </tbody>\n",
              "</table>\n",
              "</div>\n",
              "      <button class=\"colab-df-convert\" onclick=\"convertToInteractive('df-52dc8695-2f7f-48e2-8d90-45b0bb2c3e0a')\"\n",
              "              title=\"Convert this dataframe to an interactive table.\"\n",
              "              style=\"display:none;\">\n",
              "        \n",
              "  <svg xmlns=\"http://www.w3.org/2000/svg\" height=\"24px\"viewBox=\"0 0 24 24\"\n",
              "       width=\"24px\">\n",
              "    <path d=\"M0 0h24v24H0V0z\" fill=\"none\"/>\n",
              "    <path d=\"M18.56 5.44l.94 2.06.94-2.06 2.06-.94-2.06-.94-.94-2.06-.94 2.06-2.06.94zm-11 1L8.5 8.5l.94-2.06 2.06-.94-2.06-.94L8.5 2.5l-.94 2.06-2.06.94zm10 10l.94 2.06.94-2.06 2.06-.94-2.06-.94-.94-2.06-.94 2.06-2.06.94z\"/><path d=\"M17.41 7.96l-1.37-1.37c-.4-.4-.92-.59-1.43-.59-.52 0-1.04.2-1.43.59L10.3 9.45l-7.72 7.72c-.78.78-.78 2.05 0 2.83L4 21.41c.39.39.9.59 1.41.59.51 0 1.02-.2 1.41-.59l7.78-7.78 2.81-2.81c.8-.78.8-2.07 0-2.86zM5.41 20L4 18.59l7.72-7.72 1.47 1.35L5.41 20z\"/>\n",
              "  </svg>\n",
              "      </button>\n",
              "      \n",
              "  <style>\n",
              "    .colab-df-container {\n",
              "      display:flex;\n",
              "      flex-wrap:wrap;\n",
              "      gap: 12px;\n",
              "    }\n",
              "\n",
              "    .colab-df-convert {\n",
              "      background-color: #E8F0FE;\n",
              "      border: none;\n",
              "      border-radius: 50%;\n",
              "      cursor: pointer;\n",
              "      display: none;\n",
              "      fill: #1967D2;\n",
              "      height: 32px;\n",
              "      padding: 0 0 0 0;\n",
              "      width: 32px;\n",
              "    }\n",
              "\n",
              "    .colab-df-convert:hover {\n",
              "      background-color: #E2EBFA;\n",
              "      box-shadow: 0px 1px 2px rgba(60, 64, 67, 0.3), 0px 1px 3px 1px rgba(60, 64, 67, 0.15);\n",
              "      fill: #174EA6;\n",
              "    }\n",
              "\n",
              "    [theme=dark] .colab-df-convert {\n",
              "      background-color: #3B4455;\n",
              "      fill: #D2E3FC;\n",
              "    }\n",
              "\n",
              "    [theme=dark] .colab-df-convert:hover {\n",
              "      background-color: #434B5C;\n",
              "      box-shadow: 0px 1px 3px 1px rgba(0, 0, 0, 0.15);\n",
              "      filter: drop-shadow(0px 1px 2px rgba(0, 0, 0, 0.3));\n",
              "      fill: #FFFFFF;\n",
              "    }\n",
              "  </style>\n",
              "\n",
              "      <script>\n",
              "        const buttonEl =\n",
              "          document.querySelector('#df-52dc8695-2f7f-48e2-8d90-45b0bb2c3e0a button.colab-df-convert');\n",
              "        buttonEl.style.display =\n",
              "          google.colab.kernel.accessAllowed ? 'block' : 'none';\n",
              "\n",
              "        async function convertToInteractive(key) {\n",
              "          const element = document.querySelector('#df-52dc8695-2f7f-48e2-8d90-45b0bb2c3e0a');\n",
              "          const dataTable =\n",
              "            await google.colab.kernel.invokeFunction('convertToInteractive',\n",
              "                                                     [key], {});\n",
              "          if (!dataTable) return;\n",
              "\n",
              "          const docLinkHtml = 'Like what you see? Visit the ' +\n",
              "            '<a target=\"_blank\" href=https://colab.research.google.com/notebooks/data_table.ipynb>data table notebook</a>'\n",
              "            + ' to learn more about interactive tables.';\n",
              "          element.innerHTML = '';\n",
              "          dataTable['output_type'] = 'display_data';\n",
              "          await google.colab.output.renderOutput(dataTable, element);\n",
              "          const docLink = document.createElement('div');\n",
              "          docLink.innerHTML = docLinkHtml;\n",
              "          element.appendChild(docLink);\n",
              "        }\n",
              "      </script>\n",
              "    </div>\n",
              "  </div>\n",
              "  "
            ]
          },
          "metadata": {},
          "execution_count": 38
        }
      ]
    },
    {
      "cell_type": "markdown",
      "metadata": {
        "id": "Ui2NVHT2t6Vu"
      },
      "source": [
        "**Answer questions here**\n",
        "\n",
        "What does each row represent? C (pick one)\n",
        "\n",
        "A. 1 invoice (1 point of sale transaction) \\\\\n",
        "B. A single item sold \\\\\n",
        "C. Each unique item sold in a transaction \\\\\n",
        "D. Daily sales \\\\\n",
        "E. 1 customer's total purchases on each day\n"
      ]
    },
    {
      "cell_type": "markdown",
      "metadata": {
        "id": "Oxk5psRYtTmq"
      },
      "source": [
        "\n",
        "## Unique count variables\n",
        "\n",
        "Create a dataframe, `df_u` that represents each consumer's total number of transactions and unique products purchased.\n",
        "\n",
        "Hint: use a `groupby` + `.nunique()` statement. `df.groupby('id')[['var1', 'var2',....]].nunique().reset_index()` will compute the number of unique values of columns 'var1', 'var2',.... for each \"id\". You should calculate the number of unique `StockCode`'s (like SKU's) and `InvoicesNo`'s for each `CustomerID`. Change your column names in the resulting dataframe, `df_u`, to `['CustomerID', 'NProducts', 'NTrans']`."
      ]
    },
    {
      "cell_type": "code",
      "metadata": {
        "id": "iBChy9Wit6YH"
      },
      "source": [
        "# use a groupby operation with the nunique summary function to calculate the number of unique\n",
        "# product SKU's and transactions for each item\n",
        "# call the resulting dataframe df_u\n",
        "df_u = df.groupby('CustomerID')[['StockCode', 'InvoiceNo']].nunique().reset_index()\n"
      ],
      "execution_count": 39,
      "outputs": []
    },
    {
      "cell_type": "code",
      "metadata": {
        "id": "lU8oH59PC_n6"
      },
      "source": [
        "# rename the columns for unique transactions and products purchased to:\n",
        "# NTrans and NProducts, respectively \n",
        "# Remember, you can either use the syntax dataframe.columns = ['col1', 'col2',....] <- set all the column names using list of strings for each column\n",
        "# or you can use dataframe.rename(columns = {'oldcolname':'newcolname', 'oldcolname2':'newcolname2', ....}, inplace = True) <- rename only the ones that should be renamed\n",
        "\n",
        "renaming = {'CustomerID':'CustomerID', \n",
        "            'StockCode':'NProducts', \n",
        "            'InvoiceNo':'NTrans'}\n",
        "\n",
        "df_u = df_u.rename(columns = renaming)"
      ],
      "execution_count": 40,
      "outputs": []
    },
    {
      "cell_type": "code",
      "metadata": {
        "id": "GyMvxP5qMTk-",
        "colab": {
          "base_uri": "https://localhost:8080/",
          "height": 206
        },
        "outputId": "aaea6d22-9b42-4007-f747-f370cce9773d"
      },
      "source": [
        "# take a look at the first 5 rows of resulting dataframe, make sure contents are what you expect\n",
        "\n",
        "df_u.head()"
      ],
      "execution_count": 41,
      "outputs": [
        {
          "output_type": "execute_result",
          "data": {
            "text/plain": [
              "   CustomerID  NProducts  NTrans\n",
              "0     12346.0          1       1\n",
              "1     12347.0        103       7\n",
              "2     12348.0         21       4\n",
              "3     12349.0         72       1\n",
              "4     12350.0         16       1"
            ],
            "text/html": [
              "\n",
              "  <div id=\"df-72a40704-3619-442e-a2f3-35be8db19217\">\n",
              "    <div class=\"colab-df-container\">\n",
              "      <div>\n",
              "<style scoped>\n",
              "    .dataframe tbody tr th:only-of-type {\n",
              "        vertical-align: middle;\n",
              "    }\n",
              "\n",
              "    .dataframe tbody tr th {\n",
              "        vertical-align: top;\n",
              "    }\n",
              "\n",
              "    .dataframe thead th {\n",
              "        text-align: right;\n",
              "    }\n",
              "</style>\n",
              "<table border=\"1\" class=\"dataframe\">\n",
              "  <thead>\n",
              "    <tr style=\"text-align: right;\">\n",
              "      <th></th>\n",
              "      <th>CustomerID</th>\n",
              "      <th>NProducts</th>\n",
              "      <th>NTrans</th>\n",
              "    </tr>\n",
              "  </thead>\n",
              "  <tbody>\n",
              "    <tr>\n",
              "      <th>0</th>\n",
              "      <td>12346.0</td>\n",
              "      <td>1</td>\n",
              "      <td>1</td>\n",
              "    </tr>\n",
              "    <tr>\n",
              "      <th>1</th>\n",
              "      <td>12347.0</td>\n",
              "      <td>103</td>\n",
              "      <td>7</td>\n",
              "    </tr>\n",
              "    <tr>\n",
              "      <th>2</th>\n",
              "      <td>12348.0</td>\n",
              "      <td>21</td>\n",
              "      <td>4</td>\n",
              "    </tr>\n",
              "    <tr>\n",
              "      <th>3</th>\n",
              "      <td>12349.0</td>\n",
              "      <td>72</td>\n",
              "      <td>1</td>\n",
              "    </tr>\n",
              "    <tr>\n",
              "      <th>4</th>\n",
              "      <td>12350.0</td>\n",
              "      <td>16</td>\n",
              "      <td>1</td>\n",
              "    </tr>\n",
              "  </tbody>\n",
              "</table>\n",
              "</div>\n",
              "      <button class=\"colab-df-convert\" onclick=\"convertToInteractive('df-72a40704-3619-442e-a2f3-35be8db19217')\"\n",
              "              title=\"Convert this dataframe to an interactive table.\"\n",
              "              style=\"display:none;\">\n",
              "        \n",
              "  <svg xmlns=\"http://www.w3.org/2000/svg\" height=\"24px\"viewBox=\"0 0 24 24\"\n",
              "       width=\"24px\">\n",
              "    <path d=\"M0 0h24v24H0V0z\" fill=\"none\"/>\n",
              "    <path d=\"M18.56 5.44l.94 2.06.94-2.06 2.06-.94-2.06-.94-.94-2.06-.94 2.06-2.06.94zm-11 1L8.5 8.5l.94-2.06 2.06-.94-2.06-.94L8.5 2.5l-.94 2.06-2.06.94zm10 10l.94 2.06.94-2.06 2.06-.94-2.06-.94-.94-2.06-.94 2.06-2.06.94z\"/><path d=\"M17.41 7.96l-1.37-1.37c-.4-.4-.92-.59-1.43-.59-.52 0-1.04.2-1.43.59L10.3 9.45l-7.72 7.72c-.78.78-.78 2.05 0 2.83L4 21.41c.39.39.9.59 1.41.59.51 0 1.02-.2 1.41-.59l7.78-7.78 2.81-2.81c.8-.78.8-2.07 0-2.86zM5.41 20L4 18.59l7.72-7.72 1.47 1.35L5.41 20z\"/>\n",
              "  </svg>\n",
              "      </button>\n",
              "      \n",
              "  <style>\n",
              "    .colab-df-container {\n",
              "      display:flex;\n",
              "      flex-wrap:wrap;\n",
              "      gap: 12px;\n",
              "    }\n",
              "\n",
              "    .colab-df-convert {\n",
              "      background-color: #E8F0FE;\n",
              "      border: none;\n",
              "      border-radius: 50%;\n",
              "      cursor: pointer;\n",
              "      display: none;\n",
              "      fill: #1967D2;\n",
              "      height: 32px;\n",
              "      padding: 0 0 0 0;\n",
              "      width: 32px;\n",
              "    }\n",
              "\n",
              "    .colab-df-convert:hover {\n",
              "      background-color: #E2EBFA;\n",
              "      box-shadow: 0px 1px 2px rgba(60, 64, 67, 0.3), 0px 1px 3px 1px rgba(60, 64, 67, 0.15);\n",
              "      fill: #174EA6;\n",
              "    }\n",
              "\n",
              "    [theme=dark] .colab-df-convert {\n",
              "      background-color: #3B4455;\n",
              "      fill: #D2E3FC;\n",
              "    }\n",
              "\n",
              "    [theme=dark] .colab-df-convert:hover {\n",
              "      background-color: #434B5C;\n",
              "      box-shadow: 0px 1px 3px 1px rgba(0, 0, 0, 0.15);\n",
              "      filter: drop-shadow(0px 1px 2px rgba(0, 0, 0, 0.3));\n",
              "      fill: #FFFFFF;\n",
              "    }\n",
              "  </style>\n",
              "\n",
              "      <script>\n",
              "        const buttonEl =\n",
              "          document.querySelector('#df-72a40704-3619-442e-a2f3-35be8db19217 button.colab-df-convert');\n",
              "        buttonEl.style.display =\n",
              "          google.colab.kernel.accessAllowed ? 'block' : 'none';\n",
              "\n",
              "        async function convertToInteractive(key) {\n",
              "          const element = document.querySelector('#df-72a40704-3619-442e-a2f3-35be8db19217');\n",
              "          const dataTable =\n",
              "            await google.colab.kernel.invokeFunction('convertToInteractive',\n",
              "                                                     [key], {});\n",
              "          if (!dataTable) return;\n",
              "\n",
              "          const docLinkHtml = 'Like what you see? Visit the ' +\n",
              "            '<a target=\"_blank\" href=https://colab.research.google.com/notebooks/data_table.ipynb>data table notebook</a>'\n",
              "            + ' to learn more about interactive tables.';\n",
              "          element.innerHTML = '';\n",
              "          dataTable['output_type'] = 'display_data';\n",
              "          await google.colab.output.renderOutput(dataTable, element);\n",
              "          const docLink = document.createElement('div');\n",
              "          docLink.innerHTML = docLinkHtml;\n",
              "          element.appendChild(docLink);\n",
              "        }\n",
              "      </script>\n",
              "    </div>\n",
              "  </div>\n",
              "  "
            ]
          },
          "metadata": {},
          "execution_count": 41
        }
      ]
    },
    {
      "cell_type": "markdown",
      "metadata": {
        "id": "YLPqoJNPJCNE"
      },
      "source": [
        "\n",
        "## Customer spend\n",
        "\n",
        "Compute the total customer spending and number of units purchased for each customer of this retailer. \n",
        "\n",
        "Hint\n",
        "1. Create a column for `TotalSpend` (unit price x quantity)\n",
        "1. Use a (groupby + sum) to create a dataframe `df_s` that contains each customer's sum of `TotalSpend` and `Quantity`\n",
        "1. rename the quantity column to `TotalUnits`\n"
      ]
    },
    {
      "cell_type": "code",
      "metadata": {
        "id": "edY2KenyJGp4"
      },
      "source": [
        "# create total spend column\n",
        "df['total_spend'] =  df['Quantity'] * df['UnitPrice']"
      ],
      "execution_count": 42,
      "outputs": []
    },
    {
      "cell_type": "code",
      "metadata": {
        "id": "wLl_CD_0MFHZ",
        "colab": {
          "base_uri": "https://localhost:8080/",
          "height": 206
        },
        "outputId": "441f2b1e-b19e-42ab-a13f-baa5ad3a3d20"
      },
      "source": [
        "# create dataframe, df_s, that contains the total spend and quantity for each customer using groupby statement\n",
        "# remember to reset_index\n",
        "\n",
        "# group by CustomerId only or customer ID AND product type?\n",
        "df_s =  df.groupby('CustomerID')[['total_spend', 'Quantity']].sum().reset_index()\n",
        "df_s.head()"
      ],
      "execution_count": 43,
      "outputs": [
        {
          "output_type": "execute_result",
          "data": {
            "text/plain": [
              "   CustomerID  total_spend  Quantity\n",
              "0     12346.0     77183.60     74215\n",
              "1     12347.0      4310.00      2458\n",
              "2     12348.0      1437.24      2332\n",
              "3     12349.0      1457.55       630\n",
              "4     12350.0       294.40       196"
            ],
            "text/html": [
              "\n",
              "  <div id=\"df-9f3a994e-9098-448c-b0d0-2ab6df648a97\">\n",
              "    <div class=\"colab-df-container\">\n",
              "      <div>\n",
              "<style scoped>\n",
              "    .dataframe tbody tr th:only-of-type {\n",
              "        vertical-align: middle;\n",
              "    }\n",
              "\n",
              "    .dataframe tbody tr th {\n",
              "        vertical-align: top;\n",
              "    }\n",
              "\n",
              "    .dataframe thead th {\n",
              "        text-align: right;\n",
              "    }\n",
              "</style>\n",
              "<table border=\"1\" class=\"dataframe\">\n",
              "  <thead>\n",
              "    <tr style=\"text-align: right;\">\n",
              "      <th></th>\n",
              "      <th>CustomerID</th>\n",
              "      <th>total_spend</th>\n",
              "      <th>Quantity</th>\n",
              "    </tr>\n",
              "  </thead>\n",
              "  <tbody>\n",
              "    <tr>\n",
              "      <th>0</th>\n",
              "      <td>12346.0</td>\n",
              "      <td>77183.60</td>\n",
              "      <td>74215</td>\n",
              "    </tr>\n",
              "    <tr>\n",
              "      <th>1</th>\n",
              "      <td>12347.0</td>\n",
              "      <td>4310.00</td>\n",
              "      <td>2458</td>\n",
              "    </tr>\n",
              "    <tr>\n",
              "      <th>2</th>\n",
              "      <td>12348.0</td>\n",
              "      <td>1437.24</td>\n",
              "      <td>2332</td>\n",
              "    </tr>\n",
              "    <tr>\n",
              "      <th>3</th>\n",
              "      <td>12349.0</td>\n",
              "      <td>1457.55</td>\n",
              "      <td>630</td>\n",
              "    </tr>\n",
              "    <tr>\n",
              "      <th>4</th>\n",
              "      <td>12350.0</td>\n",
              "      <td>294.40</td>\n",
              "      <td>196</td>\n",
              "    </tr>\n",
              "  </tbody>\n",
              "</table>\n",
              "</div>\n",
              "      <button class=\"colab-df-convert\" onclick=\"convertToInteractive('df-9f3a994e-9098-448c-b0d0-2ab6df648a97')\"\n",
              "              title=\"Convert this dataframe to an interactive table.\"\n",
              "              style=\"display:none;\">\n",
              "        \n",
              "  <svg xmlns=\"http://www.w3.org/2000/svg\" height=\"24px\"viewBox=\"0 0 24 24\"\n",
              "       width=\"24px\">\n",
              "    <path d=\"M0 0h24v24H0V0z\" fill=\"none\"/>\n",
              "    <path d=\"M18.56 5.44l.94 2.06.94-2.06 2.06-.94-2.06-.94-.94-2.06-.94 2.06-2.06.94zm-11 1L8.5 8.5l.94-2.06 2.06-.94-2.06-.94L8.5 2.5l-.94 2.06-2.06.94zm10 10l.94 2.06.94-2.06 2.06-.94-2.06-.94-.94-2.06-.94 2.06-2.06.94z\"/><path d=\"M17.41 7.96l-1.37-1.37c-.4-.4-.92-.59-1.43-.59-.52 0-1.04.2-1.43.59L10.3 9.45l-7.72 7.72c-.78.78-.78 2.05 0 2.83L4 21.41c.39.39.9.59 1.41.59.51 0 1.02-.2 1.41-.59l7.78-7.78 2.81-2.81c.8-.78.8-2.07 0-2.86zM5.41 20L4 18.59l7.72-7.72 1.47 1.35L5.41 20z\"/>\n",
              "  </svg>\n",
              "      </button>\n",
              "      \n",
              "  <style>\n",
              "    .colab-df-container {\n",
              "      display:flex;\n",
              "      flex-wrap:wrap;\n",
              "      gap: 12px;\n",
              "    }\n",
              "\n",
              "    .colab-df-convert {\n",
              "      background-color: #E8F0FE;\n",
              "      border: none;\n",
              "      border-radius: 50%;\n",
              "      cursor: pointer;\n",
              "      display: none;\n",
              "      fill: #1967D2;\n",
              "      height: 32px;\n",
              "      padding: 0 0 0 0;\n",
              "      width: 32px;\n",
              "    }\n",
              "\n",
              "    .colab-df-convert:hover {\n",
              "      background-color: #E2EBFA;\n",
              "      box-shadow: 0px 1px 2px rgba(60, 64, 67, 0.3), 0px 1px 3px 1px rgba(60, 64, 67, 0.15);\n",
              "      fill: #174EA6;\n",
              "    }\n",
              "\n",
              "    [theme=dark] .colab-df-convert {\n",
              "      background-color: #3B4455;\n",
              "      fill: #D2E3FC;\n",
              "    }\n",
              "\n",
              "    [theme=dark] .colab-df-convert:hover {\n",
              "      background-color: #434B5C;\n",
              "      box-shadow: 0px 1px 3px 1px rgba(0, 0, 0, 0.15);\n",
              "      filter: drop-shadow(0px 1px 2px rgba(0, 0, 0, 0.3));\n",
              "      fill: #FFFFFF;\n",
              "    }\n",
              "  </style>\n",
              "\n",
              "      <script>\n",
              "        const buttonEl =\n",
              "          document.querySelector('#df-9f3a994e-9098-448c-b0d0-2ab6df648a97 button.colab-df-convert');\n",
              "        buttonEl.style.display =\n",
              "          google.colab.kernel.accessAllowed ? 'block' : 'none';\n",
              "\n",
              "        async function convertToInteractive(key) {\n",
              "          const element = document.querySelector('#df-9f3a994e-9098-448c-b0d0-2ab6df648a97');\n",
              "          const dataTable =\n",
              "            await google.colab.kernel.invokeFunction('convertToInteractive',\n",
              "                                                     [key], {});\n",
              "          if (!dataTable) return;\n",
              "\n",
              "          const docLinkHtml = 'Like what you see? Visit the ' +\n",
              "            '<a target=\"_blank\" href=https://colab.research.google.com/notebooks/data_table.ipynb>data table notebook</a>'\n",
              "            + ' to learn more about interactive tables.';\n",
              "          element.innerHTML = '';\n",
              "          dataTable['output_type'] = 'display_data';\n",
              "          await google.colab.output.renderOutput(dataTable, element);\n",
              "          const docLink = document.createElement('div');\n",
              "          docLink.innerHTML = docLinkHtml;\n",
              "          element.appendChild(docLink);\n",
              "        }\n",
              "      </script>\n",
              "    </div>\n",
              "  </div>\n",
              "  "
            ]
          },
          "metadata": {},
          "execution_count": 43
        }
      ]
    },
    {
      "cell_type": "code",
      "metadata": {
        "id": "oKLd7Pc0PVso"
      },
      "source": [
        "# rename columns so that resulting dataframe has columns: CustomerID, TotalSpend, and TotalUnits\n",
        "\n",
        "renaming = {'CustomerID':'CustomerID', \n",
        "            'total_spend':'TotalSpend', \n",
        "            'Quantity':'TotalUnits'}\n",
        "\n",
        "df_s = df_s.rename(columns = renaming)"
      ],
      "execution_count": 44,
      "outputs": []
    },
    {
      "cell_type": "code",
      "metadata": {
        "id": "mW2xFRfCMabu",
        "colab": {
          "base_uri": "https://localhost:8080/",
          "height": 206
        },
        "outputId": "a0fddf76-c425-4a4a-f138-d7f8ac44fd86"
      },
      "source": [
        "# take a look at the first 5 rows of resulting dataframe, make sure contents are what you expect\n",
        "df_s.head()\n"
      ],
      "execution_count": 45,
      "outputs": [
        {
          "output_type": "execute_result",
          "data": {
            "text/plain": [
              "   CustomerID  TotalSpend  TotalUnits\n",
              "0     12346.0    77183.60       74215\n",
              "1     12347.0     4310.00        2458\n",
              "2     12348.0     1437.24        2332\n",
              "3     12349.0     1457.55         630\n",
              "4     12350.0      294.40         196"
            ],
            "text/html": [
              "\n",
              "  <div id=\"df-ce65a0a9-694c-4609-8731-2cab1d918c43\">\n",
              "    <div class=\"colab-df-container\">\n",
              "      <div>\n",
              "<style scoped>\n",
              "    .dataframe tbody tr th:only-of-type {\n",
              "        vertical-align: middle;\n",
              "    }\n",
              "\n",
              "    .dataframe tbody tr th {\n",
              "        vertical-align: top;\n",
              "    }\n",
              "\n",
              "    .dataframe thead th {\n",
              "        text-align: right;\n",
              "    }\n",
              "</style>\n",
              "<table border=\"1\" class=\"dataframe\">\n",
              "  <thead>\n",
              "    <tr style=\"text-align: right;\">\n",
              "      <th></th>\n",
              "      <th>CustomerID</th>\n",
              "      <th>TotalSpend</th>\n",
              "      <th>TotalUnits</th>\n",
              "    </tr>\n",
              "  </thead>\n",
              "  <tbody>\n",
              "    <tr>\n",
              "      <th>0</th>\n",
              "      <td>12346.0</td>\n",
              "      <td>77183.60</td>\n",
              "      <td>74215</td>\n",
              "    </tr>\n",
              "    <tr>\n",
              "      <th>1</th>\n",
              "      <td>12347.0</td>\n",
              "      <td>4310.00</td>\n",
              "      <td>2458</td>\n",
              "    </tr>\n",
              "    <tr>\n",
              "      <th>2</th>\n",
              "      <td>12348.0</td>\n",
              "      <td>1437.24</td>\n",
              "      <td>2332</td>\n",
              "    </tr>\n",
              "    <tr>\n",
              "      <th>3</th>\n",
              "      <td>12349.0</td>\n",
              "      <td>1457.55</td>\n",
              "      <td>630</td>\n",
              "    </tr>\n",
              "    <tr>\n",
              "      <th>4</th>\n",
              "      <td>12350.0</td>\n",
              "      <td>294.40</td>\n",
              "      <td>196</td>\n",
              "    </tr>\n",
              "  </tbody>\n",
              "</table>\n",
              "</div>\n",
              "      <button class=\"colab-df-convert\" onclick=\"convertToInteractive('df-ce65a0a9-694c-4609-8731-2cab1d918c43')\"\n",
              "              title=\"Convert this dataframe to an interactive table.\"\n",
              "              style=\"display:none;\">\n",
              "        \n",
              "  <svg xmlns=\"http://www.w3.org/2000/svg\" height=\"24px\"viewBox=\"0 0 24 24\"\n",
              "       width=\"24px\">\n",
              "    <path d=\"M0 0h24v24H0V0z\" fill=\"none\"/>\n",
              "    <path d=\"M18.56 5.44l.94 2.06.94-2.06 2.06-.94-2.06-.94-.94-2.06-.94 2.06-2.06.94zm-11 1L8.5 8.5l.94-2.06 2.06-.94-2.06-.94L8.5 2.5l-.94 2.06-2.06.94zm10 10l.94 2.06.94-2.06 2.06-.94-2.06-.94-.94-2.06-.94 2.06-2.06.94z\"/><path d=\"M17.41 7.96l-1.37-1.37c-.4-.4-.92-.59-1.43-.59-.52 0-1.04.2-1.43.59L10.3 9.45l-7.72 7.72c-.78.78-.78 2.05 0 2.83L4 21.41c.39.39.9.59 1.41.59.51 0 1.02-.2 1.41-.59l7.78-7.78 2.81-2.81c.8-.78.8-2.07 0-2.86zM5.41 20L4 18.59l7.72-7.72 1.47 1.35L5.41 20z\"/>\n",
              "  </svg>\n",
              "      </button>\n",
              "      \n",
              "  <style>\n",
              "    .colab-df-container {\n",
              "      display:flex;\n",
              "      flex-wrap:wrap;\n",
              "      gap: 12px;\n",
              "    }\n",
              "\n",
              "    .colab-df-convert {\n",
              "      background-color: #E8F0FE;\n",
              "      border: none;\n",
              "      border-radius: 50%;\n",
              "      cursor: pointer;\n",
              "      display: none;\n",
              "      fill: #1967D2;\n",
              "      height: 32px;\n",
              "      padding: 0 0 0 0;\n",
              "      width: 32px;\n",
              "    }\n",
              "\n",
              "    .colab-df-convert:hover {\n",
              "      background-color: #E2EBFA;\n",
              "      box-shadow: 0px 1px 2px rgba(60, 64, 67, 0.3), 0px 1px 3px 1px rgba(60, 64, 67, 0.15);\n",
              "      fill: #174EA6;\n",
              "    }\n",
              "\n",
              "    [theme=dark] .colab-df-convert {\n",
              "      background-color: #3B4455;\n",
              "      fill: #D2E3FC;\n",
              "    }\n",
              "\n",
              "    [theme=dark] .colab-df-convert:hover {\n",
              "      background-color: #434B5C;\n",
              "      box-shadow: 0px 1px 3px 1px rgba(0, 0, 0, 0.15);\n",
              "      filter: drop-shadow(0px 1px 2px rgba(0, 0, 0, 0.3));\n",
              "      fill: #FFFFFF;\n",
              "    }\n",
              "  </style>\n",
              "\n",
              "      <script>\n",
              "        const buttonEl =\n",
              "          document.querySelector('#df-ce65a0a9-694c-4609-8731-2cab1d918c43 button.colab-df-convert');\n",
              "        buttonEl.style.display =\n",
              "          google.colab.kernel.accessAllowed ? 'block' : 'none';\n",
              "\n",
              "        async function convertToInteractive(key) {\n",
              "          const element = document.querySelector('#df-ce65a0a9-694c-4609-8731-2cab1d918c43');\n",
              "          const dataTable =\n",
              "            await google.colab.kernel.invokeFunction('convertToInteractive',\n",
              "                                                     [key], {});\n",
              "          if (!dataTable) return;\n",
              "\n",
              "          const docLinkHtml = 'Like what you see? Visit the ' +\n",
              "            '<a target=\"_blank\" href=https://colab.research.google.com/notebooks/data_table.ipynb>data table notebook</a>'\n",
              "            + ' to learn more about interactive tables.';\n",
              "          element.innerHTML = '';\n",
              "          dataTable['output_type'] = 'display_data';\n",
              "          await google.colab.output.renderOutput(dataTable, element);\n",
              "          const docLink = document.createElement('div');\n",
              "          docLink.innerHTML = docLinkHtml;\n",
              "          element.appendChild(docLink);\n",
              "        }\n",
              "      </script>\n",
              "    </div>\n",
              "  </div>\n",
              "  "
            ]
          },
          "metadata": {},
          "execution_count": 45
        }
      ]
    },
    {
      "cell_type": "markdown",
      "metadata": {
        "id": "8LWkk_qSOrs8"
      },
      "source": [
        "\n",
        "## Compute price of average SKU purchased\n",
        "\n",
        "Compute and create the `AveragePrice` column using the `df_s` dataframe's `TotalSpend` and `TotalUnits`.\n"
      ]
    },
    {
      "cell_type": "code",
      "metadata": {
        "id": "KJ2CXoeoPGaA"
      },
      "source": [
        "# create average price column in df_s\n",
        "\n",
        "df_s['AveragePrice'] =  df_s['TotalSpend'] / df_s['TotalUnits']"
      ],
      "execution_count": 46,
      "outputs": []
    },
    {
      "cell_type": "code",
      "metadata": {
        "id": "d8cqACS8Osz7",
        "colab": {
          "base_uri": "https://localhost:8080/",
          "height": 206
        },
        "outputId": "48e2120a-c579-48e2-e568-1f61dd19a955"
      },
      "source": [
        "# preview df_s to make sure average price is as expected\n",
        "\n",
        "df_s.head()"
      ],
      "execution_count": 47,
      "outputs": [
        {
          "output_type": "execute_result",
          "data": {
            "text/plain": [
              "   CustomerID  TotalSpend  TotalUnits  AveragePrice\n",
              "0     12346.0    77183.60       74215      1.040000\n",
              "1     12347.0     4310.00        2458      1.753458\n",
              "2     12348.0     1437.24        2332      0.616312\n",
              "3     12349.0     1457.55         630      2.313571\n",
              "4     12350.0      294.40         196      1.502041"
            ],
            "text/html": [
              "\n",
              "  <div id=\"df-520dd11c-d6bc-4570-879a-e654318dd28f\">\n",
              "    <div class=\"colab-df-container\">\n",
              "      <div>\n",
              "<style scoped>\n",
              "    .dataframe tbody tr th:only-of-type {\n",
              "        vertical-align: middle;\n",
              "    }\n",
              "\n",
              "    .dataframe tbody tr th {\n",
              "        vertical-align: top;\n",
              "    }\n",
              "\n",
              "    .dataframe thead th {\n",
              "        text-align: right;\n",
              "    }\n",
              "</style>\n",
              "<table border=\"1\" class=\"dataframe\">\n",
              "  <thead>\n",
              "    <tr style=\"text-align: right;\">\n",
              "      <th></th>\n",
              "      <th>CustomerID</th>\n",
              "      <th>TotalSpend</th>\n",
              "      <th>TotalUnits</th>\n",
              "      <th>AveragePrice</th>\n",
              "    </tr>\n",
              "  </thead>\n",
              "  <tbody>\n",
              "    <tr>\n",
              "      <th>0</th>\n",
              "      <td>12346.0</td>\n",
              "      <td>77183.60</td>\n",
              "      <td>74215</td>\n",
              "      <td>1.040000</td>\n",
              "    </tr>\n",
              "    <tr>\n",
              "      <th>1</th>\n",
              "      <td>12347.0</td>\n",
              "      <td>4310.00</td>\n",
              "      <td>2458</td>\n",
              "      <td>1.753458</td>\n",
              "    </tr>\n",
              "    <tr>\n",
              "      <th>2</th>\n",
              "      <td>12348.0</td>\n",
              "      <td>1437.24</td>\n",
              "      <td>2332</td>\n",
              "      <td>0.616312</td>\n",
              "    </tr>\n",
              "    <tr>\n",
              "      <th>3</th>\n",
              "      <td>12349.0</td>\n",
              "      <td>1457.55</td>\n",
              "      <td>630</td>\n",
              "      <td>2.313571</td>\n",
              "    </tr>\n",
              "    <tr>\n",
              "      <th>4</th>\n",
              "      <td>12350.0</td>\n",
              "      <td>294.40</td>\n",
              "      <td>196</td>\n",
              "      <td>1.502041</td>\n",
              "    </tr>\n",
              "  </tbody>\n",
              "</table>\n",
              "</div>\n",
              "      <button class=\"colab-df-convert\" onclick=\"convertToInteractive('df-520dd11c-d6bc-4570-879a-e654318dd28f')\"\n",
              "              title=\"Convert this dataframe to an interactive table.\"\n",
              "              style=\"display:none;\">\n",
              "        \n",
              "  <svg xmlns=\"http://www.w3.org/2000/svg\" height=\"24px\"viewBox=\"0 0 24 24\"\n",
              "       width=\"24px\">\n",
              "    <path d=\"M0 0h24v24H0V0z\" fill=\"none\"/>\n",
              "    <path d=\"M18.56 5.44l.94 2.06.94-2.06 2.06-.94-2.06-.94-.94-2.06-.94 2.06-2.06.94zm-11 1L8.5 8.5l.94-2.06 2.06-.94-2.06-.94L8.5 2.5l-.94 2.06-2.06.94zm10 10l.94 2.06.94-2.06 2.06-.94-2.06-.94-.94-2.06-.94 2.06-2.06.94z\"/><path d=\"M17.41 7.96l-1.37-1.37c-.4-.4-.92-.59-1.43-.59-.52 0-1.04.2-1.43.59L10.3 9.45l-7.72 7.72c-.78.78-.78 2.05 0 2.83L4 21.41c.39.39.9.59 1.41.59.51 0 1.02-.2 1.41-.59l7.78-7.78 2.81-2.81c.8-.78.8-2.07 0-2.86zM5.41 20L4 18.59l7.72-7.72 1.47 1.35L5.41 20z\"/>\n",
              "  </svg>\n",
              "      </button>\n",
              "      \n",
              "  <style>\n",
              "    .colab-df-container {\n",
              "      display:flex;\n",
              "      flex-wrap:wrap;\n",
              "      gap: 12px;\n",
              "    }\n",
              "\n",
              "    .colab-df-convert {\n",
              "      background-color: #E8F0FE;\n",
              "      border: none;\n",
              "      border-radius: 50%;\n",
              "      cursor: pointer;\n",
              "      display: none;\n",
              "      fill: #1967D2;\n",
              "      height: 32px;\n",
              "      padding: 0 0 0 0;\n",
              "      width: 32px;\n",
              "    }\n",
              "\n",
              "    .colab-df-convert:hover {\n",
              "      background-color: #E2EBFA;\n",
              "      box-shadow: 0px 1px 2px rgba(60, 64, 67, 0.3), 0px 1px 3px 1px rgba(60, 64, 67, 0.15);\n",
              "      fill: #174EA6;\n",
              "    }\n",
              "\n",
              "    [theme=dark] .colab-df-convert {\n",
              "      background-color: #3B4455;\n",
              "      fill: #D2E3FC;\n",
              "    }\n",
              "\n",
              "    [theme=dark] .colab-df-convert:hover {\n",
              "      background-color: #434B5C;\n",
              "      box-shadow: 0px 1px 3px 1px rgba(0, 0, 0, 0.15);\n",
              "      filter: drop-shadow(0px 1px 2px rgba(0, 0, 0, 0.3));\n",
              "      fill: #FFFFFF;\n",
              "    }\n",
              "  </style>\n",
              "\n",
              "      <script>\n",
              "        const buttonEl =\n",
              "          document.querySelector('#df-520dd11c-d6bc-4570-879a-e654318dd28f button.colab-df-convert');\n",
              "        buttonEl.style.display =\n",
              "          google.colab.kernel.accessAllowed ? 'block' : 'none';\n",
              "\n",
              "        async function convertToInteractive(key) {\n",
              "          const element = document.querySelector('#df-520dd11c-d6bc-4570-879a-e654318dd28f');\n",
              "          const dataTable =\n",
              "            await google.colab.kernel.invokeFunction('convertToInteractive',\n",
              "                                                     [key], {});\n",
              "          if (!dataTable) return;\n",
              "\n",
              "          const docLinkHtml = 'Like what you see? Visit the ' +\n",
              "            '<a target=\"_blank\" href=https://colab.research.google.com/notebooks/data_table.ipynb>data table notebook</a>'\n",
              "            + ' to learn more about interactive tables.';\n",
              "          element.innerHTML = '';\n",
              "          dataTable['output_type'] = 'display_data';\n",
              "          await google.colab.output.renderOutput(dataTable, element);\n",
              "          const docLink = document.createElement('div');\n",
              "          docLink.innerHTML = docLinkHtml;\n",
              "          element.appendChild(docLink);\n",
              "        }\n",
              "      </script>\n",
              "    </div>\n",
              "  </div>\n",
              "  "
            ]
          },
          "metadata": {},
          "execution_count": 47
        }
      ]
    },
    {
      "cell_type": "markdown",
      "metadata": {
        "id": "25EWNNZV9Wxj"
      },
      "source": [
        "\n",
        "## Merge `df_u` and `df_s`, call new dataframe df_c (c for \"consumer\")\n",
        "\n",
        "Using the variables in `df_c`, compute the following additional column:\n",
        "1. Spend per transaction (call it \"SpendPerTrans\")\n",
        "\n",
        "In total, you should have `df_c` with columns `['CustomerID', 'NTrans', 'NProducts', 'TotalSpend', 'AveragePrice', 'SpendPerTrans']`\n"
      ]
    },
    {
      "cell_type": "markdown",
      "metadata": {
        "id": "T3ar9ARRWWC6"
      },
      "source": [
        "**Answer this**\n",
        "\n",
        "On what column should you merge `df_s` and `df_u`?\n",
        "\n",
        "* Answer: CustomerID"
      ]
    },
    {
      "cell_type": "code",
      "metadata": {
        "id": "XsPDlZAsQMSf",
        "colab": {
          "base_uri": "https://localhost:8080/",
          "height": 206
        },
        "outputId": "bdabe070-62c0-4f31-80e7-ff83ed55f138"
      },
      "source": [
        "# do the merge (review notes from module 3 on merges if necessary)\n",
        "# use an outer merge (e.g. how='outer'), call resulting dataframe, df_c\n",
        "\n",
        "df_c = df_u.merge(df_s, how = 'outer', on = 'CustomerID')\n",
        "df_c.head()"
      ],
      "execution_count": 48,
      "outputs": [
        {
          "output_type": "execute_result",
          "data": {
            "text/plain": [
              "   CustomerID  NProducts  NTrans  TotalSpend  TotalUnits  AveragePrice\n",
              "0     12346.0          1       1    77183.60       74215      1.040000\n",
              "1     12347.0        103       7     4310.00        2458      1.753458\n",
              "2     12348.0         21       4     1437.24        2332      0.616312\n",
              "3     12349.0         72       1     1457.55         630      2.313571\n",
              "4     12350.0         16       1      294.40         196      1.502041"
            ],
            "text/html": [
              "\n",
              "  <div id=\"df-65c2ce17-1429-4a4f-a22d-b7a053e079c5\">\n",
              "    <div class=\"colab-df-container\">\n",
              "      <div>\n",
              "<style scoped>\n",
              "    .dataframe tbody tr th:only-of-type {\n",
              "        vertical-align: middle;\n",
              "    }\n",
              "\n",
              "    .dataframe tbody tr th {\n",
              "        vertical-align: top;\n",
              "    }\n",
              "\n",
              "    .dataframe thead th {\n",
              "        text-align: right;\n",
              "    }\n",
              "</style>\n",
              "<table border=\"1\" class=\"dataframe\">\n",
              "  <thead>\n",
              "    <tr style=\"text-align: right;\">\n",
              "      <th></th>\n",
              "      <th>CustomerID</th>\n",
              "      <th>NProducts</th>\n",
              "      <th>NTrans</th>\n",
              "      <th>TotalSpend</th>\n",
              "      <th>TotalUnits</th>\n",
              "      <th>AveragePrice</th>\n",
              "    </tr>\n",
              "  </thead>\n",
              "  <tbody>\n",
              "    <tr>\n",
              "      <th>0</th>\n",
              "      <td>12346.0</td>\n",
              "      <td>1</td>\n",
              "      <td>1</td>\n",
              "      <td>77183.60</td>\n",
              "      <td>74215</td>\n",
              "      <td>1.040000</td>\n",
              "    </tr>\n",
              "    <tr>\n",
              "      <th>1</th>\n",
              "      <td>12347.0</td>\n",
              "      <td>103</td>\n",
              "      <td>7</td>\n",
              "      <td>4310.00</td>\n",
              "      <td>2458</td>\n",
              "      <td>1.753458</td>\n",
              "    </tr>\n",
              "    <tr>\n",
              "      <th>2</th>\n",
              "      <td>12348.0</td>\n",
              "      <td>21</td>\n",
              "      <td>4</td>\n",
              "      <td>1437.24</td>\n",
              "      <td>2332</td>\n",
              "      <td>0.616312</td>\n",
              "    </tr>\n",
              "    <tr>\n",
              "      <th>3</th>\n",
              "      <td>12349.0</td>\n",
              "      <td>72</td>\n",
              "      <td>1</td>\n",
              "      <td>1457.55</td>\n",
              "      <td>630</td>\n",
              "      <td>2.313571</td>\n",
              "    </tr>\n",
              "    <tr>\n",
              "      <th>4</th>\n",
              "      <td>12350.0</td>\n",
              "      <td>16</td>\n",
              "      <td>1</td>\n",
              "      <td>294.40</td>\n",
              "      <td>196</td>\n",
              "      <td>1.502041</td>\n",
              "    </tr>\n",
              "  </tbody>\n",
              "</table>\n",
              "</div>\n",
              "      <button class=\"colab-df-convert\" onclick=\"convertToInteractive('df-65c2ce17-1429-4a4f-a22d-b7a053e079c5')\"\n",
              "              title=\"Convert this dataframe to an interactive table.\"\n",
              "              style=\"display:none;\">\n",
              "        \n",
              "  <svg xmlns=\"http://www.w3.org/2000/svg\" height=\"24px\"viewBox=\"0 0 24 24\"\n",
              "       width=\"24px\">\n",
              "    <path d=\"M0 0h24v24H0V0z\" fill=\"none\"/>\n",
              "    <path d=\"M18.56 5.44l.94 2.06.94-2.06 2.06-.94-2.06-.94-.94-2.06-.94 2.06-2.06.94zm-11 1L8.5 8.5l.94-2.06 2.06-.94-2.06-.94L8.5 2.5l-.94 2.06-2.06.94zm10 10l.94 2.06.94-2.06 2.06-.94-2.06-.94-.94-2.06-.94 2.06-2.06.94z\"/><path d=\"M17.41 7.96l-1.37-1.37c-.4-.4-.92-.59-1.43-.59-.52 0-1.04.2-1.43.59L10.3 9.45l-7.72 7.72c-.78.78-.78 2.05 0 2.83L4 21.41c.39.39.9.59 1.41.59.51 0 1.02-.2 1.41-.59l7.78-7.78 2.81-2.81c.8-.78.8-2.07 0-2.86zM5.41 20L4 18.59l7.72-7.72 1.47 1.35L5.41 20z\"/>\n",
              "  </svg>\n",
              "      </button>\n",
              "      \n",
              "  <style>\n",
              "    .colab-df-container {\n",
              "      display:flex;\n",
              "      flex-wrap:wrap;\n",
              "      gap: 12px;\n",
              "    }\n",
              "\n",
              "    .colab-df-convert {\n",
              "      background-color: #E8F0FE;\n",
              "      border: none;\n",
              "      border-radius: 50%;\n",
              "      cursor: pointer;\n",
              "      display: none;\n",
              "      fill: #1967D2;\n",
              "      height: 32px;\n",
              "      padding: 0 0 0 0;\n",
              "      width: 32px;\n",
              "    }\n",
              "\n",
              "    .colab-df-convert:hover {\n",
              "      background-color: #E2EBFA;\n",
              "      box-shadow: 0px 1px 2px rgba(60, 64, 67, 0.3), 0px 1px 3px 1px rgba(60, 64, 67, 0.15);\n",
              "      fill: #174EA6;\n",
              "    }\n",
              "\n",
              "    [theme=dark] .colab-df-convert {\n",
              "      background-color: #3B4455;\n",
              "      fill: #D2E3FC;\n",
              "    }\n",
              "\n",
              "    [theme=dark] .colab-df-convert:hover {\n",
              "      background-color: #434B5C;\n",
              "      box-shadow: 0px 1px 3px 1px rgba(0, 0, 0, 0.15);\n",
              "      filter: drop-shadow(0px 1px 2px rgba(0, 0, 0, 0.3));\n",
              "      fill: #FFFFFF;\n",
              "    }\n",
              "  </style>\n",
              "\n",
              "      <script>\n",
              "        const buttonEl =\n",
              "          document.querySelector('#df-65c2ce17-1429-4a4f-a22d-b7a053e079c5 button.colab-df-convert');\n",
              "        buttonEl.style.display =\n",
              "          google.colab.kernel.accessAllowed ? 'block' : 'none';\n",
              "\n",
              "        async function convertToInteractive(key) {\n",
              "          const element = document.querySelector('#df-65c2ce17-1429-4a4f-a22d-b7a053e079c5');\n",
              "          const dataTable =\n",
              "            await google.colab.kernel.invokeFunction('convertToInteractive',\n",
              "                                                     [key], {});\n",
              "          if (!dataTable) return;\n",
              "\n",
              "          const docLinkHtml = 'Like what you see? Visit the ' +\n",
              "            '<a target=\"_blank\" href=https://colab.research.google.com/notebooks/data_table.ipynb>data table notebook</a>'\n",
              "            + ' to learn more about interactive tables.';\n",
              "          element.innerHTML = '';\n",
              "          dataTable['output_type'] = 'display_data';\n",
              "          await google.colab.output.renderOutput(dataTable, element);\n",
              "          const docLink = document.createElement('div');\n",
              "          docLink.innerHTML = docLinkHtml;\n",
              "          element.appendChild(docLink);\n",
              "        }\n",
              "      </script>\n",
              "    </div>\n",
              "  </div>\n",
              "  "
            ]
          },
          "metadata": {},
          "execution_count": 48
        }
      ]
    },
    {
      "cell_type": "code",
      "metadata": {
        "id": "EDIpKkWeHCFd"
      },
      "source": [
        "# create the column 'SpendPerTrans'\n",
        "df_c['SpendPerTrans'] =  df_c['TotalSpend'] /df_c['NTrans'] "
      ],
      "execution_count": 49,
      "outputs": []
    },
    {
      "cell_type": "code",
      "metadata": {
        "id": "9Mm2LDzNYj_S",
        "colab": {
          "base_uri": "https://localhost:8080/",
          "height": 206
        },
        "outputId": "358a9258-6e1c-491c-952d-24052ecc7a6d"
      },
      "source": [
        "# preview df_c to make sure it looks as expected\n",
        "\n",
        "df_c.head()"
      ],
      "execution_count": 50,
      "outputs": [
        {
          "output_type": "execute_result",
          "data": {
            "text/plain": [
              "   CustomerID  NProducts  NTrans  TotalSpend  TotalUnits  AveragePrice  \\\n",
              "0     12346.0          1       1    77183.60       74215      1.040000   \n",
              "1     12347.0        103       7     4310.00        2458      1.753458   \n",
              "2     12348.0         21       4     1437.24        2332      0.616312   \n",
              "3     12349.0         72       1     1457.55         630      2.313571   \n",
              "4     12350.0         16       1      294.40         196      1.502041   \n",
              "\n",
              "   SpendPerTrans  \n",
              "0   77183.600000  \n",
              "1     615.714286  \n",
              "2     359.310000  \n",
              "3    1457.550000  \n",
              "4     294.400000  "
            ],
            "text/html": [
              "\n",
              "  <div id=\"df-ffb77d25-6d4c-4070-a0c8-c7d4ce983551\">\n",
              "    <div class=\"colab-df-container\">\n",
              "      <div>\n",
              "<style scoped>\n",
              "    .dataframe tbody tr th:only-of-type {\n",
              "        vertical-align: middle;\n",
              "    }\n",
              "\n",
              "    .dataframe tbody tr th {\n",
              "        vertical-align: top;\n",
              "    }\n",
              "\n",
              "    .dataframe thead th {\n",
              "        text-align: right;\n",
              "    }\n",
              "</style>\n",
              "<table border=\"1\" class=\"dataframe\">\n",
              "  <thead>\n",
              "    <tr style=\"text-align: right;\">\n",
              "      <th></th>\n",
              "      <th>CustomerID</th>\n",
              "      <th>NProducts</th>\n",
              "      <th>NTrans</th>\n",
              "      <th>TotalSpend</th>\n",
              "      <th>TotalUnits</th>\n",
              "      <th>AveragePrice</th>\n",
              "      <th>SpendPerTrans</th>\n",
              "    </tr>\n",
              "  </thead>\n",
              "  <tbody>\n",
              "    <tr>\n",
              "      <th>0</th>\n",
              "      <td>12346.0</td>\n",
              "      <td>1</td>\n",
              "      <td>1</td>\n",
              "      <td>77183.60</td>\n",
              "      <td>74215</td>\n",
              "      <td>1.040000</td>\n",
              "      <td>77183.600000</td>\n",
              "    </tr>\n",
              "    <tr>\n",
              "      <th>1</th>\n",
              "      <td>12347.0</td>\n",
              "      <td>103</td>\n",
              "      <td>7</td>\n",
              "      <td>4310.00</td>\n",
              "      <td>2458</td>\n",
              "      <td>1.753458</td>\n",
              "      <td>615.714286</td>\n",
              "    </tr>\n",
              "    <tr>\n",
              "      <th>2</th>\n",
              "      <td>12348.0</td>\n",
              "      <td>21</td>\n",
              "      <td>4</td>\n",
              "      <td>1437.24</td>\n",
              "      <td>2332</td>\n",
              "      <td>0.616312</td>\n",
              "      <td>359.310000</td>\n",
              "    </tr>\n",
              "    <tr>\n",
              "      <th>3</th>\n",
              "      <td>12349.0</td>\n",
              "      <td>72</td>\n",
              "      <td>1</td>\n",
              "      <td>1457.55</td>\n",
              "      <td>630</td>\n",
              "      <td>2.313571</td>\n",
              "      <td>1457.550000</td>\n",
              "    </tr>\n",
              "    <tr>\n",
              "      <th>4</th>\n",
              "      <td>12350.0</td>\n",
              "      <td>16</td>\n",
              "      <td>1</td>\n",
              "      <td>294.40</td>\n",
              "      <td>196</td>\n",
              "      <td>1.502041</td>\n",
              "      <td>294.400000</td>\n",
              "    </tr>\n",
              "  </tbody>\n",
              "</table>\n",
              "</div>\n",
              "      <button class=\"colab-df-convert\" onclick=\"convertToInteractive('df-ffb77d25-6d4c-4070-a0c8-c7d4ce983551')\"\n",
              "              title=\"Convert this dataframe to an interactive table.\"\n",
              "              style=\"display:none;\">\n",
              "        \n",
              "  <svg xmlns=\"http://www.w3.org/2000/svg\" height=\"24px\"viewBox=\"0 0 24 24\"\n",
              "       width=\"24px\">\n",
              "    <path d=\"M0 0h24v24H0V0z\" fill=\"none\"/>\n",
              "    <path d=\"M18.56 5.44l.94 2.06.94-2.06 2.06-.94-2.06-.94-.94-2.06-.94 2.06-2.06.94zm-11 1L8.5 8.5l.94-2.06 2.06-.94-2.06-.94L8.5 2.5l-.94 2.06-2.06.94zm10 10l.94 2.06.94-2.06 2.06-.94-2.06-.94-.94-2.06-.94 2.06-2.06.94z\"/><path d=\"M17.41 7.96l-1.37-1.37c-.4-.4-.92-.59-1.43-.59-.52 0-1.04.2-1.43.59L10.3 9.45l-7.72 7.72c-.78.78-.78 2.05 0 2.83L4 21.41c.39.39.9.59 1.41.59.51 0 1.02-.2 1.41-.59l7.78-7.78 2.81-2.81c.8-.78.8-2.07 0-2.86zM5.41 20L4 18.59l7.72-7.72 1.47 1.35L5.41 20z\"/>\n",
              "  </svg>\n",
              "      </button>\n",
              "      \n",
              "  <style>\n",
              "    .colab-df-container {\n",
              "      display:flex;\n",
              "      flex-wrap:wrap;\n",
              "      gap: 12px;\n",
              "    }\n",
              "\n",
              "    .colab-df-convert {\n",
              "      background-color: #E8F0FE;\n",
              "      border: none;\n",
              "      border-radius: 50%;\n",
              "      cursor: pointer;\n",
              "      display: none;\n",
              "      fill: #1967D2;\n",
              "      height: 32px;\n",
              "      padding: 0 0 0 0;\n",
              "      width: 32px;\n",
              "    }\n",
              "\n",
              "    .colab-df-convert:hover {\n",
              "      background-color: #E2EBFA;\n",
              "      box-shadow: 0px 1px 2px rgba(60, 64, 67, 0.3), 0px 1px 3px 1px rgba(60, 64, 67, 0.15);\n",
              "      fill: #174EA6;\n",
              "    }\n",
              "\n",
              "    [theme=dark] .colab-df-convert {\n",
              "      background-color: #3B4455;\n",
              "      fill: #D2E3FC;\n",
              "    }\n",
              "\n",
              "    [theme=dark] .colab-df-convert:hover {\n",
              "      background-color: #434B5C;\n",
              "      box-shadow: 0px 1px 3px 1px rgba(0, 0, 0, 0.15);\n",
              "      filter: drop-shadow(0px 1px 2px rgba(0, 0, 0, 0.3));\n",
              "      fill: #FFFFFF;\n",
              "    }\n",
              "  </style>\n",
              "\n",
              "      <script>\n",
              "        const buttonEl =\n",
              "          document.querySelector('#df-ffb77d25-6d4c-4070-a0c8-c7d4ce983551 button.colab-df-convert');\n",
              "        buttonEl.style.display =\n",
              "          google.colab.kernel.accessAllowed ? 'block' : 'none';\n",
              "\n",
              "        async function convertToInteractive(key) {\n",
              "          const element = document.querySelector('#df-ffb77d25-6d4c-4070-a0c8-c7d4ce983551');\n",
              "          const dataTable =\n",
              "            await google.colab.kernel.invokeFunction('convertToInteractive',\n",
              "                                                     [key], {});\n",
              "          if (!dataTable) return;\n",
              "\n",
              "          const docLinkHtml = 'Like what you see? Visit the ' +\n",
              "            '<a target=\"_blank\" href=https://colab.research.google.com/notebooks/data_table.ipynb>data table notebook</a>'\n",
              "            + ' to learn more about interactive tables.';\n",
              "          element.innerHTML = '';\n",
              "          dataTable['output_type'] = 'display_data';\n",
              "          await google.colab.output.renderOutput(dataTable, element);\n",
              "          const docLink = document.createElement('div');\n",
              "          docLink.innerHTML = docLinkHtml;\n",
              "          element.appendChild(docLink);\n",
              "        }\n",
              "      </script>\n",
              "    </div>\n",
              "  </div>\n",
              "  "
            ]
          },
          "metadata": {},
          "execution_count": 50
        }
      ]
    },
    {
      "cell_type": "code",
      "source": [
        "df_c.shape"
      ],
      "metadata": {
        "colab": {
          "base_uri": "https://localhost:8080/"
        },
        "id": "QWBIq665vq-1",
        "outputId": "35392ef3-b29d-487b-c7b1-41305a779c1d"
      },
      "execution_count": 51,
      "outputs": [
        {
          "output_type": "execute_result",
          "data": {
            "text/plain": [
              "(4334, 7)"
            ]
          },
          "metadata": {},
          "execution_count": 51
        }
      ]
    },
    {
      "cell_type": "markdown",
      "metadata": {
        "id": "RRX-X9bugMkL"
      },
      "source": [
        "## Log transformation\n",
        "\n",
        "1. Plot the histogram of all the variables of df_c other than CustomerID\n",
        "1. Replace each of these variables with their respective log transformations\n",
        "1. Plot the histograms again, what's different?"
      ]
    },
    {
      "cell_type": "code",
      "source": [
        "# why type each plot's code when python can print all of them?\n",
        "\n",
        "for i in df_c.columns:\n",
        "  print(f\"df_c['{i}'].hist()\")"
      ],
      "metadata": {
        "colab": {
          "base_uri": "https://localhost:8080/"
        },
        "id": "DCsdgXagv2pi",
        "outputId": "f1e9b392-c8ba-44b2-fa17-a3a0170d40f5"
      },
      "execution_count": 52,
      "outputs": [
        {
          "output_type": "stream",
          "name": "stdout",
          "text": [
            "df_c['CustomerID'].hist()\n",
            "df_c['NProducts'].hist()\n",
            "df_c['NTrans'].hist()\n",
            "df_c['TotalSpend'].hist()\n",
            "df_c['TotalUnits'].hist()\n",
            "df_c['AveragePrice'].hist()\n",
            "df_c['SpendPerTrans'].hist()\n"
          ]
        }
      ]
    },
    {
      "cell_type": "code",
      "metadata": {
        "id": "oJ_R1ic9eGbt",
        "colab": {
          "base_uri": "https://localhost:8080/",
          "height": 283
        },
        "outputId": "8dfe27e1-4b0c-45a5-af63-af359dd9f383"
      },
      "source": [
        "# plot the histogram of NTrans\n",
        "\n",
        "df_c['NTrans'].hist()"
      ],
      "execution_count": 53,
      "outputs": [
        {
          "output_type": "execute_result",
          "data": {
            "text/plain": [
              "<matplotlib.axes._subplots.AxesSubplot at 0x7f49b45f7eb0>"
            ]
          },
          "metadata": {},
          "execution_count": 53
        },
        {
          "output_type": "display_data",
          "data": {
            "text/plain": [
              "<Figure size 432x288 with 1 Axes>"
            ],
            "image/png": "[encoded data removed]"
          },
          "metadata": {
            "needs_background": "light"
          }
        }
      ]
    },
    {
      "cell_type": "code",
      "metadata": {
        "id": "M4LAnzFPePuP",
        "colab": {
          "base_uri": "https://localhost:8080/",
          "height": 283
        },
        "outputId": "f0ee856a-61aa-448a-bee9-864aef2a0ebd"
      },
      "source": [
        "# plot the histogram of NProducts\n",
        "\n",
        "df_c['NProducts'].hist()"
      ],
      "execution_count": 54,
      "outputs": [
        {
          "output_type": "execute_result",
          "data": {
            "text/plain": [
              "<matplotlib.axes._subplots.AxesSubplot at 0x7f49b396b670>"
            ]
          },
          "metadata": {},
          "execution_count": 54
        },
        {
          "output_type": "display_data",
          "data": {
            "text/plain": [
              "<Figure size 432x288 with 1 Axes>"
            ],
            "image/png": "[encoded data removed]"
          },
          "metadata": {
            "needs_background": "light"
          }
        }
      ]
    },
    {
      "cell_type": "code",
      "metadata": {
        "id": "xP_mjM8xeTTf",
        "colab": {
          "base_uri": "https://localhost:8080/",
          "height": 283
        },
        "outputId": "7fbeb9b1-093b-4075-9c56-adf6f177b579"
      },
      "source": [
        "# plot the histogram of TotalSpend\n",
        "\n",
        "df_c['TotalSpend'].hist()\n",
        "\n",
        "\n"
      ],
      "execution_count": 55,
      "outputs": [
        {
          "output_type": "execute_result",
          "data": {
            "text/plain": [
              "<matplotlib.axes._subplots.AxesSubplot at 0x7f49b38ec400>"
            ]
          },
          "metadata": {},
          "execution_count": 55
        },
        {
          "output_type": "display_data",
          "data": {
            "text/plain": [
              "<Figure size 432x288 with 1 Axes>"
            ],
            "image/png": "[encoded data removed]"
          },
          "metadata": {
            "needs_background": "light"
          }
        }
      ]
    },
    {
      "cell_type": "code",
      "metadata": {
        "id": "CJ4esbsjeYrb",
        "colab": {
          "base_uri": "https://localhost:8080/",
          "height": 283
        },
        "outputId": "13e9a36f-5b9f-426e-e395-b4ba186b1ff0"
      },
      "source": [
        "# plot the histogram of TotalUnits\n",
        "\n",
        "df_c['TotalUnits'].hist()\n",
        "\n"
      ],
      "execution_count": 56,
      "outputs": [
        {
          "output_type": "execute_result",
          "data": {
            "text/plain": [
              "<matplotlib.axes._subplots.AxesSubplot at 0x7f49b48184c0>"
            ]
          },
          "metadata": {},
          "execution_count": 56
        },
        {
          "output_type": "display_data",
          "data": {
            "text/plain": [
              "<Figure size 432x288 with 1 Axes>"
            ],
            "image/png": "[encoded data removed]"
          },
          "metadata": {
            "needs_background": "light"
          }
        }
      ]
    },
    {
      "cell_type": "code",
      "metadata": {
        "id": "IoIOTd6reJNp",
        "colab": {
          "base_uri": "https://localhost:8080/",
          "height": 283
        },
        "outputId": "0fe9606e-fff3-45a6-ba9a-984ca921f000"
      },
      "source": [
        "# plot the histogram of AveragePrice\n",
        "\n",
        "df_c['AveragePrice'].hist()\n",
        "\n"
      ],
      "execution_count": 57,
      "outputs": [
        {
          "output_type": "execute_result",
          "data": {
            "text/plain": [
              "<matplotlib.axes._subplots.AxesSubplot at 0x7f49b49f9400>"
            ]
          },
          "metadata": {},
          "execution_count": 57
        },
        {
          "output_type": "display_data",
          "data": {
            "text/plain": [
              "<Figure size 432x288 with 1 Axes>"
            ],
            "image/png": "[encoded data removed]"
          },
          "metadata": {
            "needs_background": "light"
          }
        }
      ]
    },
    {
      "cell_type": "code",
      "metadata": {
        "id": "X0NxCocCH3OO",
        "colab": {
          "base_uri": "https://localhost:8080/",
          "height": 283
        },
        "outputId": "81591a4b-1fb0-4d79-e450-45b535344e01"
      },
      "source": [
        "# plot the histogram of SpendPerTrans\n",
        "\n",
        "df_c['SpendPerTrans'].hist()"
      ],
      "execution_count": 58,
      "outputs": [
        {
          "output_type": "execute_result",
          "data": {
            "text/plain": [
              "<matplotlib.axes._subplots.AxesSubplot at 0x7f49b492e850>"
            ]
          },
          "metadata": {},
          "execution_count": 58
        },
        {
          "output_type": "display_data",
          "data": {
            "text/plain": [
              "<Figure size 432x288 with 1 Axes>"
            ],
            "image/png": "[encoded data removed]"
          },
          "metadata": {
            "needs_background": "light"
          }
        }
      ]
    },
    {
      "cell_type": "code",
      "metadata": {
        "id": "Y4952ErQe1Mb"
      },
      "source": [
        "# Write a loop through all variables of df_c other than CustomerID \n",
        "# to replace each column with its log.\n",
        "# You can start the loop using: for c in df_c.columns[1:]:\n",
        "# (since df_c.columns[0] is the CustomerID column).\n",
        "# For some column, c, you can replace the column with its log using:\n",
        "# dataframe[c] = np.log(dataframe[c]) \n",
        "# (of course, use the right variable name for your dataframe)\n",
        "\n",
        "\n",
        "# by this point, no desicion has been made to as weather the log is more useful or not, so I'll be creating a new column for each logged column\n",
        "for i in df_c.columns[1:]:\n",
        "  df_c[f'Log_{i}'] = np.log(df_c[i])\n"
      ],
      "execution_count": 59,
      "outputs": []
    },
    {
      "cell_type": "code",
      "source": [
        "df_c.head()"
      ],
      "metadata": {
        "colab": {
          "base_uri": "https://localhost:8080/",
          "height": 206
        },
        "id": "XPxKVVG5w7J4",
        "outputId": "db73d5dc-3f50-4f40-c799-0f8477fcdd3d"
      },
      "execution_count": 60,
      "outputs": [
        {
          "output_type": "execute_result",
          "data": {
            "text/plain": [
              "   CustomerID  NProducts  NTrans  TotalSpend  TotalUnits  AveragePrice  \\\n",
              "0     12346.0          1       1    77183.60       74215      1.040000   \n",
              "1     12347.0        103       7     4310.00        2458      1.753458   \n",
              "2     12348.0         21       4     1437.24        2332      0.616312   \n",
              "3     12349.0         72       1     1457.55         630      2.313571   \n",
              "4     12350.0         16       1      294.40         196      1.502041   \n",
              "\n",
              "   SpendPerTrans  Log_NProducts  Log_NTrans  Log_TotalSpend  Log_TotalUnits  \\\n",
              "0   77183.600000       0.000000    0.000000       11.253942       11.214722   \n",
              "1     615.714286       4.634729    1.945910        8.368693        7.807103   \n",
              "2     359.310000       3.044522    1.386294        7.270480        7.754482   \n",
              "3    1457.550000       4.276666    0.000000        7.284512        6.445720   \n",
              "4     294.400000       2.772589    0.000000        5.684939        5.278115   \n",
              "\n",
              "   Log_AveragePrice  Log_SpendPerTrans  \n",
              "0          0.039221          11.253942  \n",
              "1          0.561590           6.422783  \n",
              "2         -0.484002           5.884186  \n",
              "3          0.838792           7.284512  \n",
              "4          0.406825           5.684939  "
            ],
            "text/html": [
              "\n",
              "  <div id=\"df-f66661c5-33ac-4cf4-b842-0a751bc6cdb9\">\n",
              "    <div class=\"colab-df-container\">\n",
              "      <div>\n",
              "<style scoped>\n",
              "    .dataframe tbody tr th:only-of-type {\n",
              "        vertical-align: middle;\n",
              "    }\n",
              "\n",
              "    .dataframe tbody tr th {\n",
              "        vertical-align: top;\n",
              "    }\n",
              "\n",
              "    .dataframe thead th {\n",
              "        text-align: right;\n",
              "    }\n",
              "</style>\n",
              "<table border=\"1\" class=\"dataframe\">\n",
              "  <thead>\n",
              "    <tr style=\"text-align: right;\">\n",
              "      <th></th>\n",
              "      <th>CustomerID</th>\n",
              "      <th>NProducts</th>\n",
              "      <th>NTrans</th>\n",
              "      <th>TotalSpend</th>\n",
              "      <th>TotalUnits</th>\n",
              "      <th>AveragePrice</th>\n",
              "      <th>SpendPerTrans</th>\n",
              "      <th>Log_NProducts</th>\n",
              "      <th>Log_NTrans</th>\n",
              "      <th>Log_TotalSpend</th>\n",
              "      <th>Log_TotalUnits</th>\n",
              "      <th>Log_AveragePrice</th>\n",
              "      <th>Log_SpendPerTrans</th>\n",
              "    </tr>\n",
              "  </thead>\n",
              "  <tbody>\n",
              "    <tr>\n",
              "      <th>0</th>\n",
              "      <td>12346.0</td>\n",
              "      <td>1</td>\n",
              "      <td>1</td>\n",
              "      <td>77183.60</td>\n",
              "      <td>74215</td>\n",
              "      <td>1.040000</td>\n",
              "      <td>77183.600000</td>\n",
              "      <td>0.000000</td>\n",
              "      <td>0.000000</td>\n",
              "      <td>11.253942</td>\n",
              "      <td>11.214722</td>\n",
              "      <td>0.039221</td>\n",
              "      <td>11.253942</td>\n",
              "    </tr>\n",
              "    <tr>\n",
              "      <th>1</th>\n",
              "      <td>12347.0</td>\n",
              "      <td>103</td>\n",
              "      <td>7</td>\n",
              "      <td>4310.00</td>\n",
              "      <td>2458</td>\n",
              "      <td>1.753458</td>\n",
              "      <td>615.714286</td>\n",
              "      <td>4.634729</td>\n",
              "      <td>1.945910</td>\n",
              "      <td>8.368693</td>\n",
              "      <td>7.807103</td>\n",
              "      <td>0.561590</td>\n",
              "      <td>6.422783</td>\n",
              "    </tr>\n",
              "    <tr>\n",
              "      <th>2</th>\n",
              "      <td>12348.0</td>\n",
              "      <td>21</td>\n",
              "      <td>4</td>\n",
              "      <td>1437.24</td>\n",
              "      <td>2332</td>\n",
              "      <td>0.616312</td>\n",
              "      <td>359.310000</td>\n",
              "      <td>3.044522</td>\n",
              "      <td>1.386294</td>\n",
              "      <td>7.270480</td>\n",
              "      <td>7.754482</td>\n",
              "      <td>-0.484002</td>\n",
              "      <td>5.884186</td>\n",
              "    </tr>\n",
              "    <tr>\n",
              "      <th>3</th>\n",
              "      <td>12349.0</td>\n",
              "      <td>72</td>\n",
              "      <td>1</td>\n",
              "      <td>1457.55</td>\n",
              "      <td>630</td>\n",
              "      <td>2.313571</td>\n",
              "      <td>1457.550000</td>\n",
              "      <td>4.276666</td>\n",
              "      <td>0.000000</td>\n",
              "      <td>7.284512</td>\n",
              "      <td>6.445720</td>\n",
              "      <td>0.838792</td>\n",
              "      <td>7.284512</td>\n",
              "    </tr>\n",
              "    <tr>\n",
              "      <th>4</th>\n",
              "      <td>12350.0</td>\n",
              "      <td>16</td>\n",
              "      <td>1</td>\n",
              "      <td>294.40</td>\n",
              "      <td>196</td>\n",
              "      <td>1.502041</td>\n",
              "      <td>294.400000</td>\n",
              "      <td>2.772589</td>\n",
              "      <td>0.000000</td>\n",
              "      <td>5.684939</td>\n",
              "      <td>5.278115</td>\n",
              "      <td>0.406825</td>\n",
              "      <td>5.684939</td>\n",
              "    </tr>\n",
              "  </tbody>\n",
              "</table>\n",
              "</div>\n",
              "      <button class=\"colab-df-convert\" onclick=\"convertToInteractive('df-f66661c5-33ac-4cf4-b842-0a751bc6cdb9')\"\n",
              "              title=\"Convert this dataframe to an interactive table.\"\n",
              "              style=\"display:none;\">\n",
              "        \n",
              "  <svg xmlns=\"http://www.w3.org/2000/svg\" height=\"24px\"viewBox=\"0 0 24 24\"\n",
              "       width=\"24px\">\n",
              "    <path d=\"M0 0h24v24H0V0z\" fill=\"none\"/>\n",
              "    <path d=\"M18.56 5.44l.94 2.06.94-2.06 2.06-.94-2.06-.94-.94-2.06-.94 2.06-2.06.94zm-11 1L8.5 8.5l.94-2.06 2.06-.94-2.06-.94L8.5 2.5l-.94 2.06-2.06.94zm10 10l.94 2.06.94-2.06 2.06-.94-2.06-.94-.94-2.06-.94 2.06-2.06.94z\"/><path d=\"M17.41 7.96l-1.37-1.37c-.4-.4-.92-.59-1.43-.59-.52 0-1.04.2-1.43.59L10.3 9.45l-7.72 7.72c-.78.78-.78 2.05 0 2.83L4 21.41c.39.39.9.59 1.41.59.51 0 1.02-.2 1.41-.59l7.78-7.78 2.81-2.81c.8-.78.8-2.07 0-2.86zM5.41 20L4 18.59l7.72-7.72 1.47 1.35L5.41 20z\"/>\n",
              "  </svg>\n",
              "      </button>\n",
              "      \n",
              "  <style>\n",
              "    .colab-df-container {\n",
              "      display:flex;\n",
              "      flex-wrap:wrap;\n",
              "      gap: 12px;\n",
              "    }\n",
              "\n",
              "    .colab-df-convert {\n",
              "      background-color: #E8F0FE;\n",
              "      border: none;\n",
              "      border-radius: 50%;\n",
              "      cursor: pointer;\n",
              "      display: none;\n",
              "      fill: #1967D2;\n",
              "      height: 32px;\n",
              "      padding: 0 0 0 0;\n",
              "      width: 32px;\n",
              "    }\n",
              "\n",
              "    .colab-df-convert:hover {\n",
              "      background-color: #E2EBFA;\n",
              "      box-shadow: 0px 1px 2px rgba(60, 64, 67, 0.3), 0px 1px 3px 1px rgba(60, 64, 67, 0.15);\n",
              "      fill: #174EA6;\n",
              "    }\n",
              "\n",
              "    [theme=dark] .colab-df-convert {\n",
              "      background-color: #3B4455;\n",
              "      fill: #D2E3FC;\n",
              "    }\n",
              "\n",
              "    [theme=dark] .colab-df-convert:hover {\n",
              "      background-color: #434B5C;\n",
              "      box-shadow: 0px 1px 3px 1px rgba(0, 0, 0, 0.15);\n",
              "      filter: drop-shadow(0px 1px 2px rgba(0, 0, 0, 0.3));\n",
              "      fill: #FFFFFF;\n",
              "    }\n",
              "  </style>\n",
              "\n",
              "      <script>\n",
              "        const buttonEl =\n",
              "          document.querySelector('#df-f66661c5-33ac-4cf4-b842-0a751bc6cdb9 button.colab-df-convert');\n",
              "        buttonEl.style.display =\n",
              "          google.colab.kernel.accessAllowed ? 'block' : 'none';\n",
              "\n",
              "        async function convertToInteractive(key) {\n",
              "          const element = document.querySelector('#df-f66661c5-33ac-4cf4-b842-0a751bc6cdb9');\n",
              "          const dataTable =\n",
              "            await google.colab.kernel.invokeFunction('convertToInteractive',\n",
              "                                                     [key], {});\n",
              "          if (!dataTable) return;\n",
              "\n",
              "          const docLinkHtml = 'Like what you see? Visit the ' +\n",
              "            '<a target=\"_blank\" href=https://colab.research.google.com/notebooks/data_table.ipynb>data table notebook</a>'\n",
              "            + ' to learn more about interactive tables.';\n",
              "          element.innerHTML = '';\n",
              "          dataTable['output_type'] = 'display_data';\n",
              "          await google.colab.output.renderOutput(dataTable, element);\n",
              "          const docLink = document.createElement('div');\n",
              "          docLink.innerHTML = docLinkHtml;\n",
              "          element.appendChild(docLink);\n",
              "        }\n",
              "      </script>\n",
              "    </div>\n",
              "  </div>\n",
              "  "
            ]
          },
          "metadata": {},
          "execution_count": 60
        }
      ]
    },
    {
      "cell_type": "code",
      "source": [
        "# why type each plot's code when python can print all of them?\n",
        "\n",
        "log_cols = [i for i in df_c.columns if i[:3] == 'Log']\n",
        "\n",
        "for i in log_cols:\n",
        "  print(f\"df_c['{i}'].hist()\")"
      ],
      "metadata": {
        "colab": {
          "base_uri": "https://localhost:8080/"
        },
        "id": "rYSbnnF8w7SF",
        "outputId": "0c124e13-9a3a-4f8a-ab78-14760318bb82"
      },
      "execution_count": 61,
      "outputs": [
        {
          "output_type": "stream",
          "name": "stdout",
          "text": [
            "df_c['Log_NProducts'].hist()\n",
            "df_c['Log_NTrans'].hist()\n",
            "df_c['Log_TotalSpend'].hist()\n",
            "df_c['Log_TotalUnits'].hist()\n",
            "df_c['Log_AveragePrice'].hist()\n",
            "df_c['Log_SpendPerTrans'].hist()\n"
          ]
        }
      ]
    },
    {
      "cell_type": "code",
      "metadata": {
        "id": "5zFUPsE3fbeF",
        "colab": {
          "base_uri": "https://localhost:8080/",
          "height": 283
        },
        "outputId": "f69ff689-9b64-4ad1-8ef5-c82deca586b7"
      },
      "source": [
        "# plot the histogram of NTrans (after taking the log in cell above)\n",
        "\n",
        "df_c['Log_NTrans'].hist()\n"
      ],
      "execution_count": 62,
      "outputs": [
        {
          "output_type": "execute_result",
          "data": {
            "text/plain": [
              "<matplotlib.axes._subplots.AxesSubplot at 0x7f49b3784d90>"
            ]
          },
          "metadata": {},
          "execution_count": 62
        },
        {
          "output_type": "display_data",
          "data": {
            "text/plain": [
              "<Figure size 432x288 with 1 Axes>"
            ],
            "image/png": "[encoded data removed]"
          },
          "metadata": {
            "needs_background": "light"
          }
        }
      ]
    },
    {
      "cell_type": "code",
      "metadata": {
        "id": "IYmRVNPIf0DC",
        "colab": {
          "base_uri": "https://localhost:8080/",
          "height": 283
        },
        "outputId": "c8580a83-925a-43ff-fdb2-ae94b85ad9fb"
      },
      "source": [
        "# plot the histogram of NProducts (after taking the log)\n",
        "\n",
        "df_c['Log_NProducts'].hist()\n"
      ],
      "execution_count": 63,
      "outputs": [
        {
          "output_type": "execute_result",
          "data": {
            "text/plain": [
              "<matplotlib.axes._subplots.AxesSubplot at 0x7f49b36fcfa0>"
            ]
          },
          "metadata": {},
          "execution_count": 63
        },
        {
          "output_type": "display_data",
          "data": {
            "text/plain": [
              "<Figure size 432x288 with 1 Axes>"
            ],
            "image/png": "[encoded data removed]"
          },
          "metadata": {
            "needs_background": "light"
          }
        }
      ]
    },
    {
      "cell_type": "code",
      "metadata": {
        "id": "tE75Sq7if3Np",
        "colab": {
          "base_uri": "https://localhost:8080/",
          "height": 283
        },
        "outputId": "5ab26e88-d54f-473c-e950-d0b6819cd2da"
      },
      "source": [
        "# plot the histogram of TotalSpend (after taking the log)\n",
        "\n",
        "df_c['Log_TotalSpend'].hist()\n"
      ],
      "execution_count": 64,
      "outputs": [
        {
          "output_type": "execute_result",
          "data": {
            "text/plain": [
              "<matplotlib.axes._subplots.AxesSubplot at 0x7f49b3670580>"
            ]
          },
          "metadata": {},
          "execution_count": 64
        },
        {
          "output_type": "display_data",
          "data": {
            "text/plain": [
              "<Figure size 432x288 with 1 Axes>"
            ],
            "image/png": "[encoded data removed]"
          },
          "metadata": {
            "needs_background": "light"
          }
        }
      ]
    },
    {
      "cell_type": "code",
      "metadata": {
        "id": "482290ggf7q5",
        "colab": {
          "base_uri": "https://localhost:8080/",
          "height": 283
        },
        "outputId": "a7a381a3-f728-4f6b-d00a-f9570a8fa426"
      },
      "source": [
        "# plot the histogram of TotalUnits (after taking the log)\n",
        "\n",
        "df_c['Log_TotalUnits'].hist()\n",
        "\n"
      ],
      "execution_count": 65,
      "outputs": [
        {
          "output_type": "execute_result",
          "data": {
            "text/plain": [
              "<matplotlib.axes._subplots.AxesSubplot at 0x7f49b36284c0>"
            ]
          },
          "metadata": {},
          "execution_count": 65
        },
        {
          "output_type": "display_data",
          "data": {
            "text/plain": [
              "<Figure size 432x288 with 1 Axes>"
            ],
            "image/png": "[encoded data removed]"
          },
          "metadata": {
            "needs_background": "light"
          }
        }
      ]
    },
    {
      "cell_type": "code",
      "metadata": {
        "id": "UOarQXL4gFv6",
        "colab": {
          "base_uri": "https://localhost:8080/",
          "height": 283
        },
        "outputId": "a1abe457-539a-4d3a-d0b2-40900d0b517d"
      },
      "source": [
        "# plot the histogram of AveragePrice (after taking the log)\n",
        "\n",
        "df_c['Log_AveragePrice'].hist()\n"
      ],
      "execution_count": 66,
      "outputs": [
        {
          "output_type": "execute_result",
          "data": {
            "text/plain": [
              "<matplotlib.axes._subplots.AxesSubplot at 0x7f49b35617f0>"
            ]
          },
          "metadata": {},
          "execution_count": 66
        },
        {
          "output_type": "display_data",
          "data": {
            "text/plain": [
              "<Figure size 432x288 with 1 Axes>"
            ],
            "image/png": "[encoded data removed]"
          },
          "metadata": {
            "needs_background": "light"
          }
        }
      ]
    },
    {
      "cell_type": "code",
      "metadata": {
        "id": "OxlrIXpwH7qn",
        "colab": {
          "base_uri": "https://localhost:8080/",
          "height": 283
        },
        "outputId": "d74af825-318b-487e-c387-59c435e49607"
      },
      "source": [
        "# plot the histogram of SpendPerTrans (after taking the log)\n",
        "\n",
        "df_c['Log_SpendPerTrans'].hist()"
      ],
      "execution_count": 67,
      "outputs": [
        {
          "output_type": "execute_result",
          "data": {
            "text/plain": [
              "<matplotlib.axes._subplots.AxesSubplot at 0x7f49b3546c10>"
            ]
          },
          "metadata": {},
          "execution_count": 67
        },
        {
          "output_type": "display_data",
          "data": {
            "text/plain": [
              "<Figure size 432x288 with 1 Axes>"
            ],
            "image/png": "[encoded data removed]"
          },
          "metadata": {
            "needs_background": "light"
          }
        }
      ]
    },
    {
      "cell_type": "markdown",
      "metadata": {
        "id": "dDZw09uBeguU"
      },
      "source": [
        "**Answer this**\n",
        "\n",
        "Why might you want to transform these variables by taking logs of each of these variables? (Notice the difference after taking the log transformation)\n",
        "\n",
        "* Answer: By taking the log we get nicer distributions: log histograms appear to be somewhat normal, while level histograms has all the information bunched up in a few columns - it's hard to draw conclusions."
      ]
    },
    {
      "cell_type": "markdown",
      "metadata": {
        "id": "ZM6npcrmYLi9"
      },
      "source": [
        "# Create standaradized version of df_c\n",
        "\n",
        "1. Create `df_c_std` that has all the columns of `df_c` except `CustomerID`.\n",
        "1. Write a loop through all the columns of `df_c_std` to standardize each column (compute the z-score by subtracting mean and dividing by standard deviation).\n"
      ]
    },
    {
      "cell_type": "code",
      "metadata": {
        "id": "HiRlII9OYQgE",
        "colab": {
          "base_uri": "https://localhost:8080/",
          "height": 206
        },
        "outputId": "c0b1b92c-70cf-4a7d-d22d-c7304eb72376"
      },
      "source": [
        "# First, create df_c_std by selecting all columns from df_c except CustomerID\n",
        "\n",
        "# Note: since I created new columns instead of overwritting existing ones, I have to use the filter created previously\n",
        "log_cols = [i for i in df_c.columns if i[:3] == 'Log']\n",
        "df_c_std =  df_c[log_cols]\n",
        "\n",
        "# renaming such that the Log_ prefix is removed\n",
        "renaming = {i:i[4:] for i in log_cols}\n",
        "df_c_std = df_c_std.rename(columns = renaming)\n",
        "\n",
        "df_c_std.head()"
      ],
      "execution_count": 68,
      "outputs": [
        {
          "output_type": "execute_result",
          "data": {
            "text/plain": [
              "   NProducts    NTrans  TotalSpend  TotalUnits  AveragePrice  SpendPerTrans\n",
              "0   0.000000  0.000000   11.253942   11.214722      0.039221      11.253942\n",
              "1   4.634729  1.945910    8.368693    7.807103      0.561590       6.422783\n",
              "2   3.044522  1.386294    7.270480    7.754482     -0.484002       5.884186\n",
              "3   4.276666  0.000000    7.284512    6.445720      0.838792       7.284512\n",
              "4   2.772589  0.000000    5.684939    5.278115      0.406825       5.684939"
            ],
            "text/html": [
              "\n",
              "  <div id=\"df-8b7b4136-ba4e-49bc-b6e5-b7fd0aed0f71\">\n",
              "    <div class=\"colab-df-container\">\n",
              "      <div>\n",
              "<style scoped>\n",
              "    .dataframe tbody tr th:only-of-type {\n",
              "        vertical-align: middle;\n",
              "    }\n",
              "\n",
              "    .dataframe tbody tr th {\n",
              "        vertical-align: top;\n",
              "    }\n",
              "\n",
              "    .dataframe thead th {\n",
              "        text-align: right;\n",
              "    }\n",
              "</style>\n",
              "<table border=\"1\" class=\"dataframe\">\n",
              "  <thead>\n",
              "    <tr style=\"text-align: right;\">\n",
              "      <th></th>\n",
              "      <th>NProducts</th>\n",
              "      <th>NTrans</th>\n",
              "      <th>TotalSpend</th>\n",
              "      <th>TotalUnits</th>\n",
              "      <th>AveragePrice</th>\n",
              "      <th>SpendPerTrans</th>\n",
              "    </tr>\n",
              "  </thead>\n",
              "  <tbody>\n",
              "    <tr>\n",
              "      <th>0</th>\n",
              "      <td>0.000000</td>\n",
              "      <td>0.000000</td>\n",
              "      <td>11.253942</td>\n",
              "      <td>11.214722</td>\n",
              "      <td>0.039221</td>\n",
              "      <td>11.253942</td>\n",
              "    </tr>\n",
              "    <tr>\n",
              "      <th>1</th>\n",
              "      <td>4.634729</td>\n",
              "      <td>1.945910</td>\n",
              "      <td>8.368693</td>\n",
              "      <td>7.807103</td>\n",
              "      <td>0.561590</td>\n",
              "      <td>6.422783</td>\n",
              "    </tr>\n",
              "    <tr>\n",
              "      <th>2</th>\n",
              "      <td>3.044522</td>\n",
              "      <td>1.386294</td>\n",
              "      <td>7.270480</td>\n",
              "      <td>7.754482</td>\n",
              "      <td>-0.484002</td>\n",
              "      <td>5.884186</td>\n",
              "    </tr>\n",
              "    <tr>\n",
              "      <th>3</th>\n",
              "      <td>4.276666</td>\n",
              "      <td>0.000000</td>\n",
              "      <td>7.284512</td>\n",
              "      <td>6.445720</td>\n",
              "      <td>0.838792</td>\n",
              "      <td>7.284512</td>\n",
              "    </tr>\n",
              "    <tr>\n",
              "      <th>4</th>\n",
              "      <td>2.772589</td>\n",
              "      <td>0.000000</td>\n",
              "      <td>5.684939</td>\n",
              "      <td>5.278115</td>\n",
              "      <td>0.406825</td>\n",
              "      <td>5.684939</td>\n",
              "    </tr>\n",
              "  </tbody>\n",
              "</table>\n",
              "</div>\n",
              "      <button class=\"colab-df-convert\" onclick=\"convertToInteractive('df-8b7b4136-ba4e-49bc-b6e5-b7fd0aed0f71')\"\n",
              "              title=\"Convert this dataframe to an interactive table.\"\n",
              "              style=\"display:none;\">\n",
              "        \n",
              "  <svg xmlns=\"http://www.w3.org/2000/svg\" height=\"24px\"viewBox=\"0 0 24 24\"\n",
              "       width=\"24px\">\n",
              "    <path d=\"M0 0h24v24H0V0z\" fill=\"none\"/>\n",
              "    <path d=\"M18.56 5.44l.94 2.06.94-2.06 2.06-.94-2.06-.94-.94-2.06-.94 2.06-2.06.94zm-11 1L8.5 8.5l.94-2.06 2.06-.94-2.06-.94L8.5 2.5l-.94 2.06-2.06.94zm10 10l.94 2.06.94-2.06 2.06-.94-2.06-.94-.94-2.06-.94 2.06-2.06.94z\"/><path d=\"M17.41 7.96l-1.37-1.37c-.4-.4-.92-.59-1.43-.59-.52 0-1.04.2-1.43.59L10.3 9.45l-7.72 7.72c-.78.78-.78 2.05 0 2.83L4 21.41c.39.39.9.59 1.41.59.51 0 1.02-.2 1.41-.59l7.78-7.78 2.81-2.81c.8-.78.8-2.07 0-2.86zM5.41 20L4 18.59l7.72-7.72 1.47 1.35L5.41 20z\"/>\n",
              "  </svg>\n",
              "      </button>\n",
              "      \n",
              "  <style>\n",
              "    .colab-df-container {\n",
              "      display:flex;\n",
              "      flex-wrap:wrap;\n",
              "      gap: 12px;\n",
              "    }\n",
              "\n",
              "    .colab-df-convert {\n",
              "      background-color: #E8F0FE;\n",
              "      border: none;\n",
              "      border-radius: 50%;\n",
              "      cursor: pointer;\n",
              "      display: none;\n",
              "      fill: #1967D2;\n",
              "      height: 32px;\n",
              "      padding: 0 0 0 0;\n",
              "      width: 32px;\n",
              "    }\n",
              "\n",
              "    .colab-df-convert:hover {\n",
              "      background-color: #E2EBFA;\n",
              "      box-shadow: 0px 1px 2px rgba(60, 64, 67, 0.3), 0px 1px 3px 1px rgba(60, 64, 67, 0.15);\n",
              "      fill: #174EA6;\n",
              "    }\n",
              "\n",
              "    [theme=dark] .colab-df-convert {\n",
              "      background-color: #3B4455;\n",
              "      fill: #D2E3FC;\n",
              "    }\n",
              "\n",
              "    [theme=dark] .colab-df-convert:hover {\n",
              "      background-color: #434B5C;\n",
              "      box-shadow: 0px 1px 3px 1px rgba(0, 0, 0, 0.15);\n",
              "      filter: drop-shadow(0px 1px 2px rgba(0, 0, 0, 0.3));\n",
              "      fill: #FFFFFF;\n",
              "    }\n",
              "  </style>\n",
              "\n",
              "      <script>\n",
              "        const buttonEl =\n",
              "          document.querySelector('#df-8b7b4136-ba4e-49bc-b6e5-b7fd0aed0f71 button.colab-df-convert');\n",
              "        buttonEl.style.display =\n",
              "          google.colab.kernel.accessAllowed ? 'block' : 'none';\n",
              "\n",
              "        async function convertToInteractive(key) {\n",
              "          const element = document.querySelector('#df-8b7b4136-ba4e-49bc-b6e5-b7fd0aed0f71');\n",
              "          const dataTable =\n",
              "            await google.colab.kernel.invokeFunction('convertToInteractive',\n",
              "                                                     [key], {});\n",
              "          if (!dataTable) return;\n",
              "\n",
              "          const docLinkHtml = 'Like what you see? Visit the ' +\n",
              "            '<a target=\"_blank\" href=https://colab.research.google.com/notebooks/data_table.ipynb>data table notebook</a>'\n",
              "            + ' to learn more about interactive tables.';\n",
              "          element.innerHTML = '';\n",
              "          dataTable['output_type'] = 'display_data';\n",
              "          await google.colab.output.renderOutput(dataTable, element);\n",
              "          const docLink = document.createElement('div');\n",
              "          docLink.innerHTML = docLinkHtml;\n",
              "          element.appendChild(docLink);\n",
              "        }\n",
              "      </script>\n",
              "    </div>\n",
              "  </div>\n",
              "  "
            ]
          },
          "metadata": {},
          "execution_count": 68
        }
      ]
    },
    {
      "cell_type": "code",
      "metadata": {
        "id": "22TAskuVZamE"
      },
      "source": [
        "# write a loop to standardize each column of df_c_std\n",
        "# by replacing each column with (that column - the mean of the column) / std of column\n",
        "\n",
        "for column in df_c_std.columns:\n",
        "  mean = df_c_std[column].mean()\n",
        "  std = df_c_std[column].std()\n",
        "\n",
        "  df_c_std[column] =  (df_c_std[column] - mean) / std\n"
      ],
      "execution_count": 69,
      "outputs": []
    },
    {
      "cell_type": "code",
      "metadata": {
        "id": "oXmMOxhyZ1eF",
        "colab": {
          "base_uri": "https://localhost:8080/",
          "height": 206
        },
        "outputId": "0d132c40-6573-43a2-c330-115975059b40"
      },
      "source": [
        "# preview df_c_std to make sure the values have been standardized \n",
        "\n",
        "df_c_std.head()"
      ],
      "execution_count": 70,
      "outputs": [
        {
          "output_type": "execute_result",
          "data": {
            "text/plain": [
              "   NProducts    NTrans  TotalSpend  TotalUnits  AveragePrice  SpendPerTrans\n",
              "0  -2.861400 -1.043705    3.718600    3.807404     -1.070471       7.516677\n",
              "1   0.943194  1.119085    1.424214    1.327975     -0.065642       1.049633\n",
              "2  -0.362188  0.497097    0.550901    1.289687     -2.076942       0.328660\n",
              "3   0.649264 -1.043705    0.562060    0.337414      0.467585       2.203153\n",
              "4  -0.585415 -1.043705   -0.709940   -0.512151     -0.363348       0.061947"
            ],
            "text/html": [
              "\n",
              "  <div id=\"df-20b1de34-e663-434d-bb1a-d1c9e0e49660\">\n",
              "    <div class=\"colab-df-container\">\n",
              "      <div>\n",
              "<style scoped>\n",
              "    .dataframe tbody tr th:only-of-type {\n",
              "        vertical-align: middle;\n",
              "    }\n",
              "\n",
              "    .dataframe tbody tr th {\n",
              "        vertical-align: top;\n",
              "    }\n",
              "\n",
              "    .dataframe thead th {\n",
              "        text-align: right;\n",
              "    }\n",
              "</style>\n",
              "<table border=\"1\" class=\"dataframe\">\n",
              "  <thead>\n",
              "    <tr style=\"text-align: right;\">\n",
              "      <th></th>\n",
              "      <th>NProducts</th>\n",
              "      <th>NTrans</th>\n",
              "      <th>TotalSpend</th>\n",
              "      <th>TotalUnits</th>\n",
              "      <th>AveragePrice</th>\n",
              "      <th>SpendPerTrans</th>\n",
              "    </tr>\n",
              "  </thead>\n",
              "  <tbody>\n",
              "    <tr>\n",
              "      <th>0</th>\n",
              "      <td>-2.861400</td>\n",
              "      <td>-1.043705</td>\n",
              "      <td>3.718600</td>\n",
              "      <td>3.807404</td>\n",
              "      <td>-1.070471</td>\n",
              "      <td>7.516677</td>\n",
              "    </tr>\n",
              "    <tr>\n",
              "      <th>1</th>\n",
              "      <td>0.943194</td>\n",
              "      <td>1.119085</td>\n",
              "      <td>1.424214</td>\n",
              "      <td>1.327975</td>\n",
              "      <td>-0.065642</td>\n",
              "      <td>1.049633</td>\n",
              "    </tr>\n",
              "    <tr>\n",
              "      <th>2</th>\n",
              "      <td>-0.362188</td>\n",
              "      <td>0.497097</td>\n",
              "      <td>0.550901</td>\n",
              "      <td>1.289687</td>\n",
              "      <td>-2.076942</td>\n",
              "      <td>0.328660</td>\n",
              "    </tr>\n",
              "    <tr>\n",
              "      <th>3</th>\n",
              "      <td>0.649264</td>\n",
              "      <td>-1.043705</td>\n",
              "      <td>0.562060</td>\n",
              "      <td>0.337414</td>\n",
              "      <td>0.467585</td>\n",
              "      <td>2.203153</td>\n",
              "    </tr>\n",
              "    <tr>\n",
              "      <th>4</th>\n",
              "      <td>-0.585415</td>\n",
              "      <td>-1.043705</td>\n",
              "      <td>-0.709940</td>\n",
              "      <td>-0.512151</td>\n",
              "      <td>-0.363348</td>\n",
              "      <td>0.061947</td>\n",
              "    </tr>\n",
              "  </tbody>\n",
              "</table>\n",
              "</div>\n",
              "      <button class=\"colab-df-convert\" onclick=\"convertToInteractive('df-20b1de34-e663-434d-bb1a-d1c9e0e49660')\"\n",
              "              title=\"Convert this dataframe to an interactive table.\"\n",
              "              style=\"display:none;\">\n",
              "        \n",
              "  <svg xmlns=\"http://www.w3.org/2000/svg\" height=\"24px\"viewBox=\"0 0 24 24\"\n",
              "       width=\"24px\">\n",
              "    <path d=\"M0 0h24v24H0V0z\" fill=\"none\"/>\n",
              "    <path d=\"M18.56 5.44l.94 2.06.94-2.06 2.06-.94-2.06-.94-.94-2.06-.94 2.06-2.06.94zm-11 1L8.5 8.5l.94-2.06 2.06-.94-2.06-.94L8.5 2.5l-.94 2.06-2.06.94zm10 10l.94 2.06.94-2.06 2.06-.94-2.06-.94-.94-2.06-.94 2.06-2.06.94z\"/><path d=\"M17.41 7.96l-1.37-1.37c-.4-.4-.92-.59-1.43-.59-.52 0-1.04.2-1.43.59L10.3 9.45l-7.72 7.72c-.78.78-.78 2.05 0 2.83L4 21.41c.39.39.9.59 1.41.59.51 0 1.02-.2 1.41-.59l7.78-7.78 2.81-2.81c.8-.78.8-2.07 0-2.86zM5.41 20L4 18.59l7.72-7.72 1.47 1.35L5.41 20z\"/>\n",
              "  </svg>\n",
              "      </button>\n",
              "      \n",
              "  <style>\n",
              "    .colab-df-container {\n",
              "      display:flex;\n",
              "      flex-wrap:wrap;\n",
              "      gap: 12px;\n",
              "    }\n",
              "\n",
              "    .colab-df-convert {\n",
              "      background-color: #E8F0FE;\n",
              "      border: none;\n",
              "      border-radius: 50%;\n",
              "      cursor: pointer;\n",
              "      display: none;\n",
              "      fill: #1967D2;\n",
              "      height: 32px;\n",
              "      padding: 0 0 0 0;\n",
              "      width: 32px;\n",
              "    }\n",
              "\n",
              "    .colab-df-convert:hover {\n",
              "      background-color: #E2EBFA;\n",
              "      box-shadow: 0px 1px 2px rgba(60, 64, 67, 0.3), 0px 1px 3px 1px rgba(60, 64, 67, 0.15);\n",
              "      fill: #174EA6;\n",
              "    }\n",
              "\n",
              "    [theme=dark] .colab-df-convert {\n",
              "      background-color: #3B4455;\n",
              "      fill: #D2E3FC;\n",
              "    }\n",
              "\n",
              "    [theme=dark] .colab-df-convert:hover {\n",
              "      background-color: #434B5C;\n",
              "      box-shadow: 0px 1px 3px 1px rgba(0, 0, 0, 0.15);\n",
              "      filter: drop-shadow(0px 1px 2px rgba(0, 0, 0, 0.3));\n",
              "      fill: #FFFFFF;\n",
              "    }\n",
              "  </style>\n",
              "\n",
              "      <script>\n",
              "        const buttonEl =\n",
              "          document.querySelector('#df-20b1de34-e663-434d-bb1a-d1c9e0e49660 button.colab-df-convert');\n",
              "        buttonEl.style.display =\n",
              "          google.colab.kernel.accessAllowed ? 'block' : 'none';\n",
              "\n",
              "        async function convertToInteractive(key) {\n",
              "          const element = document.querySelector('#df-20b1de34-e663-434d-bb1a-d1c9e0e49660');\n",
              "          const dataTable =\n",
              "            await google.colab.kernel.invokeFunction('convertToInteractive',\n",
              "                                                     [key], {});\n",
              "          if (!dataTable) return;\n",
              "\n",
              "          const docLinkHtml = 'Like what you see? Visit the ' +\n",
              "            '<a target=\"_blank\" href=https://colab.research.google.com/notebooks/data_table.ipynb>data table notebook</a>'\n",
              "            + ' to learn more about interactive tables.';\n",
              "          element.innerHTML = '';\n",
              "          dataTable['output_type'] = 'display_data';\n",
              "          await google.colab.output.renderOutput(dataTable, element);\n",
              "          const docLink = document.createElement('div');\n",
              "          docLink.innerHTML = docLinkHtml;\n",
              "          element.appendChild(docLink);\n",
              "        }\n",
              "      </script>\n",
              "    </div>\n",
              "  </div>\n",
              "  "
            ]
          },
          "metadata": {},
          "execution_count": 70
        }
      ]
    },
    {
      "cell_type": "markdown",
      "metadata": {
        "id": "k74kDrhraT7G"
      },
      "source": [
        "**Answer question**\n",
        "\n",
        "Why is it important to standardize variables before performing clustering?\n",
        "\n",
        "* Answer: K-means is location-sensitive (it gets more and more biased the further away the data gets from the origin). By standardizing our variables, we reduce said bias"
      ]
    },
    {
      "cell_type": "markdown",
      "metadata": {
        "id": "If2zZNEsmC10"
      },
      "source": [
        "# Part 2 Segmentation (25 points)\n"
      ]
    },
    {
      "cell_type": "markdown",
      "metadata": {
        "id": "9xNZsG0TYO8E"
      },
      "source": [
        "\n",
        "## Dimensionality reduction\n",
        "\n",
        "1. Compute the 2D principal components transformation of `df_c_std`, call this `transformed`\n",
        "1. Make sure `transformed` is a dataframe, then name the columns 'pc1' and 'pc2' for principal component 1 and 2, respectively.\n",
        "1. Add `pc1` and `pc2` to the df_c dataframe (create the same 2 columns in df_c).\n",
        "\n",
        "Create a scatter plot of the principal components 1 vs 2. \n"
      ]
    },
    {
      "cell_type": "markdown",
      "metadata": {
        "id": "g-UvjJcfbBMp"
      },
      "source": [
        "**Answer question**\n",
        "\n",
        "Why might you want to reduce the dimensionality of your data (using PCA) before performing clustering?\n",
        "\n",
        "* Answer: To improve the efficiency and performance of the algorithm"
      ]
    },
    {
      "cell_type": "code",
      "metadata": {
        "id": "D7J7Iyeta6hx",
        "colab": {
          "base_uri": "https://localhost:8080/"
        },
        "outputId": "1c626e3d-0deb-47cd-d96d-0ce6989cc2c5"
      },
      "source": [
        "# Use PCA to reduce df_c_std to its first 2 principle components\n",
        "# store the result as 2 columns in the *df_c* dataframe:\n",
        "# 'pc1' and 'pc2'\n",
        "\n",
        "pca = PCA(n_components=2)\n",
        "transformed = pca.fit_transform(df_c_std)\n",
        "transformed"
      ],
      "execution_count": 71,
      "outputs": [
        {
          "output_type": "execute_result",
          "data": {
            "text/plain": [
              "array([[ 4.91683821,  0.74081111],\n",
              "       [ 2.63215841,  0.28141836],\n",
              "       [ 1.3436546 , -1.92488744],\n",
              "       ...,\n",
              "       [-2.04480057, -0.46431172],\n",
              "       [ 2.14936016, -0.44769034],\n",
              "       [ 1.63189558, -0.60975492]])"
            ]
          },
          "metadata": {},
          "execution_count": 71
        }
      ]
    },
    {
      "cell_type": "code",
      "source": [
        "# making sure transformed is a dataframe\n",
        "transformed = pd.DataFrame(transformed)\n",
        "transformed.columns = ['pc1', 'pc2']\n",
        "transformed.head()"
      ],
      "metadata": {
        "colab": {
          "base_uri": "https://localhost:8080/",
          "height": 206
        },
        "id": "PGuEWk7J25sx",
        "outputId": "d004a110-2082-495a-8058-f683c4e188ef"
      },
      "execution_count": 72,
      "outputs": [
        {
          "output_type": "execute_result",
          "data": {
            "text/plain": [
              "        pc1       pc2\n",
              "0  4.916838  0.740811\n",
              "1  2.632158  0.281418\n",
              "2  1.343655 -1.924887\n",
              "3  1.007478  0.852119\n",
              "4 -1.237310 -0.447156"
            ],
            "text/html": [
              "\n",
              "  <div id=\"df-7aebe1ed-abef-4a5d-b118-edb297077ec4\">\n",
              "    <div class=\"colab-df-container\">\n",
              "      <div>\n",
              "<style scoped>\n",
              "    .dataframe tbody tr th:only-of-type {\n",
              "        vertical-align: middle;\n",
              "    }\n",
              "\n",
              "    .dataframe tbody tr th {\n",
              "        vertical-align: top;\n",
              "    }\n",
              "\n",
              "    .dataframe thead th {\n",
              "        text-align: right;\n",
              "    }\n",
              "</style>\n",
              "<table border=\"1\" class=\"dataframe\">\n",
              "  <thead>\n",
              "    <tr style=\"text-align: right;\">\n",
              "      <th></th>\n",
              "      <th>pc1</th>\n",
              "      <th>pc2</th>\n",
              "    </tr>\n",
              "  </thead>\n",
              "  <tbody>\n",
              "    <tr>\n",
              "      <th>0</th>\n",
              "      <td>4.916838</td>\n",
              "      <td>0.740811</td>\n",
              "    </tr>\n",
              "    <tr>\n",
              "      <th>1</th>\n",
              "      <td>2.632158</td>\n",
              "      <td>0.281418</td>\n",
              "    </tr>\n",
              "    <tr>\n",
              "      <th>2</th>\n",
              "      <td>1.343655</td>\n",
              "      <td>-1.924887</td>\n",
              "    </tr>\n",
              "    <tr>\n",
              "      <th>3</th>\n",
              "      <td>1.007478</td>\n",
              "      <td>0.852119</td>\n",
              "    </tr>\n",
              "    <tr>\n",
              "      <th>4</th>\n",
              "      <td>-1.237310</td>\n",
              "      <td>-0.447156</td>\n",
              "    </tr>\n",
              "  </tbody>\n",
              "</table>\n",
              "</div>\n",
              "      <button class=\"colab-df-convert\" onclick=\"convertToInteractive('df-7aebe1ed-abef-4a5d-b118-edb297077ec4')\"\n",
              "              title=\"Convert this dataframe to an interactive table.\"\n",
              "              style=\"display:none;\">\n",
              "        \n",
              "  <svg xmlns=\"http://www.w3.org/2000/svg\" height=\"24px\"viewBox=\"0 0 24 24\"\n",
              "       width=\"24px\">\n",
              "    <path d=\"M0 0h24v24H0V0z\" fill=\"none\"/>\n",
              "    <path d=\"M18.56 5.44l.94 2.06.94-2.06 2.06-.94-2.06-.94-.94-2.06-.94 2.06-2.06.94zm-11 1L8.5 8.5l.94-2.06 2.06-.94-2.06-.94L8.5 2.5l-.94 2.06-2.06.94zm10 10l.94 2.06.94-2.06 2.06-.94-2.06-.94-.94-2.06-.94 2.06-2.06.94z\"/><path d=\"M17.41 7.96l-1.37-1.37c-.4-.4-.92-.59-1.43-.59-.52 0-1.04.2-1.43.59L10.3 9.45l-7.72 7.72c-.78.78-.78 2.05 0 2.83L4 21.41c.39.39.9.59 1.41.59.51 0 1.02-.2 1.41-.59l7.78-7.78 2.81-2.81c.8-.78.8-2.07 0-2.86zM5.41 20L4 18.59l7.72-7.72 1.47 1.35L5.41 20z\"/>\n",
              "  </svg>\n",
              "      </button>\n",
              "      \n",
              "  <style>\n",
              "    .colab-df-container {\n",
              "      display:flex;\n",
              "      flex-wrap:wrap;\n",
              "      gap: 12px;\n",
              "    }\n",
              "\n",
              "    .colab-df-convert {\n",
              "      background-color: #E8F0FE;\n",
              "      border: none;\n",
              "      border-radius: 50%;\n",
              "      cursor: pointer;\n",
              "      display: none;\n",
              "      fill: #1967D2;\n",
              "      height: 32px;\n",
              "      padding: 0 0 0 0;\n",
              "      width: 32px;\n",
              "    }\n",
              "\n",
              "    .colab-df-convert:hover {\n",
              "      background-color: #E2EBFA;\n",
              "      box-shadow: 0px 1px 2px rgba(60, 64, 67, 0.3), 0px 1px 3px 1px rgba(60, 64, 67, 0.15);\n",
              "      fill: #174EA6;\n",
              "    }\n",
              "\n",
              "    [theme=dark] .colab-df-convert {\n",
              "      background-color: #3B4455;\n",
              "      fill: #D2E3FC;\n",
              "    }\n",
              "\n",
              "    [theme=dark] .colab-df-convert:hover {\n",
              "      background-color: #434B5C;\n",
              "      box-shadow: 0px 1px 3px 1px rgba(0, 0, 0, 0.15);\n",
              "      filter: drop-shadow(0px 1px 2px rgba(0, 0, 0, 0.3));\n",
              "      fill: #FFFFFF;\n",
              "    }\n",
              "  </style>\n",
              "\n",
              "      <script>\n",
              "        const buttonEl =\n",
              "          document.querySelector('#df-7aebe1ed-abef-4a5d-b118-edb297077ec4 button.colab-df-convert');\n",
              "        buttonEl.style.display =\n",
              "          google.colab.kernel.accessAllowed ? 'block' : 'none';\n",
              "\n",
              "        async function convertToInteractive(key) {\n",
              "          const element = document.querySelector('#df-7aebe1ed-abef-4a5d-b118-edb297077ec4');\n",
              "          const dataTable =\n",
              "            await google.colab.kernel.invokeFunction('convertToInteractive',\n",
              "                                                     [key], {});\n",
              "          if (!dataTable) return;\n",
              "\n",
              "          const docLinkHtml = 'Like what you see? Visit the ' +\n",
              "            '<a target=\"_blank\" href=https://colab.research.google.com/notebooks/data_table.ipynb>data table notebook</a>'\n",
              "            + ' to learn more about interactive tables.';\n",
              "          element.innerHTML = '';\n",
              "          dataTable['output_type'] = 'display_data';\n",
              "          await google.colab.output.renderOutput(dataTable, element);\n",
              "          const docLink = document.createElement('div');\n",
              "          docLink.innerHTML = docLinkHtml;\n",
              "          element.appendChild(docLink);\n",
              "        }\n",
              "      </script>\n",
              "    </div>\n",
              "  </div>\n",
              "  "
            ]
          },
          "metadata": {},
          "execution_count": 72
        }
      ]
    },
    {
      "cell_type": "code",
      "source": [
        "df_c['pc1'] = transformed['pc1']\n",
        "df_c['pc2'] = transformed['pc2']"
      ],
      "metadata": {
        "id": "CrrGB2fw1R32"
      },
      "execution_count": 73,
      "outputs": []
    },
    {
      "cell_type": "code",
      "metadata": {
        "id": "yTqP6A_KdVVz",
        "colab": {
          "base_uri": "https://localhost:8080/",
          "height": 206
        },
        "outputId": "58a32dbd-d330-400d-c77c-aa8f64c44457"
      },
      "source": [
        "# take a look at df_c to make sure principle components are in the dataframe\n",
        "\n",
        "df_c.head()"
      ],
      "execution_count": 74,
      "outputs": [
        {
          "output_type": "execute_result",
          "data": {
            "text/plain": [
              "   CustomerID  NProducts  NTrans  TotalSpend  TotalUnits  AveragePrice  \\\n",
              "0     12346.0          1       1    77183.60       74215      1.040000   \n",
              "1     12347.0        103       7     4310.00        2458      1.753458   \n",
              "2     12348.0         21       4     1437.24        2332      0.616312   \n",
              "3     12349.0         72       1     1457.55         630      2.313571   \n",
              "4     12350.0         16       1      294.40         196      1.502041   \n",
              "\n",
              "   SpendPerTrans  Log_NProducts  Log_NTrans  Log_TotalSpend  Log_TotalUnits  \\\n",
              "0   77183.600000       0.000000    0.000000       11.253942       11.214722   \n",
              "1     615.714286       4.634729    1.945910        8.368693        7.807103   \n",
              "2     359.310000       3.044522    1.386294        7.270480        7.754482   \n",
              "3    1457.550000       4.276666    0.000000        7.284512        6.445720   \n",
              "4     294.400000       2.772589    0.000000        5.684939        5.278115   \n",
              "\n",
              "   Log_AveragePrice  Log_SpendPerTrans       pc1       pc2  \n",
              "0          0.039221          11.253942  4.916838  0.740811  \n",
              "1          0.561590           6.422783  2.632158  0.281418  \n",
              "2         -0.484002           5.884186  1.343655 -1.924887  \n",
              "3          0.838792           7.284512  1.007478  0.852119  \n",
              "4          0.406825           5.684939 -1.237310 -0.447156  "
            ],
            "text/html": [
              "\n",
              "  <div id=\"df-6baad5d8-7005-4a59-9073-9d13f0a9df96\">\n",
              "    <div class=\"colab-df-container\">\n",
              "      <div>\n",
              "<style scoped>\n",
              "    .dataframe tbody tr th:only-of-type {\n",
              "        vertical-align: middle;\n",
              "    }\n",
              "\n",
              "    .dataframe tbody tr th {\n",
              "        vertical-align: top;\n",
              "    }\n",
              "\n",
              "    .dataframe thead th {\n",
              "        text-align: right;\n",
              "    }\n",
              "</style>\n",
              "<table border=\"1\" class=\"dataframe\">\n",
              "  <thead>\n",
              "    <tr style=\"text-align: right;\">\n",
              "      <th></th>\n",
              "      <th>CustomerID</th>\n",
              "      <th>NProducts</th>\n",
              "      <th>NTrans</th>\n",
              "      <th>TotalSpend</th>\n",
              "      <th>TotalUnits</th>\n",
              "      <th>AveragePrice</th>\n",
              "      <th>SpendPerTrans</th>\n",
              "      <th>Log_NProducts</th>\n",
              "      <th>Log_NTrans</th>\n",
              "      <th>Log_TotalSpend</th>\n",
              "      <th>Log_TotalUnits</th>\n",
              "      <th>Log_AveragePrice</th>\n",
              "      <th>Log_SpendPerTrans</th>\n",
              "      <th>pc1</th>\n",
              "      <th>pc2</th>\n",
              "    </tr>\n",
              "  </thead>\n",
              "  <tbody>\n",
              "    <tr>\n",
              "      <th>0</th>\n",
              "      <td>12346.0</td>\n",
              "      <td>1</td>\n",
              "      <td>1</td>\n",
              "      <td>77183.60</td>\n",
              "      <td>74215</td>\n",
              "      <td>1.040000</td>\n",
              "      <td>77183.600000</td>\n",
              "      <td>0.000000</td>\n",
              "      <td>0.000000</td>\n",
              "      <td>11.253942</td>\n",
              "      <td>11.214722</td>\n",
              "      <td>0.039221</td>\n",
              "      <td>11.253942</td>\n",
              "      <td>4.916838</td>\n",
              "      <td>0.740811</td>\n",
              "    </tr>\n",
              "    <tr>\n",
              "      <th>1</th>\n",
              "      <td>12347.0</td>\n",
              "      <td>103</td>\n",
              "      <td>7</td>\n",
              "      <td>4310.00</td>\n",
              "      <td>2458</td>\n",
              "      <td>1.753458</td>\n",
              "      <td>615.714286</td>\n",
              "      <td>4.634729</td>\n",
              "      <td>1.945910</td>\n",
              "      <td>8.368693</td>\n",
              "      <td>7.807103</td>\n",
              "      <td>0.561590</td>\n",
              "      <td>6.422783</td>\n",
              "      <td>2.632158</td>\n",
              "      <td>0.281418</td>\n",
              "    </tr>\n",
              "    <tr>\n",
              "      <th>2</th>\n",
              "      <td>12348.0</td>\n",
              "      <td>21</td>\n",
              "      <td>4</td>\n",
              "      <td>1437.24</td>\n",
              "      <td>2332</td>\n",
              "      <td>0.616312</td>\n",
              "      <td>359.310000</td>\n",
              "      <td>3.044522</td>\n",
              "      <td>1.386294</td>\n",
              "      <td>7.270480</td>\n",
              "      <td>7.754482</td>\n",
              "      <td>-0.484002</td>\n",
              "      <td>5.884186</td>\n",
              "      <td>1.343655</td>\n",
              "      <td>-1.924887</td>\n",
              "    </tr>\n",
              "    <tr>\n",
              "      <th>3</th>\n",
              "      <td>12349.0</td>\n",
              "      <td>72</td>\n",
              "      <td>1</td>\n",
              "      <td>1457.55</td>\n",
              "      <td>630</td>\n",
              "      <td>2.313571</td>\n",
              "      <td>1457.550000</td>\n",
              "      <td>4.276666</td>\n",
              "      <td>0.000000</td>\n",
              "      <td>7.284512</td>\n",
              "      <td>6.445720</td>\n",
              "      <td>0.838792</td>\n",
              "      <td>7.284512</td>\n",
              "      <td>1.007478</td>\n",
              "      <td>0.852119</td>\n",
              "    </tr>\n",
              "    <tr>\n",
              "      <th>4</th>\n",
              "      <td>12350.0</td>\n",
              "      <td>16</td>\n",
              "      <td>1</td>\n",
              "      <td>294.40</td>\n",
              "      <td>196</td>\n",
              "      <td>1.502041</td>\n",
              "      <td>294.400000</td>\n",
              "      <td>2.772589</td>\n",
              "      <td>0.000000</td>\n",
              "      <td>5.684939</td>\n",
              "      <td>5.278115</td>\n",
              "      <td>0.406825</td>\n",
              "      <td>5.684939</td>\n",
              "      <td>-1.237310</td>\n",
              "      <td>-0.447156</td>\n",
              "    </tr>\n",
              "  </tbody>\n",
              "</table>\n",
              "</div>\n",
              "      <button class=\"colab-df-convert\" onclick=\"convertToInteractive('df-6baad5d8-7005-4a59-9073-9d13f0a9df96')\"\n",
              "              title=\"Convert this dataframe to an interactive table.\"\n",
              "              style=\"display:none;\">\n",
              "        \n",
              "  <svg xmlns=\"http://www.w3.org/2000/svg\" height=\"24px\"viewBox=\"0 0 24 24\"\n",
              "       width=\"24px\">\n",
              "    <path d=\"M0 0h24v24H0V0z\" fill=\"none\"/>\n",
              "    <path d=\"M18.56 5.44l.94 2.06.94-2.06 2.06-.94-2.06-.94-.94-2.06-.94 2.06-2.06.94zm-11 1L8.5 8.5l.94-2.06 2.06-.94-2.06-.94L8.5 2.5l-.94 2.06-2.06.94zm10 10l.94 2.06.94-2.06 2.06-.94-2.06-.94-.94-2.06-.94 2.06-2.06.94z\"/><path d=\"M17.41 7.96l-1.37-1.37c-.4-.4-.92-.59-1.43-.59-.52 0-1.04.2-1.43.59L10.3 9.45l-7.72 7.72c-.78.78-.78 2.05 0 2.83L4 21.41c.39.39.9.59 1.41.59.51 0 1.02-.2 1.41-.59l7.78-7.78 2.81-2.81c.8-.78.8-2.07 0-2.86zM5.41 20L4 18.59l7.72-7.72 1.47 1.35L5.41 20z\"/>\n",
              "  </svg>\n",
              "      </button>\n",
              "      \n",
              "  <style>\n",
              "    .colab-df-container {\n",
              "      display:flex;\n",
              "      flex-wrap:wrap;\n",
              "      gap: 12px;\n",
              "    }\n",
              "\n",
              "    .colab-df-convert {\n",
              "      background-color: #E8F0FE;\n",
              "      border: none;\n",
              "      border-radius: 50%;\n",
              "      cursor: pointer;\n",
              "      display: none;\n",
              "      fill: #1967D2;\n",
              "      height: 32px;\n",
              "      padding: 0 0 0 0;\n",
              "      width: 32px;\n",
              "    }\n",
              "\n",
              "    .colab-df-convert:hover {\n",
              "      background-color: #E2EBFA;\n",
              "      box-shadow: 0px 1px 2px rgba(60, 64, 67, 0.3), 0px 1px 3px 1px rgba(60, 64, 67, 0.15);\n",
              "      fill: #174EA6;\n",
              "    }\n",
              "\n",
              "    [theme=dark] .colab-df-convert {\n",
              "      background-color: #3B4455;\n",
              "      fill: #D2E3FC;\n",
              "    }\n",
              "\n",
              "    [theme=dark] .colab-df-convert:hover {\n",
              "      background-color: #434B5C;\n",
              "      box-shadow: 0px 1px 3px 1px rgba(0, 0, 0, 0.15);\n",
              "      filter: drop-shadow(0px 1px 2px rgba(0, 0, 0, 0.3));\n",
              "      fill: #FFFFFF;\n",
              "    }\n",
              "  </style>\n",
              "\n",
              "      <script>\n",
              "        const buttonEl =\n",
              "          document.querySelector('#df-6baad5d8-7005-4a59-9073-9d13f0a9df96 button.colab-df-convert');\n",
              "        buttonEl.style.display =\n",
              "          google.colab.kernel.accessAllowed ? 'block' : 'none';\n",
              "\n",
              "        async function convertToInteractive(key) {\n",
              "          const element = document.querySelector('#df-6baad5d8-7005-4a59-9073-9d13f0a9df96');\n",
              "          const dataTable =\n",
              "            await google.colab.kernel.invokeFunction('convertToInteractive',\n",
              "                                                     [key], {});\n",
              "          if (!dataTable) return;\n",
              "\n",
              "          const docLinkHtml = 'Like what you see? Visit the ' +\n",
              "            '<a target=\"_blank\" href=https://colab.research.google.com/notebooks/data_table.ipynb>data table notebook</a>'\n",
              "            + ' to learn more about interactive tables.';\n",
              "          element.innerHTML = '';\n",
              "          dataTable['output_type'] = 'display_data';\n",
              "          await google.colab.output.renderOutput(dataTable, element);\n",
              "          const docLink = document.createElement('div');\n",
              "          docLink.innerHTML = docLinkHtml;\n",
              "          element.appendChild(docLink);\n",
              "        }\n",
              "      </script>\n",
              "    </div>\n",
              "  </div>\n",
              "  "
            ]
          },
          "metadata": {},
          "execution_count": 74
        }
      ]
    },
    {
      "cell_type": "code",
      "metadata": {
        "id": "4eyoD1r2dxoq",
        "colab": {
          "base_uri": "https://localhost:8080/",
          "height": 297
        },
        "outputId": "bead10c2-b2b7-42d3-e3f3-ef32c720aedb"
      },
      "source": [
        "# Create a scatterplot of pc1 vs pc2\n",
        "\n",
        "transformed.plot(x='pc1', y='pc2', style='o', ms=1)"
      ],
      "execution_count": 75,
      "outputs": [
        {
          "output_type": "execute_result",
          "data": {
            "text/plain": [
              "<matplotlib.axes._subplots.AxesSubplot at 0x7f49b35192b0>"
            ]
          },
          "metadata": {},
          "execution_count": 75
        },
        {
          "output_type": "display_data",
          "data": {
            "text/plain": [
              "<Figure size 432x288 with 1 Axes>"
            ],
            "image/png": "[encoded data removed]"
          },
          "metadata": {
            "needs_background": "light"
          }
        }
      ]
    },
    {
      "cell_type": "markdown",
      "metadata": {
        "id": "YM7vMz1zaKcS"
      },
      "source": [
        "\n",
        "## Segmentation\n",
        "Using a loop, compute the k-means clustering for $k$ from 2 to 10 segments using the `transformed` dataframe. Store the segment as the column `'seg2'`,`'seg3'`,...,`'seg10'` in the `df_c` dataframe. Make sure you store the inertia metrics in a list called `elbowdata` like in the notes. Create the elbow plot for your k-means clustering. \n",
        "\n",
        "1. How many segments does there appear to be based on the elbow plot?\n",
        "1. Use a loop to plot pc1 vs pc2 for each segment (different color for each segment)\n",
        "1. Use a groupby statement to show the mean of the variables in the raw versions (not z-scores) used to conduct the segmentation. e.g. what are the averages of `['NTrans', 'NProducts', 'TotalSpend', 'AveragePrice', 'SpendPerTrans']`\n",
        "\n",
        "1. In a few sentences, describe what are the characteristics of the resulting segments. Any distinctive segments?\n",
        "\n",
        "**Hints**\n",
        "1. Note here that `k` should be the number of clusters at each iteration of your loop, e.g. `for k in ....` \n",
        "2. `df_c['seg{}'.format(k)]=` your k-means segmentation to create the `'seg2'`, ..., `'seg15'` columns."
      ]
    },
    {
      "cell_type": "code",
      "metadata": {
        "id": "PoySPb11g4Oz"
      },
      "source": [
        "# Write a loop to perform k-means segmentation \n",
        "# on the principal component columns, e.g. pc1 and pc2, in *df_c*\n",
        "# for k from 2 to 10, e.g. for k in range(2,11):\n",
        "# Be sure to save the inertia metric to create the elbowplot\n",
        "# see similar example in notes\n",
        "\n",
        "elbowdata = list()\n",
        "for k in range(2,11):\n",
        "  clusterer = KMeans(n_clusters=k) \n",
        "  df_c[f'b_seg2_{k}'] = clusterer.fit_predict(df_c[['pc1', 'pc2']]) \n",
        "  inertia = clusterer.inertia_\n",
        "  elbowdata.append([k, inertia])\n",
        "\n",
        "\n",
        "\n",
        "\n"
      ],
      "execution_count": 76,
      "outputs": []
    },
    {
      "cell_type": "code",
      "metadata": {
        "id": "dJBzu1CSjpqa",
        "colab": {
          "base_uri": "https://localhost:8080/",
          "height": 235
        },
        "outputId": "af1bb46d-72f6-49c4-a615-b3ba02cb19cf"
      },
      "source": [
        "# preview your dataframe df_c to get an idea of the contents\n",
        "\n",
        "df_c.head()"
      ],
      "execution_count": 77,
      "outputs": [
        {
          "output_type": "execute_result",
          "data": {
            "text/plain": [
              "   CustomerID  NProducts  NTrans  TotalSpend  TotalUnits  AveragePrice  \\\n",
              "0     12346.0          1       1    77183.60       74215      1.040000   \n",
              "1     12347.0        103       7     4310.00        2458      1.753458   \n",
              "2     12348.0         21       4     1437.24        2332      0.616312   \n",
              "3     12349.0         72       1     1457.55         630      2.313571   \n",
              "4     12350.0         16       1      294.40         196      1.502041   \n",
              "\n",
              "   SpendPerTrans  Log_NProducts  Log_NTrans  Log_TotalSpend  ...       pc2  \\\n",
              "0   77183.600000       0.000000    0.000000       11.253942  ...  0.740811   \n",
              "1     615.714286       4.634729    1.945910        8.368693  ...  0.281418   \n",
              "2     359.310000       3.044522    1.386294        7.270480  ... -1.924887   \n",
              "3    1457.550000       4.276666    0.000000        7.284512  ...  0.852119   \n",
              "4     294.400000       2.772589    0.000000        5.684939  ... -0.447156   \n",
              "\n",
              "   b_seg2_2  b_seg2_3  b_seg2_4  b_seg2_5  b_seg2_6  b_seg2_7  b_seg2_8  \\\n",
              "0         0         1         0         3         1         3         1   \n",
              "1         0         1         0         3         1         4         3   \n",
              "2         0         0         1         1         2         0         0   \n",
              "3         0         0         1         1         4         6         5   \n",
              "4         1         2         2         4         5         5         6   \n",
              "\n",
              "   b_seg2_9  b_seg2_10  \n",
              "0         0          9  \n",
              "1         3          0  \n",
              "2         8          8  \n",
              "3         7          5  \n",
              "4         1          1  \n",
              "\n",
              "[5 rows x 24 columns]"
            ],
            "text/html": [
              "\n",
              "  <div id=\"df-e98682af-3fbf-4d66-87ae-9700d387d681\">\n",
              "    <div class=\"colab-df-container\">\n",
              "      <div>\n",
              "<style scoped>\n",
              "    .dataframe tbody tr th:only-of-type {\n",
              "        vertical-align: middle;\n",
              "    }\n",
              "\n",
              "    .dataframe tbody tr th {\n",
              "        vertical-align: top;\n",
              "    }\n",
              "\n",
              "    .dataframe thead th {\n",
              "        text-align: right;\n",
              "    }\n",
              "</style>\n",
              "<table border=\"1\" class=\"dataframe\">\n",
              "  <thead>\n",
              "    <tr style=\"text-align: right;\">\n",
              "      <th></th>\n",
              "      <th>CustomerID</th>\n",
              "      <th>NProducts</th>\n",
              "      <th>NTrans</th>\n",
              "      <th>TotalSpend</th>\n",
              "      <th>TotalUnits</th>\n",
              "      <th>AveragePrice</th>\n",
              "      <th>SpendPerTrans</th>\n",
              "      <th>Log_NProducts</th>\n",
              "      <th>Log_NTrans</th>\n",
              "      <th>Log_TotalSpend</th>\n",
              "      <th>...</th>\n",
              "      <th>pc2</th>\n",
              "      <th>b_seg2_2</th>\n",
              "      <th>b_seg2_3</th>\n",
              "      <th>b_seg2_4</th>\n",
              "      <th>b_seg2_5</th>\n",
              "      <th>b_seg2_6</th>\n",
              "      <th>b_seg2_7</th>\n",
              "      <th>b_seg2_8</th>\n",
              "      <th>b_seg2_9</th>\n",
              "      <th>b_seg2_10</th>\n",
              "    </tr>\n",
              "  </thead>\n",
              "  <tbody>\n",
              "    <tr>\n",
              "      <th>0</th>\n",
              "      <td>12346.0</td>\n",
              "      <td>1</td>\n",
              "      <td>1</td>\n",
              "      <td>77183.60</td>\n",
              "      <td>74215</td>\n",
              "      <td>1.040000</td>\n",
              "      <td>77183.600000</td>\n",
              "      <td>0.000000</td>\n",
              "      <td>0.000000</td>\n",
              "      <td>11.253942</td>\n",
              "      <td>...</td>\n",
              "      <td>0.740811</td>\n",
              "      <td>0</td>\n",
              "      <td>1</td>\n",
              "      <td>0</td>\n",
              "      <td>3</td>\n",
              "      <td>1</td>\n",
              "      <td>3</td>\n",
              "      <td>1</td>\n",
              "      <td>0</td>\n",
              "      <td>9</td>\n",
              "    </tr>\n",
              "    <tr>\n",
              "      <th>1</th>\n",
              "      <td>12347.0</td>\n",
              "      <td>103</td>\n",
              "      <td>7</td>\n",
              "      <td>4310.00</td>\n",
              "      <td>2458</td>\n",
              "      <td>1.753458</td>\n",
              "      <td>615.714286</td>\n",
              "      <td>4.634729</td>\n",
              "      <td>1.945910</td>\n",
              "      <td>8.368693</td>\n",
              "      <td>...</td>\n",
              "      <td>0.281418</td>\n",
              "      <td>0</td>\n",
              "      <td>1</td>\n",
              "      <td>0</td>\n",
              "      <td>3</td>\n",
              "      <td>1</td>\n",
              "      <td>4</td>\n",
              "      <td>3</td>\n",
              "      <td>3</td>\n",
              "      <td>0</td>\n",
              "    </tr>\n",
              "    <tr>\n",
              "      <th>2</th>\n",
              "      <td>12348.0</td>\n",
              "      <td>21</td>\n",
              "      <td>4</td>\n",
              "      <td>1437.24</td>\n",
              "      <td>2332</td>\n",
              "      <td>0.616312</td>\n",
              "      <td>359.310000</td>\n",
              "      <td>3.044522</td>\n",
              "      <td>1.386294</td>\n",
              "      <td>7.270480</td>\n",
              "      <td>...</td>\n",
              "      <td>-1.924887</td>\n",
              "      <td>0</td>\n",
              "      <td>0</td>\n",
              "      <td>1</td>\n",
              "      <td>1</td>\n",
              "      <td>2</td>\n",
              "      <td>0</td>\n",
              "      <td>0</td>\n",
              "      <td>8</td>\n",
              "      <td>8</td>\n",
              "    </tr>\n",
              "    <tr>\n",
              "      <th>3</th>\n",
              "      <td>12349.0</td>\n",
              "      <td>72</td>\n",
              "      <td>1</td>\n",
              "      <td>1457.55</td>\n",
              "      <td>630</td>\n",
              "      <td>2.313571</td>\n",
              "      <td>1457.550000</td>\n",
              "      <td>4.276666</td>\n",
              "      <td>0.000000</td>\n",
              "      <td>7.284512</td>\n",
              "      <td>...</td>\n",
              "      <td>0.852119</td>\n",
              "      <td>0</td>\n",
              "      <td>0</td>\n",
              "      <td>1</td>\n",
              "      <td>1</td>\n",
              "      <td>4</td>\n",
              "      <td>6</td>\n",
              "      <td>5</td>\n",
              "      <td>7</td>\n",
              "      <td>5</td>\n",
              "    </tr>\n",
              "    <tr>\n",
              "      <th>4</th>\n",
              "      <td>12350.0</td>\n",
              "      <td>16</td>\n",
              "      <td>1</td>\n",
              "      <td>294.40</td>\n",
              "      <td>196</td>\n",
              "      <td>1.502041</td>\n",
              "      <td>294.400000</td>\n",
              "      <td>2.772589</td>\n",
              "      <td>0.000000</td>\n",
              "      <td>5.684939</td>\n",
              "      <td>...</td>\n",
              "      <td>-0.447156</td>\n",
              "      <td>1</td>\n",
              "      <td>2</td>\n",
              "      <td>2</td>\n",
              "      <td>4</td>\n",
              "      <td>5</td>\n",
              "      <td>5</td>\n",
              "      <td>6</td>\n",
              "      <td>1</td>\n",
              "      <td>1</td>\n",
              "    </tr>\n",
              "  </tbody>\n",
              "</table>\n",
              "<p>5 rows × 24 columns</p>\n",
              "</div>\n",
              "      <button class=\"colab-df-convert\" onclick=\"convertToInteractive('df-e98682af-3fbf-4d66-87ae-9700d387d681')\"\n",
              "              title=\"Convert this dataframe to an interactive table.\"\n",
              "              style=\"display:none;\">\n",
              "        \n",
              "  <svg xmlns=\"http://www.w3.org/2000/svg\" height=\"24px\"viewBox=\"0 0 24 24\"\n",
              "       width=\"24px\">\n",
              "    <path d=\"M0 0h24v24H0V0z\" fill=\"none\"/>\n",
              "    <path d=\"M18.56 5.44l.94 2.06.94-2.06 2.06-.94-2.06-.94-.94-2.06-.94 2.06-2.06.94zm-11 1L8.5 8.5l.94-2.06 2.06-.94-2.06-.94L8.5 2.5l-.94 2.06-2.06.94zm10 10l.94 2.06.94-2.06 2.06-.94-2.06-.94-.94-2.06-.94 2.06-2.06.94z\"/><path d=\"M17.41 7.96l-1.37-1.37c-.4-.4-.92-.59-1.43-.59-.52 0-1.04.2-1.43.59L10.3 9.45l-7.72 7.72c-.78.78-.78 2.05 0 2.83L4 21.41c.39.39.9.59 1.41.59.51 0 1.02-.2 1.41-.59l7.78-7.78 2.81-2.81c.8-.78.8-2.07 0-2.86zM5.41 20L4 18.59l7.72-7.72 1.47 1.35L5.41 20z\"/>\n",
              "  </svg>\n",
              "      </button>\n",
              "      \n",
              "  <style>\n",
              "    .colab-df-container {\n",
              "      display:flex;\n",
              "      flex-wrap:wrap;\n",
              "      gap: 12px;\n",
              "    }\n",
              "\n",
              "    .colab-df-convert {\n",
              "      background-color: #E8F0FE;\n",
              "      border: none;\n",
              "      border-radius: 50%;\n",
              "      cursor: pointer;\n",
              "      display: none;\n",
              "      fill: #1967D2;\n",
              "      height: 32px;\n",
              "      padding: 0 0 0 0;\n",
              "      width: 32px;\n",
              "    }\n",
              "\n",
              "    .colab-df-convert:hover {\n",
              "      background-color: #E2EBFA;\n",
              "      box-shadow: 0px 1px 2px rgba(60, 64, 67, 0.3), 0px 1px 3px 1px rgba(60, 64, 67, 0.15);\n",
              "      fill: #174EA6;\n",
              "    }\n",
              "\n",
              "    [theme=dark] .colab-df-convert {\n",
              "      background-color: #3B4455;\n",
              "      fill: #D2E3FC;\n",
              "    }\n",
              "\n",
              "    [theme=dark] .colab-df-convert:hover {\n",
              "      background-color: #434B5C;\n",
              "      box-shadow: 0px 1px 3px 1px rgba(0, 0, 0, 0.15);\n",
              "      filter: drop-shadow(0px 1px 2px rgba(0, 0, 0, 0.3));\n",
              "      fill: #FFFFFF;\n",
              "    }\n",
              "  </style>\n",
              "\n",
              "      <script>\n",
              "        const buttonEl =\n",
              "          document.querySelector('#df-e98682af-3fbf-4d66-87ae-9700d387d681 button.colab-df-convert');\n",
              "        buttonEl.style.display =\n",
              "          google.colab.kernel.accessAllowed ? 'block' : 'none';\n",
              "\n",
              "        async function convertToInteractive(key) {\n",
              "          const element = document.querySelector('#df-e98682af-3fbf-4d66-87ae-9700d387d681');\n",
              "          const dataTable =\n",
              "            await google.colab.kernel.invokeFunction('convertToInteractive',\n",
              "                                                     [key], {});\n",
              "          if (!dataTable) return;\n",
              "\n",
              "          const docLinkHtml = 'Like what you see? Visit the ' +\n",
              "            '<a target=\"_blank\" href=https://colab.research.google.com/notebooks/data_table.ipynb>data table notebook</a>'\n",
              "            + ' to learn more about interactive tables.';\n",
              "          element.innerHTML = '';\n",
              "          dataTable['output_type'] = 'display_data';\n",
              "          await google.colab.output.renderOutput(dataTable, element);\n",
              "          const docLink = document.createElement('div');\n",
              "          docLink.innerHTML = docLinkHtml;\n",
              "          element.appendChild(docLink);\n",
              "        }\n",
              "      </script>\n",
              "    </div>\n",
              "  </div>\n",
              "  "
            ]
          },
          "metadata": {},
          "execution_count": 77
        }
      ]
    },
    {
      "cell_type": "markdown",
      "metadata": {
        "id": "LAGmDztOj8fo"
      },
      "source": [
        "**Answer this**\n",
        "What does each of the segk (for k =1,...,10) columns represent?\n",
        "\n",
        "1. Answer: The cluster to which each customer belongs when running k-means with k clusters."
      ]
    },
    {
      "cell_type": "code",
      "metadata": {
        "id": "b8f-xQZHhur2",
        "colab": {
          "base_uri": "https://localhost:8080/",
          "height": 297
        },
        "outputId": "ce075f52-91f2-4680-ab8d-6682fe97c350"
      },
      "source": [
        "# Create the elbow plot\n",
        "\n",
        "elbowdata = pd.DataFrame(elbowdata, columns = ['k', 'inertia'])\n",
        "elbowdata.plot(x='k', y='inertia')"
      ],
      "execution_count": 78,
      "outputs": [
        {
          "output_type": "execute_result",
          "data": {
            "text/plain": [
              "<matplotlib.axes._subplots.AxesSubplot at 0x7f49b3425fa0>"
            ]
          },
          "metadata": {},
          "execution_count": 78
        },
        {
          "output_type": "display_data",
          "data": {
            "text/plain": [
              "<Figure size 432x288 with 1 Axes>"
            ],
            "image/png": "[encoded data removed]"
          },
          "metadata": {
            "needs_background": "light"
          }
        }
      ]
    },
    {
      "cell_type": "markdown",
      "metadata": {
        "id": "Kmh4Hzbpir6H"
      },
      "source": [
        "**Answer this**\n",
        "Based on the eyeball test, where is the \"elbow\"? i.e. how many clusters seems the \"right\" number\n",
        "1. Answer: Probably 3"
      ]
    },
    {
      "cell_type": "markdown",
      "metadata": {
        "id": "KPpc9erki3_R"
      },
      "source": [
        "## Inspect segments"
      ]
    },
    {
      "cell_type": "code",
      "metadata": {
        "id": "0HopXsWkjepu",
        "colab": {
          "base_uri": "https://localhost:8080/",
          "height": 265
        },
        "outputId": "fb0aa7a1-8693-496c-f229-d55c3890d662"
      },
      "source": [
        "# Write a loop through each of the segments in your optimal KMeans cluster \n",
        "# and plot pc1 vs pc2 for that segment\n",
        "# similar to plotting price vs demand for each region of avocados dataset\n",
        "# use dot size 1\n",
        "# e.g.\n",
        "# for s in df_c['segk'].unique():\n",
        "#     temp = df_c[df_c['segk'] == s]\n",
        "#     plt.scatter(temp.pc1, temp.pc2, s = 1)\n",
        "# where segk is whichever KMeans result you deemed optimal based on previous elbow plot \n",
        "\n",
        "segk = 'b_seg2_3'\n",
        "\n",
        "for s in df_c[segk].unique():\n",
        "    temp = df_c[df_c[segk] == s]\n",
        "    plt.scatter(temp.pc1, temp.pc2, s = 1)\n",
        "\n",
        "\n"
      ],
      "execution_count": 81,
      "outputs": [
        {
          "output_type": "display_data",
          "data": {
            "text/plain": [
              "<Figure size 432x288 with 1 Axes>"
            ],
            "image/png": "[encoded data removed]"
          },
          "metadata": {
            "needs_background": "light"
          }
        }
      ]
    },
    {
      "cell_type": "markdown",
      "metadata": {
        "id": "3TTVE4COi8Dp"
      },
      "source": [
        "Compute the average of: \n",
        "```\n",
        "NTrans\tNProducts\tTotalSpend\tTotalUnits\tAveragePrice SpendPerTrans\n",
        "```\n",
        "For each segment of the optimal KMeans segmentation (optimal being the k you found above in elbow plot).\n",
        "\n",
        "Since these variables in df_c have been log-transformed, use np.exp(the appropriate groupby + mean statement) to take the exponent of the resulting means, i.e. \"undo\" the log-transformation.\n",
        "\n",
        "e.g. np.exp(df.groupby('grpvar')[['var1', 'var2','var3',...,etc.]].mean())"
      ]
    },
    {
      "cell_type": "code",
      "metadata": {
        "id": "xAwQEioMjcw9",
        "colab": {
          "base_uri": "https://localhost:8080/",
          "height": 175
        },
        "outputId": "2d24b573-a335-4270-dc37-99b01d37db45"
      },
      "source": [
        "# segment averages\n",
        "\n",
        "# I know that since I didnt override the previous values I could use them, but filtering for log is easier than filtering for not-log and some other cases\n",
        "log_cols = [i for i in df_c.columns if i[:3] == 'Log']\n",
        "np.exp(df_c.groupby(segk)[log_cols].mean())\n"
      ],
      "execution_count": 82,
      "outputs": [
        {
          "output_type": "execute_result",
          "data": {
            "text/plain": [
              "          Log_NProducts  Log_NTrans  Log_TotalSpend  Log_TotalUnits  \\\n",
              "b_seg2_3                                                              \n",
              "0             35.128961    2.173903      651.997098      402.504288   \n",
              "1            104.895054    7.146645     3358.345801     1950.205613   \n",
              "2              9.402644    1.219312      188.284833       82.630276   \n",
              "\n",
              "          Log_AveragePrice  Log_SpendPerTrans  \n",
              "b_seg2_3                                       \n",
              "0                 1.619851         299.920101  \n",
              "1                 1.722047         469.919227  \n",
              "2                 2.278642         154.418882  "
            ],
            "text/html": [
              "\n",
              "  <div id=\"df-a05f329c-1137-4c6e-a49a-39df242a83f7\">\n",
              "    <div class=\"colab-df-container\">\n",
              "      <div>\n",
              "<style scoped>\n",
              "    .dataframe tbody tr th:only-of-type {\n",
              "        vertical-align: middle;\n",
              "    }\n",
              "\n",
              "    .dataframe tbody tr th {\n",
              "        vertical-align: top;\n",
              "    }\n",
              "\n",
              "    .dataframe thead th {\n",
              "        text-align: right;\n",
              "    }\n",
              "</style>\n",
              "<table border=\"1\" class=\"dataframe\">\n",
              "  <thead>\n",
              "    <tr style=\"text-align: right;\">\n",
              "      <th></th>\n",
              "      <th>Log_NProducts</th>\n",
              "      <th>Log_NTrans</th>\n",
              "      <th>Log_TotalSpend</th>\n",
              "      <th>Log_TotalUnits</th>\n",
              "      <th>Log_AveragePrice</th>\n",
              "      <th>Log_SpendPerTrans</th>\n",
              "    </tr>\n",
              "    <tr>\n",
              "      <th>b_seg2_3</th>\n",
              "      <th></th>\n",
              "      <th></th>\n",
              "      <th></th>\n",
              "      <th></th>\n",
              "      <th></th>\n",
              "      <th></th>\n",
              "    </tr>\n",
              "  </thead>\n",
              "  <tbody>\n",
              "    <tr>\n",
              "      <th>0</th>\n",
              "      <td>35.128961</td>\n",
              "      <td>2.173903</td>\n",
              "      <td>651.997098</td>\n",
              "      <td>402.504288</td>\n",
              "      <td>1.619851</td>\n",
              "      <td>299.920101</td>\n",
              "    </tr>\n",
              "    <tr>\n",
              "      <th>1</th>\n",
              "      <td>104.895054</td>\n",
              "      <td>7.146645</td>\n",
              "      <td>3358.345801</td>\n",
              "      <td>1950.205613</td>\n",
              "      <td>1.722047</td>\n",
              "      <td>469.919227</td>\n",
              "    </tr>\n",
              "    <tr>\n",
              "      <th>2</th>\n",
              "      <td>9.402644</td>\n",
              "      <td>1.219312</td>\n",
              "      <td>188.284833</td>\n",
              "      <td>82.630276</td>\n",
              "      <td>2.278642</td>\n",
              "      <td>154.418882</td>\n",
              "    </tr>\n",
              "  </tbody>\n",
              "</table>\n",
              "</div>\n",
              "      <button class=\"colab-df-convert\" onclick=\"convertToInteractive('df-a05f329c-1137-4c6e-a49a-39df242a83f7')\"\n",
              "              title=\"Convert this dataframe to an interactive table.\"\n",
              "              style=\"display:none;\">\n",
              "        \n",
              "  <svg xmlns=\"http://www.w3.org/2000/svg\" height=\"24px\"viewBox=\"0 0 24 24\"\n",
              "       width=\"24px\">\n",
              "    <path d=\"M0 0h24v24H0V0z\" fill=\"none\"/>\n",
              "    <path d=\"M18.56 5.44l.94 2.06.94-2.06 2.06-.94-2.06-.94-.94-2.06-.94 2.06-2.06.94zm-11 1L8.5 8.5l.94-2.06 2.06-.94-2.06-.94L8.5 2.5l-.94 2.06-2.06.94zm10 10l.94 2.06.94-2.06 2.06-.94-2.06-.94-.94-2.06-.94 2.06-2.06.94z\"/><path d=\"M17.41 7.96l-1.37-1.37c-.4-.4-.92-.59-1.43-.59-.52 0-1.04.2-1.43.59L10.3 9.45l-7.72 7.72c-.78.78-.78 2.05 0 2.83L4 21.41c.39.39.9.59 1.41.59.51 0 1.02-.2 1.41-.59l7.78-7.78 2.81-2.81c.8-.78.8-2.07 0-2.86zM5.41 20L4 18.59l7.72-7.72 1.47 1.35L5.41 20z\"/>\n",
              "  </svg>\n",
              "      </button>\n",
              "      \n",
              "  <style>\n",
              "    .colab-df-container {\n",
              "      display:flex;\n",
              "      flex-wrap:wrap;\n",
              "      gap: 12px;\n",
              "    }\n",
              "\n",
              "    .colab-df-convert {\n",
              "      background-color: #E8F0FE;\n",
              "      border: none;\n",
              "      border-radius: 50%;\n",
              "      cursor: pointer;\n",
              "      display: none;\n",
              "      fill: #1967D2;\n",
              "      height: 32px;\n",
              "      padding: 0 0 0 0;\n",
              "      width: 32px;\n",
              "    }\n",
              "\n",
              "    .colab-df-convert:hover {\n",
              "      background-color: #E2EBFA;\n",
              "      box-shadow: 0px 1px 2px rgba(60, 64, 67, 0.3), 0px 1px 3px 1px rgba(60, 64, 67, 0.15);\n",
              "      fill: #174EA6;\n",
              "    }\n",
              "\n",
              "    [theme=dark] .colab-df-convert {\n",
              "      background-color: #3B4455;\n",
              "      fill: #D2E3FC;\n",
              "    }\n",
              "\n",
              "    [theme=dark] .colab-df-convert:hover {\n",
              "      background-color: #434B5C;\n",
              "      box-shadow: 0px 1px 3px 1px rgba(0, 0, 0, 0.15);\n",
              "      filter: drop-shadow(0px 1px 2px rgba(0, 0, 0, 0.3));\n",
              "      fill: #FFFFFF;\n",
              "    }\n",
              "  </style>\n",
              "\n",
              "      <script>\n",
              "        const buttonEl =\n",
              "          document.querySelector('#df-a05f329c-1137-4c6e-a49a-39df242a83f7 button.colab-df-convert');\n",
              "        buttonEl.style.display =\n",
              "          google.colab.kernel.accessAllowed ? 'block' : 'none';\n",
              "\n",
              "        async function convertToInteractive(key) {\n",
              "          const element = document.querySelector('#df-a05f329c-1137-4c6e-a49a-39df242a83f7');\n",
              "          const dataTable =\n",
              "            await google.colab.kernel.invokeFunction('convertToInteractive',\n",
              "                                                     [key], {});\n",
              "          if (!dataTable) return;\n",
              "\n",
              "          const docLinkHtml = 'Like what you see? Visit the ' +\n",
              "            '<a target=\"_blank\" href=https://colab.research.google.com/notebooks/data_table.ipynb>data table notebook</a>'\n",
              "            + ' to learn more about interactive tables.';\n",
              "          element.innerHTML = '';\n",
              "          dataTable['output_type'] = 'display_data';\n",
              "          await google.colab.output.renderOutput(dataTable, element);\n",
              "          const docLink = document.createElement('div');\n",
              "          docLink.innerHTML = docLinkHtml;\n",
              "          element.appendChild(docLink);\n",
              "        }\n",
              "      </script>\n",
              "    </div>\n",
              "  </div>\n",
              "  "
            ]
          },
          "metadata": {},
          "execution_count": 82
        }
      ]
    },
    {
      "cell_type": "markdown",
      "metadata": {
        "id": "5EpCCf8yaNid"
      },
      "source": [
        "**Answer questions below**\n",
        "1. Which segment buys the most expensive items?\n",
        "    * Answer: 2\n",
        "1. Which segment spends the most? \n",
        "    * Answer: 1\n",
        "1. Which segment buys the most variety of products?\n",
        "    * Answer: 1\n",
        "1. Which segment buys the  least variety of products?\n",
        "    * Answer: 2\n",
        "1. Are there any segments that seem like they should be combined?\n",
        "    * Answer: Not really\n",
        "1. Suppose you want to run some promotions that will get customers to spend more. Pick 2 of the segments that are very different and describe a hypothetical promotional campaign targeted at each (e.g. could be some kind discount with a min. spend qualification, or maybe some kind of a volume discount, etc. - be creative). Explain why each campaign might be a better fit for the targeted segment.\n",
        "    * Answer: Segment 1 seems to be made up by bulk buyers, while segment 2 seems to be made up by quality buyers. For segment 1 customers we could offer a coupon that for every $500 they spend, they get a $80 dollar coupon. Meanwhile, for segment 2 customers, we could offer quaility bundles: a phone case for the purchase of a phone, a free waranty after the purchase of an electronic device, etc."
      ]
    }
  ]
}