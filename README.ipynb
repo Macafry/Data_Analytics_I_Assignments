{
  "nbformat": 4,
  "nbformat_minor": 0,
  "metadata": {
    "colab": {
      "provenance": []
    },
    "kernelspec": {
      "name": "python3",
      "display_name": "Python 3"
    },
    "language_info": {
      "name": "python"
    }
  },
  "cells": [
    {
      "cell_type": "markdown",
      "metadata": {
        "id": "5AZfR_omqlDv"
      },
      "source": [
        "The following is the markdown syntax used to create the README file on the [example GitHub repository](https://github.com/alexanderresearch/Analytics). You can be creative in terms of the format and content of the README file (e.g., add more sections and some figures), but it must include the following elements at a minimum:\n",
        "\n",
        "1. A brief introduction of what this portfolio is about.\n",
        "2. A clickable URL link to the markdown CV you created in Assignment 1.\n",
        "3. A table of contents of assignments you have completed, with links to the Jupyter Notebooks of some assignments (at least 1)."
      ]
    },
    {
      "cell_type": "markdown",
      "metadata": {
        "id": "OHyAYOWNp68G"
      },
      "source": [
        "# Data Analytics Portfolio\n",
        "This is the portfolio of all class assignments I have completed in Data Analytics. \n",
        "\n",
        "## My Résumé\n",
        "- [Résumé](https://colab.research.google.com/drive/1aBzDAUN9bSUWgXZ94pIkYyH1BAwwGcwB?usp=sharing)\n",
        "\n",
        "## Table of Contents\n",
        "1. **Module 1: Using Colab**\n",
        "   - A1: [Markdown CV](https://github.com/Macafry/Data_Analytics_I_Assignments/blob/182d4431bde9639ee9850c20f213e0c0173d93fe/Assignments/A1_Ian_Mc_Farlane.ipynb)\n",
        "   \n",
        "2. **Module 2: Fundamentals of Programming for Data Analysis**\n",
        "   - A2: [Programming Fundamentals](https://github.com/Macafry/Data_Analytics_I_Assignments/blob/182d4431bde9639ee9850c20f213e0c0173d93fe/Assignments/A2_Ian_Mc_Farlane.ipynb)\n",
        "   \n",
        "3. **Module 3: Working with Data**\n",
        "   - A3: [Work with data Yelp Reviews](https://github.com/Macafry/Data_Analytics_I_Assignments/blob/182d4431bde9639ee9850c20f213e0c0173d93fe/Assignments/A3_Ian_Mc_Farlane.ipynb)\n",
        "  \n",
        "4. **Module 4: Stats review**\n",
        "   - A4: [Hypothesis testing - FB ads and Starbucks promos](https://github.com/Macafry/Data_Analytics_I_Assignments/blob/182d4431bde9639ee9850c20f213e0c0173d93fe/Assignments/A4_Ian_Mc_Farlane.ipynb)\n",
        "\n",
        "5. **Module 5: Regression**\n",
        "   - A5: [Regression Analysis](https://github.com/Macafry/Data_Analytics_I_Assignments/blob/182d4431bde9639ee9850c20f213e0c0173d93fe/Assignments/A5_Ian_Mc_Farlane.ipynb)\n",
        "\n",
        "6. **Module 6: Clustering and Segmentation**\n",
        "   - A6: [Segmentation (retail transactions and behavioral segmentation)](https://github.com/Macafry/Data_Analytics_I_Assignments/blob/182d4431bde9639ee9850c20f213e0c0173d93fe/Assignments/A6_Ian_Mc_Farlane.ipynb)\n",
        "   \n",
        "7. **Module 7: Use GitHub to Create Your Assignment Portfolio**\n",
        "    - A7 [List Your Data Analytics Skills](https://github.com/Macafry/Data_Analytics_I_Assignments/blob/main/README.ipynb)\n",
        "  \n",
        "\n"
      ]
    },
    {
      "cell_type": "code",
      "metadata": {
        "id": "064zoU2yp-IJ"
      },
      "source": [],
      "execution_count": null,
      "outputs": []
    }
  ]
}
